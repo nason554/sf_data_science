{
  "cells": [
    {
      "cell_type": "markdown",
      "metadata": {
        "colab_type": "text",
        "id": "view-in-github"
      },
      "source": [
        "<a href=\"https://colab.research.google.com/github/nason554/sf_data_science/blob/main/40_PYT_Feature_Engineering.ipynb\" target=\"_parent\"><img src=\"https://colab.research.google.com/assets/colab-badge.svg\" alt=\"Open In Colab\"/></a>"
      ]
    },
    {
      "cell_type": "code",
      "execution_count": 2,
      "metadata": {
        "id": "saE0q7oejnHE"
      },
      "outputs": [],
      "source": [
        "import pandas as pd\n",
        "import numpy as np"
      ]
    },
    {
      "cell_type": "code",
      "execution_count": 3,
      "metadata": {
        "colab": {
          "base_uri": "https://localhost:8080/",
          "height": 206
        },
        "id": "OF0aggC_dprf",
        "outputId": "cd782f95-f853-439b-f24d-5f5487646eb4"
      },
      "outputs": [
        {
          "data": {
            "text/html": [
              "<div>\n",
              "<style scoped>\n",
              "    .dataframe tbody tr th:only-of-type {\n",
              "        vertical-align: middle;\n",
              "    }\n",
              "\n",
              "    .dataframe tbody tr th {\n",
              "        vertical-align: top;\n",
              "    }\n",
              "\n",
              "    .dataframe thead th {\n",
              "        text-align: right;\n",
              "    }\n",
              "</style>\n",
              "<table border=\"1\" class=\"dataframe\">\n",
              "  <thead>\n",
              "    <tr style=\"text-align: right;\">\n",
              "      <th></th>\n",
              "      <th>user_id</th>\n",
              "      <th>time</th>\n",
              "      <th>bet</th>\n",
              "      <th>win</th>\n",
              "    </tr>\n",
              "  </thead>\n",
              "  <tbody>\n",
              "    <tr>\n",
              "      <th>0</th>\n",
              "      <td>False</td>\n",
              "      <td>False</td>\n",
              "      <td>True</td>\n",
              "      <td>True</td>\n",
              "    </tr>\n",
              "    <tr>\n",
              "      <th>1</th>\n",
              "      <td>False</td>\n",
              "      <td>False</td>\n",
              "      <td>True</td>\n",
              "      <td>True</td>\n",
              "    </tr>\n",
              "    <tr>\n",
              "      <th>2</th>\n",
              "      <td>False</td>\n",
              "      <td>False</td>\n",
              "      <td>True</td>\n",
              "      <td>True</td>\n",
              "    </tr>\n",
              "    <tr>\n",
              "      <th>3</th>\n",
              "      <td>False</td>\n",
              "      <td>False</td>\n",
              "      <td>True</td>\n",
              "      <td>True</td>\n",
              "    </tr>\n",
              "    <tr>\n",
              "      <th>4</th>\n",
              "      <td>False</td>\n",
              "      <td>False</td>\n",
              "      <td>True</td>\n",
              "      <td>True</td>\n",
              "    </tr>\n",
              "  </tbody>\n",
              "</table>\n",
              "</div>"
            ],
            "text/plain": [
              "   user_id   time   bet   win\n",
              "0    False  False  True  True\n",
              "1    False  False  True  True\n",
              "2    False  False  True  True\n",
              "3    False  False  True  True\n",
              "4    False  False  True  True"
            ]
          },
          "execution_count": 3,
          "metadata": {},
          "output_type": "execute_result"
        }
      ],
      "source": [
        "log = pd.read_csv('csv_files/log.csv', header = None)\n",
        "log.columns = ['user_id','time', 'bet','win']\n",
        "log.head().isna() "
      ]
    },
    {
      "cell_type": "code",
      "execution_count": 4,
      "metadata": {
        "colab": {
          "base_uri": "https://localhost:8080/"
        },
        "id": "WCLsnNJQBG2d",
        "outputId": "e7d7b25d-a869-4a13-e07b-d63fecdf003e"
      },
      "outputs": [
        {
          "data": {
            "text/plain": [
              "True     862\n",
              "False    138\n",
              "Name: win, dtype: int64"
            ]
          },
          "execution_count": 4,
          "metadata": {},
          "output_type": "execute_result"
        }
      ],
      "source": [
        "df = log.win.isna()\n",
        "df.value_counts()"
      ]
    },
    {
      "cell_type": "code",
      "execution_count": 5,
      "metadata": {
        "colab": {
          "base_uri": "https://localhost:8080/",
          "height": 424
        },
        "id": "YIjtBbSmXAAq",
        "outputId": "66877f2d-6d67-4bdf-adf8-1a94c44dd102"
      },
      "outputs": [
        {
          "data": {
            "text/html": [
              "<div>\n",
              "<style scoped>\n",
              "    .dataframe tbody tr th:only-of-type {\n",
              "        vertical-align: middle;\n",
              "    }\n",
              "\n",
              "    .dataframe tbody tr th {\n",
              "        vertical-align: top;\n",
              "    }\n",
              "\n",
              "    .dataframe thead th {\n",
              "        text-align: right;\n",
              "    }\n",
              "</style>\n",
              "<table border=\"1\" class=\"dataframe\">\n",
              "  <thead>\n",
              "    <tr style=\"text-align: right;\">\n",
              "      <th></th>\n",
              "      <th>user_id</th>\n",
              "    </tr>\n",
              "  </thead>\n",
              "  <tbody>\n",
              "    <tr>\n",
              "      <th>0</th>\n",
              "      <td>Запись пользователя № - user_919</td>\n",
              "    </tr>\n",
              "    <tr>\n",
              "      <th>1</th>\n",
              "      <td>Запись пользователя № - user_973</td>\n",
              "    </tr>\n",
              "    <tr>\n",
              "      <th>2</th>\n",
              "      <td>Запись пользователя № - user_903</td>\n",
              "    </tr>\n",
              "    <tr>\n",
              "      <th>3</th>\n",
              "      <td>Запись пользователя № - user_954</td>\n",
              "    </tr>\n",
              "    <tr>\n",
              "      <th>4</th>\n",
              "      <td>Запись пользователя № - user_954</td>\n",
              "    </tr>\n",
              "    <tr>\n",
              "      <th>...</th>\n",
              "      <td>...</td>\n",
              "    </tr>\n",
              "    <tr>\n",
              "      <th>995</th>\n",
              "      <td>Запись пользователя № - user_984</td>\n",
              "    </tr>\n",
              "    <tr>\n",
              "      <th>996</th>\n",
              "      <td>#error</td>\n",
              "    </tr>\n",
              "    <tr>\n",
              "      <th>997</th>\n",
              "      <td>#error</td>\n",
              "    </tr>\n",
              "    <tr>\n",
              "      <th>998</th>\n",
              "      <td>#error</td>\n",
              "    </tr>\n",
              "    <tr>\n",
              "      <th>999</th>\n",
              "      <td>#error</td>\n",
              "    </tr>\n",
              "  </tbody>\n",
              "</table>\n",
              "<p>1000 rows × 1 columns</p>\n",
              "</div>"
            ],
            "text/plain": [
              "                              user_id\n",
              "0    Запись пользователя № - user_919\n",
              "1    Запись пользователя № - user_973\n",
              "2    Запись пользователя № - user_903\n",
              "3    Запись пользователя № - user_954\n",
              "4    Запись пользователя № - user_954\n",
              "..                                ...\n",
              "995  Запись пользователя № - user_984\n",
              "996                            #error\n",
              "997                            #error\n",
              "998                            #error\n",
              "999                            #error\n",
              "\n",
              "[1000 rows x 1 columns]"
            ]
          },
          "execution_count": 5,
          "metadata": {},
          "output_type": "execute_result"
        }
      ],
      "source": [
        "#Сколько в датасете столбцов без пропусков?\n",
        "log.dropna(axis = 1)\n",
        "#1"
      ]
    },
    {
      "cell_type": "code",
      "execution_count": 6,
      "metadata": {
        "colab": {
          "base_uri": "https://localhost:8080/",
          "height": 424
        },
        "id": "seq0tl-kWdwp",
        "outputId": "efcdc7d7-a9a8-4d3c-8e8c-ad89d7819bcf"
      },
      "outputs": [
        {
          "data": {
            "text/html": [
              "<div>\n",
              "<style scoped>\n",
              "    .dataframe tbody tr th:only-of-type {\n",
              "        vertical-align: middle;\n",
              "    }\n",
              "\n",
              "    .dataframe tbody tr th {\n",
              "        vertical-align: top;\n",
              "    }\n",
              "\n",
              "    .dataframe thead th {\n",
              "        text-align: right;\n",
              "    }\n",
              "</style>\n",
              "<table border=\"1\" class=\"dataframe\">\n",
              "  <thead>\n",
              "    <tr style=\"text-align: right;\">\n",
              "      <th></th>\n",
              "      <th>user_id</th>\n",
              "      <th>time</th>\n",
              "      <th>bet</th>\n",
              "      <th>win</th>\n",
              "    </tr>\n",
              "  </thead>\n",
              "  <tbody>\n",
              "    <tr>\n",
              "      <th>14</th>\n",
              "      <td>Запись пользователя № - user_917</td>\n",
              "      <td>[2019-01-02 8:57:36</td>\n",
              "      <td>145732.0</td>\n",
              "      <td>1987653.0</td>\n",
              "    </tr>\n",
              "    <tr>\n",
              "      <th>29</th>\n",
              "      <td>Запись пользователя № - user_942</td>\n",
              "      <td>[2019-01-04 13:59:42</td>\n",
              "      <td>1678321.0</td>\n",
              "      <td>9876543.0</td>\n",
              "    </tr>\n",
              "    <tr>\n",
              "      <th>151</th>\n",
              "      <td>Запись пользователя № - user_982</td>\n",
              "      <td>[2019-01-16 21:54:22</td>\n",
              "      <td>100.0</td>\n",
              "      <td>4749.0</td>\n",
              "    </tr>\n",
              "    <tr>\n",
              "      <th>189</th>\n",
              "      <td>Запись пользователя № - user_964</td>\n",
              "      <td>[2019-01-21 18:34:44</td>\n",
              "      <td>200.0</td>\n",
              "      <td>4667.0</td>\n",
              "    </tr>\n",
              "    <tr>\n",
              "      <th>205</th>\n",
              "      <td>Запись пользователя № - user_931</td>\n",
              "      <td>[2019-01-22 5:26:59</td>\n",
              "      <td>300.0</td>\n",
              "      <td>4319.0</td>\n",
              "    </tr>\n",
              "    <tr>\n",
              "      <th>...</th>\n",
              "      <td>...</td>\n",
              "      <td>...</td>\n",
              "      <td>...</td>\n",
              "      <td>...</td>\n",
              "    </tr>\n",
              "    <tr>\n",
              "      <th>967</th>\n",
              "      <td>Запись пользователя № - user_975</td>\n",
              "      <td>[2019-04-19 22:25:15</td>\n",
              "      <td>1000.0</td>\n",
              "      <td>6108.0</td>\n",
              "    </tr>\n",
              "    <tr>\n",
              "      <th>971</th>\n",
              "      <td>Запись пользователя № - user_912</td>\n",
              "      <td>[2019-04-20 10:35:49</td>\n",
              "      <td>10554.0</td>\n",
              "      <td>31799.0</td>\n",
              "    </tr>\n",
              "    <tr>\n",
              "      <th>972</th>\n",
              "      <td>Запись пользователя № - user_926</td>\n",
              "      <td>[2019-04-20 10:35:50</td>\n",
              "      <td>10354.0</td>\n",
              "      <td>30244.0</td>\n",
              "    </tr>\n",
              "    <tr>\n",
              "      <th>976</th>\n",
              "      <td>Запись пользователя № - user_970</td>\n",
              "      <td>[2019-04-20 10:35:54</td>\n",
              "      <td>10354.0</td>\n",
              "      <td>30691.0</td>\n",
              "    </tr>\n",
              "    <tr>\n",
              "      <th>991</th>\n",
              "      <td>Запись пользователя № - user_965</td>\n",
              "      <td>[2019-04-20 12:55:41</td>\n",
              "      <td>800.0</td>\n",
              "      <td>6927.0</td>\n",
              "    </tr>\n",
              "  </tbody>\n",
              "</table>\n",
              "<p>133 rows × 4 columns</p>\n",
              "</div>"
            ],
            "text/plain": [
              "                              user_id                  time        bet  \\\n",
              "14   Запись пользователя № - user_917   [2019-01-02 8:57:36   145732.0   \n",
              "29   Запись пользователя № - user_942  [2019-01-04 13:59:42  1678321.0   \n",
              "151  Запись пользователя № - user_982  [2019-01-16 21:54:22      100.0   \n",
              "189  Запись пользователя № - user_964  [2019-01-21 18:34:44      200.0   \n",
              "205  Запись пользователя № - user_931   [2019-01-22 5:26:59      300.0   \n",
              "..                                ...                   ...        ...   \n",
              "967  Запись пользователя № - user_975  [2019-04-19 22:25:15     1000.0   \n",
              "971  Запись пользователя № - user_912  [2019-04-20 10:35:49    10554.0   \n",
              "972  Запись пользователя № - user_926  [2019-04-20 10:35:50    10354.0   \n",
              "976  Запись пользователя № - user_970  [2019-04-20 10:35:54    10354.0   \n",
              "991  Запись пользователя № - user_965  [2019-04-20 12:55:41      800.0   \n",
              "\n",
              "           win  \n",
              "14   1987653.0  \n",
              "29   9876543.0  \n",
              "151     4749.0  \n",
              "189     4667.0  \n",
              "205     4319.0  \n",
              "..         ...  \n",
              "967     6108.0  \n",
              "971    31799.0  \n",
              "972    30244.0  \n",
              "976    30691.0  \n",
              "991     6927.0  \n",
              "\n",
              "[133 rows x 4 columns]"
            ]
          },
          "execution_count": 6,
          "metadata": {},
          "output_type": "execute_result"
        }
      ],
      "source": [
        "#Сколько в датасете строк без пропусков?\n",
        "log.dropna(axis = 0)\n",
        "#133"
      ]
    },
    {
      "cell_type": "code",
      "execution_count": 7,
      "metadata": {
        "colab": {
          "base_uri": "https://localhost:8080/",
          "height": 424
        },
        "id": "2Yo32NHvXZOQ",
        "outputId": "a49eb3df-40b7-48ce-fb11-8593cb2ecc02"
      },
      "outputs": [
        {
          "data": {
            "text/html": [
              "<div>\n",
              "<style scoped>\n",
              "    .dataframe tbody tr th:only-of-type {\n",
              "        vertical-align: middle;\n",
              "    }\n",
              "\n",
              "    .dataframe tbody tr th {\n",
              "        vertical-align: top;\n",
              "    }\n",
              "\n",
              "    .dataframe thead th {\n",
              "        text-align: right;\n",
              "    }\n",
              "</style>\n",
              "<table border=\"1\" class=\"dataframe\">\n",
              "  <thead>\n",
              "    <tr style=\"text-align: right;\">\n",
              "      <th></th>\n",
              "      <th>user_id</th>\n",
              "      <th>time</th>\n",
              "      <th>bet</th>\n",
              "      <th>win</th>\n",
              "    </tr>\n",
              "  </thead>\n",
              "  <tbody>\n",
              "    <tr>\n",
              "      <th>0</th>\n",
              "      <td>Запись пользователя № - user_919</td>\n",
              "      <td>[2019-01-01 14:06:51</td>\n",
              "      <td>NaN</td>\n",
              "      <td>NaN</td>\n",
              "    </tr>\n",
              "    <tr>\n",
              "      <th>1</th>\n",
              "      <td>Запись пользователя № - user_973</td>\n",
              "      <td>[2019-01-01 14:51:16</td>\n",
              "      <td>NaN</td>\n",
              "      <td>NaN</td>\n",
              "    </tr>\n",
              "    <tr>\n",
              "      <th>2</th>\n",
              "      <td>Запись пользователя № - user_903</td>\n",
              "      <td>[2019-01-01 16:31:16</td>\n",
              "      <td>NaN</td>\n",
              "      <td>NaN</td>\n",
              "    </tr>\n",
              "    <tr>\n",
              "      <th>3</th>\n",
              "      <td>Запись пользователя № - user_954</td>\n",
              "      <td>[2019-01-01 17:17:51</td>\n",
              "      <td>NaN</td>\n",
              "      <td>NaN</td>\n",
              "    </tr>\n",
              "    <tr>\n",
              "      <th>4</th>\n",
              "      <td>Запись пользователя № - user_954</td>\n",
              "      <td>[2019-01-01 21:31:18</td>\n",
              "      <td>NaN</td>\n",
              "      <td>NaN</td>\n",
              "    </tr>\n",
              "    <tr>\n",
              "      <th>...</th>\n",
              "      <td>...</td>\n",
              "      <td>...</td>\n",
              "      <td>...</td>\n",
              "      <td>...</td>\n",
              "    </tr>\n",
              "    <tr>\n",
              "      <th>991</th>\n",
              "      <td>Запись пользователя № - user_965</td>\n",
              "      <td>[2019-04-20 12:55:41</td>\n",
              "      <td>800.0</td>\n",
              "      <td>6927.0</td>\n",
              "    </tr>\n",
              "    <tr>\n",
              "      <th>992</th>\n",
              "      <td>Запись пользователя № - user_967</td>\n",
              "      <td>[2019-04-20 14:59:36</td>\n",
              "      <td>10154.0</td>\n",
              "      <td>NaN</td>\n",
              "    </tr>\n",
              "    <tr>\n",
              "      <th>993</th>\n",
              "      <td>Запись пользователя № - user_973</td>\n",
              "      <td>[2019-04-20 17:09:56</td>\n",
              "      <td>10254.0</td>\n",
              "      <td>NaN</td>\n",
              "    </tr>\n",
              "    <tr>\n",
              "      <th>994</th>\n",
              "      <td>Запись пользователя № - user_977</td>\n",
              "      <td>[2019-04-20 18:10:07</td>\n",
              "      <td>10354.0</td>\n",
              "      <td>NaN</td>\n",
              "    </tr>\n",
              "    <tr>\n",
              "      <th>995</th>\n",
              "      <td>Запись пользователя № - user_984</td>\n",
              "      <td>[2019-04-20 9:59:58</td>\n",
              "      <td>9754.0</td>\n",
              "      <td>NaN</td>\n",
              "    </tr>\n",
              "  </tbody>\n",
              "</table>\n",
              "<p>986 rows × 4 columns</p>\n",
              "</div>"
            ],
            "text/plain": [
              "                              user_id                  time      bet     win\n",
              "0    Запись пользователя № - user_919  [2019-01-01 14:06:51      NaN     NaN\n",
              "1    Запись пользователя № - user_973  [2019-01-01 14:51:16      NaN     NaN\n",
              "2    Запись пользователя № - user_903  [2019-01-01 16:31:16      NaN     NaN\n",
              "3    Запись пользователя № - user_954  [2019-01-01 17:17:51      NaN     NaN\n",
              "4    Запись пользователя № - user_954  [2019-01-01 21:31:18      NaN     NaN\n",
              "..                                ...                   ...      ...     ...\n",
              "991  Запись пользователя № - user_965  [2019-04-20 12:55:41    800.0  6927.0\n",
              "992  Запись пользователя № - user_967  [2019-04-20 14:59:36  10154.0     NaN\n",
              "993  Запись пользователя № - user_973  [2019-04-20 17:09:56  10254.0     NaN\n",
              "994  Запись пользователя № - user_977  [2019-04-20 18:10:07  10354.0     NaN\n",
              "995  Запись пользователя № - user_984   [2019-04-20 9:59:58   9754.0     NaN\n",
              "\n",
              "[986 rows x 4 columns]"
            ]
          },
          "execution_count": 7,
          "metadata": {},
          "output_type": "execute_result"
        }
      ],
      "source": [
        "log.drop_duplicates(subset = ('user_id', 'time'))"
      ]
    },
    {
      "cell_type": "code",
      "execution_count": 8,
      "metadata": {
        "colab": {
          "base_uri": "https://localhost:8080/"
        },
        "id": "j0rUonl9f1HE",
        "outputId": "8a06ee96-7cc1-4d73-e5a5-ab331556ca8d"
      },
      "outputs": [
        {
          "name": "stdout",
          "output_type": "stream",
          "text": [
            "2019-04-20 18:10:07\n"
          ]
        },
        {
          "name": "stderr",
          "output_type": "stream",
          "text": [
            "C:\\Users\\nason\\AppData\\Local\\Temp\\ipykernel_26028\\3262956772.py:3: FutureWarning: The default value of regex will change from True to False in a future version. In addition, single character regular expressions will *not* be treated as literal strings when regex=True.\n",
            "  log['time'] = log['time'].str.replace('[', '')\n"
          ]
        }
      ],
      "source": [
        "log = pd.read_csv('csv_files/log.csv', header = None)\n",
        "log.columns = ['user_id','time', 'bet','win']\n",
        "log['time'] = log['time'].str.replace('[', '')\n",
        "log.dropna(axis = 1)\n",
        "log['time'] = pd.to_datetime(log['time'])\n",
        "max = log['time'].max()\n",
        "print(max)"
      ]
    },
    {
      "cell_type": "code",
      "execution_count": 9,
      "metadata": {
        "colab": {
          "base_uri": "https://localhost:8080/"
        },
        "id": "gR9Prl5ilpxH",
        "outputId": "92bf7b83-9d25-40a5-83b2-704ebebbf4ea"
      },
      "outputs": [
        {
          "data": {
            "text/plain": [
              "13     57\n",
              "28     59\n",
              "150    54\n",
              "188    34\n",
              "204    26\n",
              "Name: time, dtype: int64"
            ]
          },
          "execution_count": 9,
          "metadata": {},
          "output_type": "execute_result"
        }
      ],
      "source": [
        "log = pd.read_csv(\"csv_files/log.csv\")\n",
        "log = log.dropna()\n",
        "log.columns = [\"user_id\", \"time\", \"bet\", \"win\"]\n",
        "log[\"time\"] = log[\"time\"].apply(lambda x: x[1:])\n",
        "log[\"time\"] = pd.to_datetime(log[\"time\"])\n",
        "log['time'] = log.time.apply(lambda x: x.minute)\n",
        "log[\"time\"].head()"
      ]
    },
    {
      "cell_type": "code",
      "execution_count": 10,
      "metadata": {
        "colab": {
          "base_uri": "https://localhost:8080/"
        },
        "id": "7btRQ1_xm0jV",
        "outputId": "25722b4b-2e96-4758-c87f-718e139df7b2"
      },
      "outputs": [
        {
          "data": {
            "text/plain": [
              "36    25\n",
              "31    23\n",
              "50    22\n",
              "5     21\n",
              "18    21\n",
              "Name: time, dtype: int64"
            ]
          },
          "execution_count": 10,
          "metadata": {},
          "output_type": "execute_result"
        }
      ],
      "source": [
        "#Какая минута встречалась в данных чаще всего?\n",
        "log = pd.read_csv(\"csv_files/log.csv\")\n",
        "log.columns = [\"user_id\", \"time\", \"bet\", \"win\"]\n",
        "log = log.dropna(subset=['time'], axis=0)\n",
        "log[\"time\"] = log[\"time\"].apply(lambda x: x[1:])\n",
        "log[\"time\"] = pd.to_datetime(log[\"time\"])\n",
        "minute = log['time'].dt.minute\n",
        "minute.value_counts().head()"
      ]
    },
    {
      "cell_type": "code",
      "execution_count": 11,
      "metadata": {
        "colab": {
          "base_uri": "https://localhost:8080/"
        },
        "id": "7O2NlxgioD3l",
        "outputId": "e268b653-31ee-4e54-acc9-18c34a36e386"
      },
      "outputs": [
        {
          "data": {
            "text/plain": [
              "4    170\n",
              "2    259\n",
              "3    264\n",
              "1    291\n",
              "Name: time, dtype: int64"
            ]
          },
          "execution_count": 11,
          "metadata": {},
          "output_type": "execute_result"
        }
      ],
      "source": [
        "#Какой месяц встречается в данных реже всего?\n",
        "log = pd.read_csv(\"csv_files/log.csv\")\n",
        "log.columns = [\"user_id\", \"time\", \"bet\", \"win\"]\n",
        "log = log.dropna(subset=['time'], axis=0)\n",
        "log[\"time\"] = log[\"time\"].apply(lambda x: x[1:])\n",
        "log[\"time\"] = pd.to_datetime(log[\"time\"])\n",
        "month = log['time'].dt.month\n",
        "month.value_counts(ascending=True)"
      ]
    },
    {
      "cell_type": "code",
      "execution_count": 12,
      "metadata": {
        "colab": {
          "base_uri": "https://localhost:8080/"
        },
        "id": "TwJby4Hqq2ui",
        "outputId": "e04e5c22-e008-40fa-b27d-34e32ee4065d"
      },
      "outputs": [
        {
          "data": {
            "text/plain": [
              "283"
            ]
          },
          "execution_count": 12,
          "metadata": {},
          "output_type": "execute_result"
        }
      ],
      "source": [
        "#Сколько дней в данных являются выходными (то есть суббота или воскресенье)?\n",
        "log = pd.read_csv(\"csv_files/log.csv\")\n",
        "log.columns = [\"user_id\", \"time\", \"bet\", \"win\"]\n",
        "log = log.dropna(subset=['time'], axis=0)\n",
        "log[\"time\"] = log[\"time\"].apply(lambda x: x[1:])\n",
        "log[\"time\"] = pd.to_datetime(log[\"time\"])\n",
        "wday = log['time'].dt.day_of_week\n",
        "def wds(w):\n",
        "  if w == 5 or w == 6:\n",
        "    return 1 \n",
        "  else:\n",
        "    return 0\n",
        "day = wday.apply(wds)\n",
        "day.sum()"
      ]
    },
    {
      "cell_type": "code",
      "execution_count": 13,
      "metadata": {
        "colab": {
          "base_uri": "https://localhost:8080/"
        },
        "id": "-fxjnPMBtL5I",
        "outputId": "fa0a5ac7-b65c-46cc-83d2-1105cb3aeb9e"
      },
      "outputs": [
        {
          "data": {
            "text/plain": [
              "ночь     265\n",
              "утро     253\n",
              "день     239\n",
              "вечер    227\n",
              "Name: time, dtype: int64"
            ]
          },
          "execution_count": 13,
          "metadata": {},
          "output_type": "execute_result"
        }
      ],
      "source": [
        "#Какое время суток встречается в данных реже всего?\n",
        "log = pd.read_csv(\"csv_files/log.csv\")\n",
        "log.columns = [\"user_id\", \"time\", \"bet\", \"win\"]\n",
        "log = log.dropna(subset=['time'], axis=0)\n",
        "log[\"time\"] = log[\"time\"].apply(lambda x: x[1:])\n",
        "log[\"time\"] = pd.to_datetime(log[\"time\"])\n",
        "hour = log['time'].dt.hour\n",
        "\n",
        "def hhor(h):\n",
        "  if 0 <= h <= 5:\n",
        "    return 'ночь'\n",
        "  if 6 <= h <= 11:\n",
        "    return 'утро'\n",
        "  if 12 <= h <= 17:\n",
        "    return 'день'\n",
        "  if 18 <= h <= 23:\n",
        "    return 'вечер'\n",
        "\n",
        "t = hour.apply(hhor)\n",
        "t.value_counts()"
      ]
    },
    {
      "cell_type": "code",
      "execution_count": 14,
      "metadata": {
        "colab": {
          "base_uri": "https://localhost:8080/",
          "height": 424
        },
        "id": "Y7w5f91ovke_",
        "outputId": "815686c8-cc1a-4396-9eda-6bff4dce338b"
      },
      "outputs": [
        {
          "data": {
            "text/html": [
              "<div>\n",
              "<style scoped>\n",
              "    .dataframe tbody tr th:only-of-type {\n",
              "        vertical-align: middle;\n",
              "    }\n",
              "\n",
              "    .dataframe tbody tr th {\n",
              "        vertical-align: top;\n",
              "    }\n",
              "\n",
              "    .dataframe thead th {\n",
              "        text-align: right;\n",
              "    }\n",
              "</style>\n",
              "<table border=\"1\" class=\"dataframe\">\n",
              "  <thead>\n",
              "    <tr style=\"text-align: right;\">\n",
              "      <th></th>\n",
              "      <th>user_id</th>\n",
              "      <th>time</th>\n",
              "      <th>bet</th>\n",
              "      <th>win</th>\n",
              "      <th>hour</th>\n",
              "    </tr>\n",
              "  </thead>\n",
              "  <tbody>\n",
              "    <tr>\n",
              "      <th>14</th>\n",
              "      <td>Запись пользователя № - user_917</td>\n",
              "      <td>2019-01-02 08:57:36</td>\n",
              "      <td>145732.0</td>\n",
              "      <td>1987653.0</td>\n",
              "      <td>8</td>\n",
              "    </tr>\n",
              "    <tr>\n",
              "      <th>29</th>\n",
              "      <td>Запись пользователя № - user_942</td>\n",
              "      <td>2019-01-04 13:59:42</td>\n",
              "      <td>1678321.0</td>\n",
              "      <td>9876543.0</td>\n",
              "      <td>13</td>\n",
              "    </tr>\n",
              "    <tr>\n",
              "      <th>151</th>\n",
              "      <td>Запись пользователя № - user_982</td>\n",
              "      <td>2019-01-16 21:54:22</td>\n",
              "      <td>100.0</td>\n",
              "      <td>4749.0</td>\n",
              "      <td>21</td>\n",
              "    </tr>\n",
              "    <tr>\n",
              "      <th>189</th>\n",
              "      <td>Запись пользователя № - user_964</td>\n",
              "      <td>2019-01-21 18:34:44</td>\n",
              "      <td>200.0</td>\n",
              "      <td>4667.0</td>\n",
              "      <td>18</td>\n",
              "    </tr>\n",
              "    <tr>\n",
              "      <th>205</th>\n",
              "      <td>Запись пользователя № - user_931</td>\n",
              "      <td>2019-01-22 05:26:59</td>\n",
              "      <td>300.0</td>\n",
              "      <td>4319.0</td>\n",
              "      <td>5</td>\n",
              "    </tr>\n",
              "    <tr>\n",
              "      <th>...</th>\n",
              "      <td>...</td>\n",
              "      <td>...</td>\n",
              "      <td>...</td>\n",
              "      <td>...</td>\n",
              "      <td>...</td>\n",
              "    </tr>\n",
              "    <tr>\n",
              "      <th>967</th>\n",
              "      <td>Запись пользователя № - user_975</td>\n",
              "      <td>2019-04-19 22:25:15</td>\n",
              "      <td>1000.0</td>\n",
              "      <td>6108.0</td>\n",
              "      <td>22</td>\n",
              "    </tr>\n",
              "    <tr>\n",
              "      <th>971</th>\n",
              "      <td>Запись пользователя № - user_912</td>\n",
              "      <td>2019-04-20 10:35:49</td>\n",
              "      <td>10554.0</td>\n",
              "      <td>31799.0</td>\n",
              "      <td>10</td>\n",
              "    </tr>\n",
              "    <tr>\n",
              "      <th>972</th>\n",
              "      <td>Запись пользователя № - user_926</td>\n",
              "      <td>2019-04-20 10:35:50</td>\n",
              "      <td>10354.0</td>\n",
              "      <td>30244.0</td>\n",
              "      <td>10</td>\n",
              "    </tr>\n",
              "    <tr>\n",
              "      <th>976</th>\n",
              "      <td>Запись пользователя № - user_970</td>\n",
              "      <td>2019-04-20 10:35:54</td>\n",
              "      <td>10354.0</td>\n",
              "      <td>30691.0</td>\n",
              "      <td>10</td>\n",
              "    </tr>\n",
              "    <tr>\n",
              "      <th>991</th>\n",
              "      <td>Запись пользователя № - user_965</td>\n",
              "      <td>2019-04-20 12:55:41</td>\n",
              "      <td>800.0</td>\n",
              "      <td>6927.0</td>\n",
              "      <td>12</td>\n",
              "    </tr>\n",
              "  </tbody>\n",
              "</table>\n",
              "<p>133 rows × 5 columns</p>\n",
              "</div>"
            ],
            "text/plain": [
              "                              user_id                time        bet  \\\n",
              "14   Запись пользователя № - user_917 2019-01-02 08:57:36   145732.0   \n",
              "29   Запись пользователя № - user_942 2019-01-04 13:59:42  1678321.0   \n",
              "151  Запись пользователя № - user_982 2019-01-16 21:54:22      100.0   \n",
              "189  Запись пользователя № - user_964 2019-01-21 18:34:44      200.0   \n",
              "205  Запись пользователя № - user_931 2019-01-22 05:26:59      300.0   \n",
              "..                                ...                 ...        ...   \n",
              "967  Запись пользователя № - user_975 2019-04-19 22:25:15     1000.0   \n",
              "971  Запись пользователя № - user_912 2019-04-20 10:35:49    10554.0   \n",
              "972  Запись пользователя № - user_926 2019-04-20 10:35:50    10354.0   \n",
              "976  Запись пользователя № - user_970 2019-04-20 10:35:54    10354.0   \n",
              "991  Запись пользователя № - user_965 2019-04-20 12:55:41      800.0   \n",
              "\n",
              "           win  hour  \n",
              "14   1987653.0     8  \n",
              "29   9876543.0    13  \n",
              "151     4749.0    21  \n",
              "189     4667.0    18  \n",
              "205     4319.0     5  \n",
              "..         ...   ...  \n",
              "967     6108.0    22  \n",
              "971    31799.0    10  \n",
              "972    30244.0    10  \n",
              "976    30691.0    10  \n",
              "991     6927.0    12  \n",
              "\n",
              "[133 rows x 5 columns]"
            ]
          },
          "execution_count": 14,
          "metadata": {},
          "output_type": "execute_result"
        }
      ],
      "source": [
        "log = pd.read_csv(\"csv_files/log.csv\", header=None)\n",
        "log.columns = [\"user_id\", \"time\", \"bet\", \"win\"]\n",
        "log = log.dropna()\n",
        "log[\"time\"] = log[\"time\"].apply(lambda x: x[1:])\n",
        "log[\"time\"] = pd.to_datetime(log[\"time\"])\n",
        "log['hour'] = log['time'].dt.hour\n",
        "log"
      ]
    },
    {
      "cell_type": "code",
      "execution_count": 15,
      "metadata": {
        "colab": {
          "base_uri": "https://localhost:8080/"
        },
        "id": "3-4l2EqLxVDs",
        "outputId": "40712980-f68c-414d-fb99-a58842c98724"
      },
      "outputs": [
        {
          "data": {
            "text/plain": [
              "0.0      515\n",
              "500.0     50\n",
              "100.0     48\n",
              "800.0     42\n",
              "300.0     42\n",
              "Name: bet, dtype: int64"
            ]
          },
          "execution_count": 15,
          "metadata": {},
          "output_type": "execute_result"
        }
      ],
      "source": [
        "#Cколько раз люди приходили, но не делали ставки?\n",
        "log = pd.read_csv(\"csv_files/log.csv\", header=None)\n",
        "log.columns = [\"user_id\", \"time\", \"bet\", \"win\"]\n",
        "log[\"bet\"].fillna(0).value_counts().head()"
      ]
    },
    {
      "cell_type": "code",
      "execution_count": null,
      "metadata": {},
      "outputs": [],
      "source": []
    }
  ],
  "metadata": {
    "colab": {
      "authorship_tag": "ABX9TyM/iv3tsQTbYWurmeOIMuc6",
      "collapsed_sections": [],
      "include_colab_link": true,
      "name": "40 PYT Feature Engineering.ipynb",
      "provenance": []
    },
    "kernelspec": {
      "display_name": "Python 3",
      "name": "python3"
    },
    "language_info": {
      "codemirror_mode": {
        "name": "ipython",
        "version": 3
      },
      "file_extension": ".py",
      "mimetype": "text/x-python",
      "name": "python",
      "nbconvert_exporter": "python",
      "pygments_lexer": "ipython3",
      "version": "3.10.1"
    }
  },
  "nbformat": 4,
  "nbformat_minor": 0
}
