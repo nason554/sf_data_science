{
  "cells": [
    {
      "cell_type": "markdown",
      "metadata": {
        "id": "kv3pMDUarjd1"
      },
      "source": [
        "### Описание гипотезы\n",
        "Проверим два предположения:\n",
        "- Зависит ли вероятность оплаты от выбранного пользователем уровня сложности бесплатных тренировок?\n",
        "- Существует ли разница во времени между пользователями с разным уровнем сложности и их первой оплатой?\n",
        "\n",
        "Проверку будем производить на основе данных пользователей, которые зарегистрировались в 2017 году.\n",
        "\n",
        "### Ход проверки"
      ]
    },
    {
      "cell_type": "markdown",
      "metadata": {
        "id": "wQLYCugerjd4"
      },
      "source": [
        "Импортируем нужные библиотеки"
      ]
    },
    {
      "cell_type": "code",
      "execution_count": 3,
      "metadata": {
        "id": "Q-lzDCGnrjd6"
      },
      "outputs": [],
      "source": [
        "import pandas as pd\n",
        "import numpy as np"
      ]
    },
    {
      "cell_type": "markdown",
      "metadata": {
        "id": "e7WSJ3harjd7"
      },
      "source": [
        "Получаем данные из базы данных"
      ]
    },
    {
      "cell_type": "code",
      "execution_count": 4,
      "metadata": {
        "id": "Z-i2jbRRrjd7"
      },
      "outputs": [],
      "source": [
        "events_df = pd.read_csv('gd3/events.csv', sep=',')\n",
        "purchase_df = pd.read_csv('gd3/purchase.csv', sep=',')"
      ]
    },
    {
      "cell_type": "markdown",
      "metadata": {
        "id": "MRiieV4urjd9"
      },
      "source": [
        "Произведем отбор пользователей, зарегистрировавшихся в 2018 году, а также переведем столбцы с датой в нужный формат"
      ]
    },
    {
      "cell_type": "code",
      "execution_count": 35,
      "metadata": {
        "id": "zK7jAYVErjd9"
      },
      "outputs": [
        {
          "name": "stderr",
          "output_type": "stream",
          "text": [
            "C:\\Users\\nason\\AppData\\Local\\Programs\\Python\\Python310\\lib\\site-packages\\pandas\\core\\generic.py:5516: SettingWithCopyWarning: \n",
            "A value is trying to be set on a copy of a slice from a DataFrame.\n",
            "Try using .loc[row_indexer,col_indexer] = value instead\n",
            "\n",
            "See the caveats in the documentation: https://pandas.pydata.org/pandas-docs/stable/user_guide/indexing.html#returning-a-view-versus-a-copy\n",
            "  self[name] = value\n"
          ]
        }
      ],
      "source": [
        "cond = (events_df.start_time>='2018-01-01') & (events_df.start_time<'2019-01-01') & (events_df.event_type=='registration')\n",
        "registered = events_df[cond]['user_id'].to_list() # список пользователей, зарег. в 2018\n",
        "events = events_df[events_df.user_id.isin(registered)]\n",
        "events.start_time = pd.to_datetime(events.start_time, format='%Y-%m-%dT%H:%M:%S')\n",
        "\n",
        "cond_2 = (purchase_df.event_datetime>='2018-01-01') & (purchase_df.event_datetime<'2019-01-01') & (events_df.event_type=='registration')\n",
        "purchase = purchase_df[purchase_df.user_id.isin(registered)]\n",
        "purchase.event_datetime = pd.to_datetime(purchase.event_datetime, format='%Y-%m-%dT%H:%M:%S')"
      ]
    },
    {
      "cell_type": "markdown",
      "metadata": {
        "id": "I1VUXQa6rjd-"
      },
      "source": [
        "Перед объединением датафреймов, переименуем колонки"
      ]
    },
    {
      "cell_type": "code",
      "execution_count": 36,
      "metadata": {
        "id": "ZvPefYbIrjd_"
      },
      "outputs": [],
      "source": [
        "events_df = events.rename(columns={'id':'event_id'})\n",
        "purchase_df = purchase.rename(columns={'id':'purchase_id'})"
      ]
    },
    {
      "cell_type": "markdown",
      "metadata": {
        "id": "d8RDH553rjeA"
      },
      "source": [
        "Сделаем объединенный датафрейм из событий и оплат"
      ]
    },
    {
      "cell_type": "code",
      "execution_count": 37,
      "metadata": {
        "id": "d4BPz6dfrjeA"
      },
      "outputs": [
        {
          "name": "stdout",
          "output_type": "stream",
          "text": [
            "<class 'pandas.core.frame.DataFrame'>\n",
            "Int64Index: 68559 entries, 51405 to 2778\n",
            "Data columns (total 9 columns):\n",
            " #   Column          Non-Null Count  Dtype         \n",
            "---  ------          --------------  -----         \n",
            " 0   event_id        66959 non-null  float64       \n",
            " 1   event_type      66959 non-null  object        \n",
            " 2   selected_level  8342 non-null   object        \n",
            " 3   start_time      66959 non-null  datetime64[ns]\n",
            " 4   tutorial_id     32954 non-null  float64       \n",
            " 5   user_id         68559 non-null  int64         \n",
            " 6   purchase_id     1600 non-null   float64       \n",
            " 7   event_datetime  1600 non-null   datetime64[ns]\n",
            " 8   amount          1600 non-null   float64       \n",
            "dtypes: datetime64[ns](2), float64(4), int64(1), object(2)\n",
            "memory usage: 5.2+ MB\n"
          ]
        }
      ],
      "source": [
        "total_events_df = pd.concat([events_df,purchase_df],sort=False)\n",
        "total_events_df.info(10)"
      ]
    },
    {
      "cell_type": "markdown",
      "metadata": {
        "id": "M7ZaeYEMrjeB"
      },
      "source": [
        "Сделаем группы пользователей по уровню сложности, который был выбран для тренировок.\n",
        "\n",
        "Сначала посмотрим как уровни сложности бывают:"
      ]
    },
    {
      "cell_type": "code",
      "execution_count": 38,
      "metadata": {
        "id": "BznmS2PPrjeB",
        "outputId": "95c4ac93-d8fd-48c3-e964-2fb3d8ad5ff2"
      },
      "outputs": [
        {
          "data": {
            "text/plain": [
              "array([nan, 'medium', 'hard', 'easy'], dtype=object)"
            ]
          },
          "execution_count": 38,
          "metadata": {},
          "output_type": "execute_result"
        }
      ],
      "source": [
        "total_events_df['selected_level'].unique()"
      ]
    },
    {
      "cell_type": "markdown",
      "metadata": {
        "id": "ke7PqpIBrjeE"
      },
      "source": [
        "Сформируем группы"
      ]
    },
    {
      "cell_type": "code",
      "execution_count": 39,
      "metadata": {
        "id": "i91LWXNDrjeF"
      },
      "outputs": [],
      "source": [
        "users_easy_level = total_events_df[total_events_df['selected_level'] == 'easy']['user_id'].unique()\n",
        "users_medium_level = total_events_df[total_events_df['selected_level'] == 'medium']['user_id'].unique()\n",
        "users_hard_level = total_events_df[total_events_df['selected_level'] == 'hard']['user_id'].unique()"
      ]
    },
    {
      "cell_type": "markdown",
      "metadata": {
        "id": "mR0Cb2sOrjeF"
      },
      "source": [
        "Посчитаем для каждой группы показатели"
      ]
    },
    {
      "cell_type": "code",
      "execution_count": 41,
      "metadata": {
        "id": "rZZEHaCorjeG",
        "outputId": "cf27582d-1249-445d-9cd1-c2b2aeea5391"
      },
      "outputs": [
        {
          "name": "stdout",
          "output_type": "stream",
          "text": [
            "Процент пользователей, выбравших уровень сложности easy: 11.81%\n",
            "\n",
            "Среднее время между выбором уровня сложности и оплатой для пользователей, выбравших уровень сложности easy: 3 days 14:58:52.941798941\n",
            "Характеристики времени:\n",
            "count                          189\n",
            "mean     3 days 14:58:52.941798941\n",
            "std      2 days 07:06:35.644097504\n",
            "min                0 days 00:49:20\n",
            "25%                1 days 17:18:56\n",
            "50%                3 days 06:03:50\n",
            "75%                5 days 06:58:18\n",
            "max               10 days 18:35:09\n",
            "Name: timedelta, dtype: object\n",
            "\n",
            "Процент пользователей, выбравших уровень сложности medium: 60.56%\n",
            "\n",
            "Среднее время между выбором уровня сложности и оплатой для пользователей, выбравших уровень сложности medium: 3 days 23:14:13.165118679\n",
            "Характеристики времени:\n",
            "count                          969\n",
            "mean     3 days 23:14:13.165118679\n",
            "std      2 days 06:18:57.618467109\n",
            "min                0 days 04:18:12\n",
            "25%                2 days 01:20:07\n",
            "50%                3 days 19:53:19\n",
            "75%                5 days 16:07:19\n",
            "max               10 days 13:51:01\n",
            "Name: timedelta, dtype: object\n",
            "\n",
            "Процент пользователей, выбравших уровень сложности hard: 27.62%\n",
            "\n",
            "Среднее время между выбором уровня сложности и оплатой для пользователей, выбравших уровень сложности hard: 3 days 07:20:41.420814479\n",
            "Характеристики времени:\n",
            "count                          442\n",
            "mean     3 days 07:20:41.420814479\n",
            "std      1 days 21:43:52.953292605\n",
            "min                0 days 03:26:45\n",
            "25%         1 days 14:57:23.500000\n",
            "50%         3 days 03:13:57.500000\n",
            "75%         4 days 19:16:00.250000\n",
            "max                8 days 01:18:13\n",
            "Name: timedelta, dtype: object\n",
            "\n"
          ]
        }
      ],
      "source": [
        "user_groups = {'easy': users_easy_level,\n",
        "               'medium': users_medium_level,\n",
        "               'hard': users_hard_level}\n",
        "\n",
        "for group in user_groups:\n",
        "    count_of_users_in_group = purchase_df['user_id'].nunique()\n",
        "    purchase_df_slice = purchase_df[purchase_df['user_id'].isin(user_groups[group])]\n",
        "    percent_of_purchase = purchase_df_slice['user_id'].nunique()/count_of_users_in_group\n",
        "    print('Процент пользователей, выбравших уровень сложности {}: {:.2%}'.format(group, percent_of_purchase))\n",
        "    print()\n",
        "    level_choice_df = total_events_df[(total_events_df['event_type'] == 'level_choice') & \n",
        "                                     (total_events_df['user_id'].isin(user_groups[group]))]\n",
        "    if (level_choice_df['user_id'].value_counts().mean()) == 1:\n",
        "        level_choice_df = level_choice_df[['user_id','start_time']].rename(columns = {'start_time':'level_choice_time'})\n",
        "        purchase_df_slice_2 = purchase_df_slice[['user_id','event_datetime']].rename(columns = {'event_datetime':'purchase_time'})\n",
        "        merged_df = purchase_df_slice_2.merge(level_choice_df, on = 'user_id', how = 'inner')\n",
        "        merged_df['timedelta'] = merged_df['purchase_time'] - merged_df['level_choice_time']\n",
        "        mean_time = merged_df['timedelta'].mean()\n",
        "        print('Среднее время между выбором уровня сложности и оплатой для пользователей, выбравших уровень сложности {}: {}'.format(group, mean_time))\n",
        "        print('Характеристики времени:')\n",
        "        print((merged_df['timedelta'].describe()))\n",
        "        print()\n",
        "    else:\n",
        "        print('Более 1 события выбора уровня сложности')\n"
      ]
    },
    {
      "cell_type": "markdown",
      "metadata": {
        "id": "q6dNUNjhrjeH"
      },
      "source": [
        "### Выводы\n",
        "Процент оплативших пользователей, выбравших уровень сложности easy: 11.81%\n",
        "Процент оплативших пользователей, выбравших уровень сложности medium: 60.56%\n",
        "Процент оплативших пользователей, выбравших уровень сложности hard: 27.62%\n",
        "\n",
        "Таким образом, нет прямой зависимости вероятности оплаты от выбранного уровня сложности.\n",
        "Пользователи, выбирающие тренировки средней сложности, чаще покупают платные тренировки.\n",
        "\n",
        "Наибольшее время между событием выбора уровня сложности и моментом первой оплаты, тратят пользователи, которые выбрали уровень сложности medium. Для них среднее время составляет 3 дня 23 часа, а медианное время 3 дня 19 часов.\n",
        "\n",
        "Чуть меньше времени тратят пользователи, выбравшие уровень сложности easy. Для них среднее время составляет 3 дня 14 часов, а медианное время 3 дня 6 часов.\n",
        "\n",
        "Меньше всего времени на принятие решение о покупке тратят пользователя, выбравшие уровень сложности hard. Для них среднее время составляет 3 дня 7 часов, а медианное время 3 дня 13 часов."
      ]
    }
  ],
  "metadata": {
    "colab": {
      "name": "Копия блокнота \"Case 8 Reference.ipynb\"",
      "provenance": []
    },
    "kernelspec": {
      "display_name": "Python 3",
      "language": "python",
      "name": "python3"
    },
    "language_info": {
      "codemirror_mode": {
        "name": "ipython",
        "version": 3
      },
      "file_extension": ".py",
      "mimetype": "text/x-python",
      "name": "python",
      "nbconvert_exporter": "python",
      "pygments_lexer": "ipython3",
      "version": "3.10.1"
    }
  },
  "nbformat": 4,
  "nbformat_minor": 0
}
