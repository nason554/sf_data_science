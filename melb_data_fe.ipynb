{
 "cells": [
  {
   "cell_type": "code",
   "execution_count": 2,
   "source": [
    "import pandas as pd\r\n",
    "\r\n",
    "melb_df = pd.read_csv('data/melb_data_fe.csv', sep=',')\r\n",
    "melb_df.head()"
   ],
   "outputs": [
    {
     "output_type": "execute_result",
     "data": {
      "text/html": [
       "<div>\n",
       "<style scoped>\n",
       "    .dataframe tbody tr th:only-of-type {\n",
       "        vertical-align: middle;\n",
       "    }\n",
       "\n",
       "    .dataframe tbody tr th {\n",
       "        vertical-align: top;\n",
       "    }\n",
       "\n",
       "    .dataframe thead th {\n",
       "        text-align: right;\n",
       "    }\n",
       "</style>\n",
       "<table border=\"1\" class=\"dataframe\">\n",
       "  <thead>\n",
       "    <tr style=\"text-align: right;\">\n",
       "      <th></th>\n",
       "      <th>Suburb</th>\n",
       "      <th>Rooms</th>\n",
       "      <th>Type</th>\n",
       "      <th>Price</th>\n",
       "      <th>Method</th>\n",
       "      <th>SellerG</th>\n",
       "      <th>Date</th>\n",
       "      <th>Distance</th>\n",
       "      <th>Postcode</th>\n",
       "      <th>Bedroom</th>\n",
       "      <th>...</th>\n",
       "      <th>Longtitude</th>\n",
       "      <th>Regionname</th>\n",
       "      <th>Propertycount</th>\n",
       "      <th>MeanRoomsSquare</th>\n",
       "      <th>AreaRatio</th>\n",
       "      <th>MonthSale</th>\n",
       "      <th>AgeBuilding</th>\n",
       "      <th>WeekdaySale</th>\n",
       "      <th>StreetType</th>\n",
       "      <th>Weekend</th>\n",
       "    </tr>\n",
       "  </thead>\n",
       "  <tbody>\n",
       "    <tr>\n",
       "      <th>0</th>\n",
       "      <td>Abbotsford</td>\n",
       "      <td>2</td>\n",
       "      <td>house</td>\n",
       "      <td>1480000.0</td>\n",
       "      <td>S</td>\n",
       "      <td>Biggin</td>\n",
       "      <td>2016-03-12</td>\n",
       "      <td>2.5</td>\n",
       "      <td>3067</td>\n",
       "      <td>2</td>\n",
       "      <td>...</td>\n",
       "      <td>144.9984</td>\n",
       "      <td>Northern Metropolitan</td>\n",
       "      <td>4019</td>\n",
       "      <td>25.20</td>\n",
       "      <td>-0.231707</td>\n",
       "      <td>3</td>\n",
       "      <td>46</td>\n",
       "      <td>5</td>\n",
       "      <td>St</td>\n",
       "      <td>1</td>\n",
       "    </tr>\n",
       "    <tr>\n",
       "      <th>1</th>\n",
       "      <td>Abbotsford</td>\n",
       "      <td>2</td>\n",
       "      <td>house</td>\n",
       "      <td>1035000.0</td>\n",
       "      <td>S</td>\n",
       "      <td>Biggin</td>\n",
       "      <td>2016-04-02</td>\n",
       "      <td>2.5</td>\n",
       "      <td>3067</td>\n",
       "      <td>2</td>\n",
       "      <td>...</td>\n",
       "      <td>144.9934</td>\n",
       "      <td>Northern Metropolitan</td>\n",
       "      <td>4019</td>\n",
       "      <td>15.80</td>\n",
       "      <td>-0.327660</td>\n",
       "      <td>4</td>\n",
       "      <td>116</td>\n",
       "      <td>5</td>\n",
       "      <td>St</td>\n",
       "      <td>1</td>\n",
       "    </tr>\n",
       "    <tr>\n",
       "      <th>2</th>\n",
       "      <td>Abbotsford</td>\n",
       "      <td>3</td>\n",
       "      <td>house</td>\n",
       "      <td>1465000.0</td>\n",
       "      <td>SP</td>\n",
       "      <td>Biggin</td>\n",
       "      <td>2017-04-03</td>\n",
       "      <td>2.5</td>\n",
       "      <td>3067</td>\n",
       "      <td>3</td>\n",
       "      <td>...</td>\n",
       "      <td>144.9944</td>\n",
       "      <td>Northern Metropolitan</td>\n",
       "      <td>4019</td>\n",
       "      <td>18.75</td>\n",
       "      <td>0.056338</td>\n",
       "      <td>4</td>\n",
       "      <td>117</td>\n",
       "      <td>0</td>\n",
       "      <td>St</td>\n",
       "      <td>0</td>\n",
       "    </tr>\n",
       "    <tr>\n",
       "      <th>3</th>\n",
       "      <td>Abbotsford</td>\n",
       "      <td>3</td>\n",
       "      <td>house</td>\n",
       "      <td>850000.0</td>\n",
       "      <td>PI</td>\n",
       "      <td>Biggin</td>\n",
       "      <td>2017-04-03</td>\n",
       "      <td>2.5</td>\n",
       "      <td>3067</td>\n",
       "      <td>3</td>\n",
       "      <td>...</td>\n",
       "      <td>144.9969</td>\n",
       "      <td>Northern Metropolitan</td>\n",
       "      <td>4019</td>\n",
       "      <td>15.75</td>\n",
       "      <td>0.145455</td>\n",
       "      <td>4</td>\n",
       "      <td>47</td>\n",
       "      <td>0</td>\n",
       "      <td>other</td>\n",
       "      <td>0</td>\n",
       "    </tr>\n",
       "    <tr>\n",
       "      <th>4</th>\n",
       "      <td>Abbotsford</td>\n",
       "      <td>4</td>\n",
       "      <td>house</td>\n",
       "      <td>1600000.0</td>\n",
       "      <td>VB</td>\n",
       "      <td>Nelson</td>\n",
       "      <td>2016-04-06</td>\n",
       "      <td>2.5</td>\n",
       "      <td>3067</td>\n",
       "      <td>3</td>\n",
       "      <td>...</td>\n",
       "      <td>144.9941</td>\n",
       "      <td>Northern Metropolitan</td>\n",
       "      <td>4019</td>\n",
       "      <td>17.75</td>\n",
       "      <td>0.083969</td>\n",
       "      <td>4</td>\n",
       "      <td>2</td>\n",
       "      <td>2</td>\n",
       "      <td>St</td>\n",
       "      <td>0</td>\n",
       "    </tr>\n",
       "  </tbody>\n",
       "</table>\n",
       "<p>5 rows × 26 columns</p>\n",
       "</div>"
      ],
      "text/plain": [
       "       Suburb  Rooms   Type      Price Method SellerG        Date  Distance  \\\n",
       "0  Abbotsford      2  house  1480000.0      S  Biggin  2016-03-12       2.5   \n",
       "1  Abbotsford      2  house  1035000.0      S  Biggin  2016-04-02       2.5   \n",
       "2  Abbotsford      3  house  1465000.0     SP  Biggin  2017-04-03       2.5   \n",
       "3  Abbotsford      3  house   850000.0     PI  Biggin  2017-04-03       2.5   \n",
       "4  Abbotsford      4  house  1600000.0     VB  Nelson  2016-04-06       2.5   \n",
       "\n",
       "   Postcode  Bedroom  ...  Longtitude             Regionname  Propertycount  \\\n",
       "0      3067        2  ...    144.9984  Northern Metropolitan           4019   \n",
       "1      3067        2  ...    144.9934  Northern Metropolitan           4019   \n",
       "2      3067        3  ...    144.9944  Northern Metropolitan           4019   \n",
       "3      3067        3  ...    144.9969  Northern Metropolitan           4019   \n",
       "4      3067        3  ...    144.9941  Northern Metropolitan           4019   \n",
       "\n",
       "   MeanRoomsSquare AreaRatio  MonthSale  AgeBuilding WeekdaySale  StreetType  \\\n",
       "0            25.20 -0.231707          3           46           5          St   \n",
       "1            15.80 -0.327660          4          116           5          St   \n",
       "2            18.75  0.056338          4          117           0          St   \n",
       "3            15.75  0.145455          4           47           0       other   \n",
       "4            17.75  0.083969          4            2           2          St   \n",
       "\n",
       "   Weekend  \n",
       "0        1  \n",
       "1        1  \n",
       "2        0  \n",
       "3        0  \n",
       "4        0  \n",
       "\n",
       "[5 rows x 26 columns]"
      ]
     },
     "metadata": {},
     "execution_count": 2
    }
   ],
   "metadata": {}
  },
  {
   "cell_type": "code",
   "execution_count": 4,
   "source": [
    "display(melb_df.info())"
   ],
   "outputs": [
    {
     "output_type": "stream",
     "name": "stdout",
     "text": [
      "<class 'pandas.core.frame.DataFrame'>\n",
      "RangeIndex: 13580 entries, 0 to 13579\n",
      "Data columns (total 26 columns):\n",
      " #   Column           Non-Null Count  Dtype  \n",
      "---  ------           --------------  -----  \n",
      " 0   Suburb           13580 non-null  object \n",
      " 1   Rooms            13580 non-null  int64  \n",
      " 2   Type             13580 non-null  object \n",
      " 3   Price            13580 non-null  float64\n",
      " 4   Method           13580 non-null  object \n",
      " 5   SellerG          13580 non-null  object \n",
      " 6   Date             13580 non-null  object \n",
      " 7   Distance         13580 non-null  float64\n",
      " 8   Postcode         13580 non-null  int64  \n",
      " 9   Bedroom          13580 non-null  int64  \n",
      " 10  Bathroom         13580 non-null  int64  \n",
      " 11  Car              13580 non-null  int64  \n",
      " 12  Landsize         13580 non-null  float64\n",
      " 13  BuildingArea     13580 non-null  float64\n",
      " 14  CouncilArea      12211 non-null  object \n",
      " 15  Lattitude        13580 non-null  float64\n",
      " 16  Longtitude       13580 non-null  float64\n",
      " 17  Regionname       13580 non-null  object \n",
      " 18  Propertycount    13580 non-null  int64  \n",
      " 19  MeanRoomsSquare  13580 non-null  float64\n",
      " 20  AreaRatio        13580 non-null  float64\n",
      " 21  MonthSale        13580 non-null  int64  \n",
      " 22  AgeBuilding      13580 non-null  int64  \n",
      " 23  WeekdaySale      13580 non-null  int64  \n",
      " 24  StreetType       13580 non-null  object \n",
      " 25  Weekend          13580 non-null  int64  \n",
      "dtypes: float64(8), int64(10), object(8)\n",
      "memory usage: 2.7+ MB\n"
     ]
    },
    {
     "output_type": "display_data",
     "data": {
      "text/plain": [
       "None"
      ]
     },
     "metadata": {}
    }
   ],
   "metadata": {}
  },
  {
   "cell_type": "code",
   "execution_count": 7,
   "source": [
    "# перевели столбец с датой в тип datetime64\r\n",
    "melb_df['Date'] = pd.to_datetime(melb_df['Date'])\r\n",
    "display(melb_df['Date'])"
   ],
   "outputs": [
    {
     "output_type": "display_data",
     "data": {
      "text/plain": [
       "0       2016-03-12\n",
       "1       2016-04-02\n",
       "2       2017-04-03\n",
       "3       2017-04-03\n",
       "4       2016-04-06\n",
       "           ...    \n",
       "13575   2017-08-26\n",
       "13576   2017-08-26\n",
       "13577   2017-08-26\n",
       "13578   2017-08-26\n",
       "13579   2017-08-26\n",
       "Name: Date, Length: 13580, dtype: datetime64[ns]"
      ]
     },
     "metadata": {}
    }
   ],
   "metadata": {}
  },
  {
   "cell_type": "code",
   "execution_count": 11,
   "source": [
    "quarter_time = melb_df['Date'].dt.quarter\r\n",
    "display(quarter_time.value_counts().iloc[1])"
   ],
   "outputs": [
    {
     "output_type": "display_data",
     "data": {
      "text/plain": [
       "4359"
      ]
     },
     "metadata": {}
    }
   ],
   "metadata": {}
  },
  {
   "cell_type": "code",
   "execution_count": 13,
   "source": [
    "cols_to_exclude = ['Date', 'Rooms', 'Bedroom', 'Bathroom', 'Car']\r\n",
    "max_unique_count = 150\r\n",
    "for col in melb_df.columns:\r\n",
    "    if melb_df[col].nunique() < max_unique_count and col not in cols_to_exclude:\r\n",
    "        melb_df[col] = melb_df[col].astype('category')\r\n",
    "        \r\n",
    "display(melb_df.info())"
   ],
   "outputs": [
    {
     "output_type": "stream",
     "name": "stdout",
     "text": [
      "<class 'pandas.core.frame.DataFrame'>\n",
      "RangeIndex: 13580 entries, 0 to 13579\n",
      "Data columns (total 26 columns):\n",
      " #   Column           Non-Null Count  Dtype         \n",
      "---  ------           --------------  -----         \n",
      " 0   Suburb           13580 non-null  category      \n",
      " 1   Rooms            13580 non-null  int64         \n",
      " 2   Type             13580 non-null  category      \n",
      " 3   Price            13580 non-null  float64       \n",
      " 4   Method           13580 non-null  category      \n",
      " 5   SellerG          13580 non-null  category      \n",
      " 6   Date             13580 non-null  datetime64[ns]\n",
      " 7   Distance         13580 non-null  float64       \n",
      " 8   Postcode         13580 non-null  int64         \n",
      " 9   Bedroom          13580 non-null  int64         \n",
      " 10  Bathroom         13580 non-null  int64         \n",
      " 11  Car              13580 non-null  int64         \n",
      " 12  Landsize         13580 non-null  float64       \n",
      " 13  BuildingArea     13580 non-null  float64       \n",
      " 14  CouncilArea      12211 non-null  category      \n",
      " 15  Lattitude        13580 non-null  float64       \n",
      " 16  Longtitude       13580 non-null  float64       \n",
      " 17  Regionname       13580 non-null  category      \n",
      " 18  Propertycount    13580 non-null  int64         \n",
      " 19  MeanRoomsSquare  13580 non-null  float64       \n",
      " 20  AreaRatio        13580 non-null  float64       \n",
      " 21  MonthSale        13580 non-null  category      \n",
      " 22  AgeBuilding      13580 non-null  int64         \n",
      " 23  WeekdaySale      13580 non-null  category      \n",
      " 24  StreetType       13580 non-null  category      \n",
      " 25  Weekend          13580 non-null  category      \n",
      "dtypes: category(10), datetime64[ns](1), float64(8), int64(7)\n",
      "memory usage: 1.8 MB\n"
     ]
    },
    {
     "output_type": "display_data",
     "data": {
      "text/plain": [
       "None"
      ]
     },
     "metadata": {}
    }
   ],
   "metadata": {}
  },
  {
   "cell_type": "code",
   "execution_count": 17,
   "source": [
    "int(melb_df.sort_values(\r\n",
    "    by='AreaRatio', \r\n",
    "    ignore_index=True,\r\n",
    "    ascending=False\r\n",
    ").loc[1558, 'BuildingArea'])"
   ],
   "outputs": [
    {
     "output_type": "execute_result",
     "data": {
      "text/plain": [
       "126"
      ]
     },
     "metadata": {},
     "execution_count": 17
    }
   ],
   "metadata": {}
  },
  {
   "cell_type": "code",
   "execution_count": 18,
   "source": [
    "mask1 = melb_df['Type'] == 'townhouse'\r\n",
    "mask2 = melb_df['Rooms'] > 2\r\n",
    "int(melb_df[mask1&mask2].sort_values(\r\n",
    "   by=['Rooms', 'MeanRoomsSquare'],\r\n",
    "   ascending=[True, False],\r\n",
    "   ignore_index=True\r\n",
    ").loc[18, 'Price'])"
   ],
   "outputs": [
    {
     "output_type": "execute_result",
     "data": {
      "text/plain": [
       "1300000"
      ]
     },
     "metadata": {},
     "execution_count": 18
    }
   ],
   "metadata": {}
  },
  {
   "cell_type": "code",
   "execution_count": 19,
   "source": [
    "melb_df.groupby('Rooms')['Price'].mean().sort_values(ascending=False)"
   ],
   "outputs": [
    {
     "output_type": "execute_result",
     "data": {
      "text/plain": [
       "Rooms\n",
       "7     1.920700e+06\n",
       "5     1.870260e+06\n",
       "6     1.849366e+06\n",
       "8     1.602750e+06\n",
       "4     1.445282e+06\n",
       "3     1.076081e+06\n",
       "10    9.000000e+05\n",
       "2     7.750812e+05\n",
       "1     4.338245e+05\n",
       "Name: Price, dtype: float64"
      ]
     },
     "metadata": {},
     "execution_count": 19
    }
   ],
   "metadata": {}
  },
  {
   "cell_type": "code",
   "execution_count": 20,
   "source": [
    "melb_df.groupby('Regionname')['Lattitude'].std().sort_values()"
   ],
   "outputs": [
    {
     "output_type": "execute_result",
     "data": {
      "text/plain": [
       "Regionname\n",
       "Western Victoria              0.011579\n",
       "Southern Metropolitan         0.043080\n",
       "Eastern Metropolitan          0.047890\n",
       "Northern Metropolitan         0.049639\n",
       "Western Metropolitan          0.051251\n",
       "South-Eastern Metropolitan    0.073411\n",
       "Northern Victoria             0.084455\n",
       "Eastern Victoria              0.147067\n",
       "Name: Lattitude, dtype: float64"
      ]
     },
     "metadata": {},
     "execution_count": 20
    }
   ],
   "metadata": {}
  },
  {
   "cell_type": "code",
   "execution_count": 21,
   "source": [
    "date1 = pd.to_datetime('2017-05-01')\r\n",
    "date2 = pd.to_datetime('2017-09-01')\r\n",
    "mask = (date1 <= melb_df['Date']) & (melb_df['Date']<= date2)\r\n",
    "melb_df[mask].groupby('SellerG')['Price'].sum().sort_values(ascending=True)"
   ],
   "outputs": [
    {
     "output_type": "execute_result",
     "data": {
      "text/plain": [
       "SellerG\n",
       "LITTLE             2742000.0\n",
       "Cayzer             4439000.0\n",
       "Burnham            4550500.0\n",
       "Moonee             7328000.0\n",
       "Thomson            8332000.0\n",
       "Bells              8656000.0\n",
       "Alexkarbon        10985000.0\n",
       "McDonald          14637500.0\n",
       "Rendina           15422276.0\n",
       "Nick              16890000.0\n",
       "Douglas           18341000.0\n",
       "Buckingham        19033000.0\n",
       "C21               19515000.0\n",
       "Eview             19791500.0\n",
       "Collins           20217000.0\n",
       "Philip            22051800.0\n",
       "Chisholm          23225000.0\n",
       "Williams          23297000.0\n",
       "Love              23365500.0\n",
       "Purplebricks      23401000.0\n",
       "O'Brien           23855508.0\n",
       "HAR               25568000.0\n",
       "Village           26473000.0\n",
       "RW                29261000.0\n",
       "Raine             30687700.0\n",
       "Stockdale         35409800.0\n",
       "Sweeney           36882750.0\n",
       "Gary              39138400.0\n",
       "Hodges            43231000.0\n",
       "YPA               46354350.0\n",
       "Miles             47582000.0\n",
       "Kay               48569500.0\n",
       "RT                50498000.0\n",
       "Brad              55955000.0\n",
       "Jas               59281600.0\n",
       "Harcourts         68720250.0\n",
       "McGrath           78386500.0\n",
       "Greg              85621000.0\n",
       "Woodards          85977500.0\n",
       "Noel              88129800.0\n",
       "Fletchers        108847700.0\n",
       "Biggin           110429500.0\n",
       "Buxton           219104000.0\n",
       "Ray              249572986.0\n",
       "Marshall         253957888.0\n",
       "hockingstuart    282834310.0\n",
       "Barry            296723050.0\n",
       "other            365038432.0\n",
       "Nelson           379767500.0\n",
       "Jellis           414121833.0\n",
       "Name: Price, dtype: float64"
      ]
     },
     "metadata": {},
     "execution_count": 21
    }
   ],
   "metadata": {}
  },
  {
   "cell_type": "code",
   "execution_count": 3,
   "source": [
    "pivot = melb_df.pivot_table(\r\n",
    "    values='BuildingArea',\r\n",
    "    index='Type',\r\n",
    "    columns='Rooms',\r\n",
    "    aggfunc='median',\r\n",
    "    fill_value=0\r\n",
    ")\r\n",
    "display(pivot)"
   ],
   "outputs": [
    {
     "output_type": "display_data",
     "data": {
      "text/html": [
       "<div>\n",
       "<style scoped>\n",
       "    .dataframe tbody tr th:only-of-type {\n",
       "        vertical-align: middle;\n",
       "    }\n",
       "\n",
       "    .dataframe tbody tr th {\n",
       "        vertical-align: top;\n",
       "    }\n",
       "\n",
       "    .dataframe thead th {\n",
       "        text-align: right;\n",
       "    }\n",
       "</style>\n",
       "<table border=\"1\" class=\"dataframe\">\n",
       "  <thead>\n",
       "    <tr style=\"text-align: right;\">\n",
       "      <th>Rooms</th>\n",
       "      <th>1</th>\n",
       "      <th>2</th>\n",
       "      <th>3</th>\n",
       "      <th>4</th>\n",
       "      <th>5</th>\n",
       "      <th>6</th>\n",
       "      <th>7</th>\n",
       "      <th>8</th>\n",
       "      <th>10</th>\n",
       "    </tr>\n",
       "    <tr>\n",
       "      <th>Type</th>\n",
       "      <th></th>\n",
       "      <th></th>\n",
       "      <th></th>\n",
       "      <th></th>\n",
       "      <th></th>\n",
       "      <th></th>\n",
       "      <th></th>\n",
       "      <th></th>\n",
       "      <th></th>\n",
       "    </tr>\n",
       "  </thead>\n",
       "  <tbody>\n",
       "    <tr>\n",
       "      <th>house</th>\n",
       "      <td>126.0</td>\n",
       "      <td>126</td>\n",
       "      <td>126</td>\n",
       "      <td>141.0</td>\n",
       "      <td>177</td>\n",
       "      <td>126</td>\n",
       "      <td>216.5</td>\n",
       "      <td>126</td>\n",
       "      <td>126</td>\n",
       "    </tr>\n",
       "    <tr>\n",
       "      <th>townhouse</th>\n",
       "      <td>88.0</td>\n",
       "      <td>114</td>\n",
       "      <td>126</td>\n",
       "      <td>159.5</td>\n",
       "      <td>152</td>\n",
       "      <td>0</td>\n",
       "      <td>0.0</td>\n",
       "      <td>0</td>\n",
       "      <td>0</td>\n",
       "    </tr>\n",
       "    <tr>\n",
       "      <th>unit</th>\n",
       "      <td>69.5</td>\n",
       "      <td>110</td>\n",
       "      <td>126</td>\n",
       "      <td>126.0</td>\n",
       "      <td>0</td>\n",
       "      <td>171</td>\n",
       "      <td>0.0</td>\n",
       "      <td>126</td>\n",
       "      <td>0</td>\n",
       "    </tr>\n",
       "  </tbody>\n",
       "</table>\n",
       "</div>"
      ],
      "text/plain": [
       "Rooms         1    2    3      4    5    6      7    8    10\n",
       "Type                                                        \n",
       "house      126.0  126  126  141.0  177  126  216.5  126  126\n",
       "townhouse   88.0  114  126  159.5  152    0    0.0    0    0\n",
       "unit        69.5  110  126  126.0    0  171    0.0  126    0"
      ]
     },
     "metadata": {}
    }
   ],
   "metadata": {}
  },
  {
   "cell_type": "code",
   "execution_count": 4,
   "source": [
    "pivot = melb_df.pivot_table(\r\n",
    "    values='Price',\r\n",
    "    index='SellerG',\r\n",
    "    columns='Type',\r\n",
    "    aggfunc='mean',\r\n",
    ")\r\n",
    "max_unit_price = pivot['unit'].max()\r\n",
    "print(pivot[pivot['unit'] == max_unit_price].index[0])"
   ],
   "outputs": [
    {
     "output_type": "stream",
     "name": "stdout",
     "text": [
      "Nick\n"
     ]
    }
   ],
   "metadata": {}
  }
 ],
 "metadata": {
  "orig_nbformat": 4,
  "language_info": {
   "name": "python",
   "version": "3.9.7",
   "mimetype": "text/x-python",
   "codemirror_mode": {
    "name": "ipython",
    "version": 3
   },
   "pygments_lexer": "ipython3",
   "nbconvert_exporter": "python",
   "file_extension": ".py"
  },
  "kernelspec": {
   "name": "python3",
   "display_name": "Python 3.9.7 64-bit"
  },
  "interpreter": {
   "hash": "30230121b6a3f5ed41ffc3362f14e369bddfa6eb18b63a2f3e274c87a6c99772"
  }
 },
 "nbformat": 4,
 "nbformat_minor": 2
}