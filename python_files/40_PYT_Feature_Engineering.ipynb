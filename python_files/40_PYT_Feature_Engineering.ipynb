{
  "nbformat": 4,
  "nbformat_minor": 0,
  "metadata": {
    "colab": {
      "name": "40 PYT Feature Engineering.ipynb",
      "provenance": [],
      "collapsed_sections": [],
      "authorship_tag": "ABX9TyMFXhdeHSa/N+vPxTeh5KNe",
      "include_colab_link": true
    },
    "kernelspec": {
      "name": "python3",
      "display_name": "Python 3"
    },
    "language_info": {
      "name": "python"
    }
  },
  "cells": [
    {
      "cell_type": "markdown",
      "metadata": {
        "id": "view-in-github",
        "colab_type": "text"
      },
      "source": [
        "<a href=\"https://colab.research.google.com/github/nason554/sf_data_science/blob/main/40_PYT_Feature_Engineering.ipynb\" target=\"_parent\"><img src=\"https://colab.research.google.com/assets/colab-badge.svg\" alt=\"Open In Colab\"/></a>"
      ]
    },
    {
      "cell_type": "code",
      "source": [
        "import pandas as pd\n",
        "import numpy as np"
      ],
      "metadata": {
        "id": "saE0q7oejnHE"
      },
      "execution_count": null,
      "outputs": []
    },
    {
      "cell_type": "code",
      "execution_count": null,
      "metadata": {
        "colab": {
          "base_uri": "https://localhost:8080/",
          "height": 206
        },
        "id": "OF0aggC_dprf",
        "outputId": "4241fba1-6b6e-4c6d-960b-ebf450174d2f"
      },
      "outputs": [
        {
          "output_type": "execute_result",
          "data": {
            "text/html": [
              "\n",
              "  <div id=\"df-cf8776c4-162c-4ab6-89a0-7775ebc26257\">\n",
              "    <div class=\"colab-df-container\">\n",
              "      <div>\n",
              "<style scoped>\n",
              "    .dataframe tbody tr th:only-of-type {\n",
              "        vertical-align: middle;\n",
              "    }\n",
              "\n",
              "    .dataframe tbody tr th {\n",
              "        vertical-align: top;\n",
              "    }\n",
              "\n",
              "    .dataframe thead th {\n",
              "        text-align: right;\n",
              "    }\n",
              "</style>\n",
              "<table border=\"1\" class=\"dataframe\">\n",
              "  <thead>\n",
              "    <tr style=\"text-align: right;\">\n",
              "      <th></th>\n",
              "      <th>user_id</th>\n",
              "      <th>time</th>\n",
              "      <th>bet</th>\n",
              "      <th>win</th>\n",
              "    </tr>\n",
              "  </thead>\n",
              "  <tbody>\n",
              "    <tr>\n",
              "      <th>0</th>\n",
              "      <td>False</td>\n",
              "      <td>False</td>\n",
              "      <td>True</td>\n",
              "      <td>True</td>\n",
              "    </tr>\n",
              "    <tr>\n",
              "      <th>1</th>\n",
              "      <td>False</td>\n",
              "      <td>False</td>\n",
              "      <td>True</td>\n",
              "      <td>True</td>\n",
              "    </tr>\n",
              "    <tr>\n",
              "      <th>2</th>\n",
              "      <td>False</td>\n",
              "      <td>False</td>\n",
              "      <td>True</td>\n",
              "      <td>True</td>\n",
              "    </tr>\n",
              "    <tr>\n",
              "      <th>3</th>\n",
              "      <td>False</td>\n",
              "      <td>False</td>\n",
              "      <td>True</td>\n",
              "      <td>True</td>\n",
              "    </tr>\n",
              "    <tr>\n",
              "      <th>4</th>\n",
              "      <td>False</td>\n",
              "      <td>False</td>\n",
              "      <td>True</td>\n",
              "      <td>True</td>\n",
              "    </tr>\n",
              "  </tbody>\n",
              "</table>\n",
              "</div>\n",
              "      <button class=\"colab-df-convert\" onclick=\"convertToInteractive('df-cf8776c4-162c-4ab6-89a0-7775ebc26257')\"\n",
              "              title=\"Convert this dataframe to an interactive table.\"\n",
              "              style=\"display:none;\">\n",
              "        \n",
              "  <svg xmlns=\"http://www.w3.org/2000/svg\" height=\"24px\"viewBox=\"0 0 24 24\"\n",
              "       width=\"24px\">\n",
              "    <path d=\"M0 0h24v24H0V0z\" fill=\"none\"/>\n",
              "    <path d=\"M18.56 5.44l.94 2.06.94-2.06 2.06-.94-2.06-.94-.94-2.06-.94 2.06-2.06.94zm-11 1L8.5 8.5l.94-2.06 2.06-.94-2.06-.94L8.5 2.5l-.94 2.06-2.06.94zm10 10l.94 2.06.94-2.06 2.06-.94-2.06-.94-.94-2.06-.94 2.06-2.06.94z\"/><path d=\"M17.41 7.96l-1.37-1.37c-.4-.4-.92-.59-1.43-.59-.52 0-1.04.2-1.43.59L10.3 9.45l-7.72 7.72c-.78.78-.78 2.05 0 2.83L4 21.41c.39.39.9.59 1.41.59.51 0 1.02-.2 1.41-.59l7.78-7.78 2.81-2.81c.8-.78.8-2.07 0-2.86zM5.41 20L4 18.59l7.72-7.72 1.47 1.35L5.41 20z\"/>\n",
              "  </svg>\n",
              "      </button>\n",
              "      \n",
              "  <style>\n",
              "    .colab-df-container {\n",
              "      display:flex;\n",
              "      flex-wrap:wrap;\n",
              "      gap: 12px;\n",
              "    }\n",
              "\n",
              "    .colab-df-convert {\n",
              "      background-color: #E8F0FE;\n",
              "      border: none;\n",
              "      border-radius: 50%;\n",
              "      cursor: pointer;\n",
              "      display: none;\n",
              "      fill: #1967D2;\n",
              "      height: 32px;\n",
              "      padding: 0 0 0 0;\n",
              "      width: 32px;\n",
              "    }\n",
              "\n",
              "    .colab-df-convert:hover {\n",
              "      background-color: #E2EBFA;\n",
              "      box-shadow: 0px 1px 2px rgba(60, 64, 67, 0.3), 0px 1px 3px 1px rgba(60, 64, 67, 0.15);\n",
              "      fill: #174EA6;\n",
              "    }\n",
              "\n",
              "    [theme=dark] .colab-df-convert {\n",
              "      background-color: #3B4455;\n",
              "      fill: #D2E3FC;\n",
              "    }\n",
              "\n",
              "    [theme=dark] .colab-df-convert:hover {\n",
              "      background-color: #434B5C;\n",
              "      box-shadow: 0px 1px 3px 1px rgba(0, 0, 0, 0.15);\n",
              "      filter: drop-shadow(0px 1px 2px rgba(0, 0, 0, 0.3));\n",
              "      fill: #FFFFFF;\n",
              "    }\n",
              "  </style>\n",
              "\n",
              "      <script>\n",
              "        const buttonEl =\n",
              "          document.querySelector('#df-cf8776c4-162c-4ab6-89a0-7775ebc26257 button.colab-df-convert');\n",
              "        buttonEl.style.display =\n",
              "          google.colab.kernel.accessAllowed ? 'block' : 'none';\n",
              "\n",
              "        async function convertToInteractive(key) {\n",
              "          const element = document.querySelector('#df-cf8776c4-162c-4ab6-89a0-7775ebc26257');\n",
              "          const dataTable =\n",
              "            await google.colab.kernel.invokeFunction('convertToInteractive',\n",
              "                                                     [key], {});\n",
              "          if (!dataTable) return;\n",
              "\n",
              "          const docLinkHtml = 'Like what you see? Visit the ' +\n",
              "            '<a target=\"_blank\" href=https://colab.research.google.com/notebooks/data_table.ipynb>data table notebook</a>'\n",
              "            + ' to learn more about interactive tables.';\n",
              "          element.innerHTML = '';\n",
              "          dataTable['output_type'] = 'display_data';\n",
              "          await google.colab.output.renderOutput(dataTable, element);\n",
              "          const docLink = document.createElement('div');\n",
              "          docLink.innerHTML = docLinkHtml;\n",
              "          element.appendChild(docLink);\n",
              "        }\n",
              "      </script>\n",
              "    </div>\n",
              "  </div>\n",
              "  "
            ],
            "text/plain": [
              "   user_id   time   bet   win\n",
              "0    False  False  True  True\n",
              "1    False  False  True  True\n",
              "2    False  False  True  True\n",
              "3    False  False  True  True\n",
              "4    False  False  True  True"
            ]
          },
          "metadata": {},
          "execution_count": 108
        }
      ],
      "source": [
        "log = pd.read_csv('/log.csv', header = None)\n",
        "log.columns = ['user_id','time', 'bet','win']\n",
        "log.head().isna() "
      ]
    },
    {
      "cell_type": "code",
      "source": [
        "df = log.win.isna()\n",
        "df.value_counts()"
      ],
      "metadata": {
        "colab": {
          "base_uri": "https://localhost:8080/"
        },
        "id": "WCLsnNJQBG2d",
        "outputId": "9486cc15-ad1e-48bd-8de8-2f1dc54ff5c4"
      },
      "execution_count": null,
      "outputs": [
        {
          "output_type": "execute_result",
          "data": {
            "text/plain": [
              "True     862\n",
              "False    138\n",
              "Name: win, dtype: int64"
            ]
          },
          "metadata": {},
          "execution_count": 109
        }
      ]
    },
    {
      "cell_type": "code",
      "source": [
        "#Сколько в датасете столбцов без пропусков?\n",
        "log.dropna(axis = 1)\n",
        "#1"
      ],
      "metadata": {
        "colab": {
          "base_uri": "https://localhost:8080/",
          "height": 424
        },
        "id": "YIjtBbSmXAAq",
        "outputId": "bef4789b-3ef4-421a-e409-461e677e3642"
      },
      "execution_count": null,
      "outputs": [
        {
          "output_type": "execute_result",
          "data": {
            "text/html": [
              "\n",
              "  <div id=\"df-147dda53-39c0-4602-8087-f2c1f38cfec8\">\n",
              "    <div class=\"colab-df-container\">\n",
              "      <div>\n",
              "<style scoped>\n",
              "    .dataframe tbody tr th:only-of-type {\n",
              "        vertical-align: middle;\n",
              "    }\n",
              "\n",
              "    .dataframe tbody tr th {\n",
              "        vertical-align: top;\n",
              "    }\n",
              "\n",
              "    .dataframe thead th {\n",
              "        text-align: right;\n",
              "    }\n",
              "</style>\n",
              "<table border=\"1\" class=\"dataframe\">\n",
              "  <thead>\n",
              "    <tr style=\"text-align: right;\">\n",
              "      <th></th>\n",
              "      <th>user_id</th>\n",
              "    </tr>\n",
              "  </thead>\n",
              "  <tbody>\n",
              "    <tr>\n",
              "      <th>0</th>\n",
              "      <td>Запись пользователя № - user_919</td>\n",
              "    </tr>\n",
              "    <tr>\n",
              "      <th>1</th>\n",
              "      <td>Запись пользователя № - user_973</td>\n",
              "    </tr>\n",
              "    <tr>\n",
              "      <th>2</th>\n",
              "      <td>Запись пользователя № - user_903</td>\n",
              "    </tr>\n",
              "    <tr>\n",
              "      <th>3</th>\n",
              "      <td>Запись пользователя № - user_954</td>\n",
              "    </tr>\n",
              "    <tr>\n",
              "      <th>4</th>\n",
              "      <td>Запись пользователя № - user_954</td>\n",
              "    </tr>\n",
              "    <tr>\n",
              "      <th>...</th>\n",
              "      <td>...</td>\n",
              "    </tr>\n",
              "    <tr>\n",
              "      <th>995</th>\n",
              "      <td>Запись пользователя № - user_984</td>\n",
              "    </tr>\n",
              "    <tr>\n",
              "      <th>996</th>\n",
              "      <td>#error</td>\n",
              "    </tr>\n",
              "    <tr>\n",
              "      <th>997</th>\n",
              "      <td>#error</td>\n",
              "    </tr>\n",
              "    <tr>\n",
              "      <th>998</th>\n",
              "      <td>#error</td>\n",
              "    </tr>\n",
              "    <tr>\n",
              "      <th>999</th>\n",
              "      <td>#error</td>\n",
              "    </tr>\n",
              "  </tbody>\n",
              "</table>\n",
              "<p>1000 rows × 1 columns</p>\n",
              "</div>\n",
              "      <button class=\"colab-df-convert\" onclick=\"convertToInteractive('df-147dda53-39c0-4602-8087-f2c1f38cfec8')\"\n",
              "              title=\"Convert this dataframe to an interactive table.\"\n",
              "              style=\"display:none;\">\n",
              "        \n",
              "  <svg xmlns=\"http://www.w3.org/2000/svg\" height=\"24px\"viewBox=\"0 0 24 24\"\n",
              "       width=\"24px\">\n",
              "    <path d=\"M0 0h24v24H0V0z\" fill=\"none\"/>\n",
              "    <path d=\"M18.56 5.44l.94 2.06.94-2.06 2.06-.94-2.06-.94-.94-2.06-.94 2.06-2.06.94zm-11 1L8.5 8.5l.94-2.06 2.06-.94-2.06-.94L8.5 2.5l-.94 2.06-2.06.94zm10 10l.94 2.06.94-2.06 2.06-.94-2.06-.94-.94-2.06-.94 2.06-2.06.94z\"/><path d=\"M17.41 7.96l-1.37-1.37c-.4-.4-.92-.59-1.43-.59-.52 0-1.04.2-1.43.59L10.3 9.45l-7.72 7.72c-.78.78-.78 2.05 0 2.83L4 21.41c.39.39.9.59 1.41.59.51 0 1.02-.2 1.41-.59l7.78-7.78 2.81-2.81c.8-.78.8-2.07 0-2.86zM5.41 20L4 18.59l7.72-7.72 1.47 1.35L5.41 20z\"/>\n",
              "  </svg>\n",
              "      </button>\n",
              "      \n",
              "  <style>\n",
              "    .colab-df-container {\n",
              "      display:flex;\n",
              "      flex-wrap:wrap;\n",
              "      gap: 12px;\n",
              "    }\n",
              "\n",
              "    .colab-df-convert {\n",
              "      background-color: #E8F0FE;\n",
              "      border: none;\n",
              "      border-radius: 50%;\n",
              "      cursor: pointer;\n",
              "      display: none;\n",
              "      fill: #1967D2;\n",
              "      height: 32px;\n",
              "      padding: 0 0 0 0;\n",
              "      width: 32px;\n",
              "    }\n",
              "\n",
              "    .colab-df-convert:hover {\n",
              "      background-color: #E2EBFA;\n",
              "      box-shadow: 0px 1px 2px rgba(60, 64, 67, 0.3), 0px 1px 3px 1px rgba(60, 64, 67, 0.15);\n",
              "      fill: #174EA6;\n",
              "    }\n",
              "\n",
              "    [theme=dark] .colab-df-convert {\n",
              "      background-color: #3B4455;\n",
              "      fill: #D2E3FC;\n",
              "    }\n",
              "\n",
              "    [theme=dark] .colab-df-convert:hover {\n",
              "      background-color: #434B5C;\n",
              "      box-shadow: 0px 1px 3px 1px rgba(0, 0, 0, 0.15);\n",
              "      filter: drop-shadow(0px 1px 2px rgba(0, 0, 0, 0.3));\n",
              "      fill: #FFFFFF;\n",
              "    }\n",
              "  </style>\n",
              "\n",
              "      <script>\n",
              "        const buttonEl =\n",
              "          document.querySelector('#df-147dda53-39c0-4602-8087-f2c1f38cfec8 button.colab-df-convert');\n",
              "        buttonEl.style.display =\n",
              "          google.colab.kernel.accessAllowed ? 'block' : 'none';\n",
              "\n",
              "        async function convertToInteractive(key) {\n",
              "          const element = document.querySelector('#df-147dda53-39c0-4602-8087-f2c1f38cfec8');\n",
              "          const dataTable =\n",
              "            await google.colab.kernel.invokeFunction('convertToInteractive',\n",
              "                                                     [key], {});\n",
              "          if (!dataTable) return;\n",
              "\n",
              "          const docLinkHtml = 'Like what you see? Visit the ' +\n",
              "            '<a target=\"_blank\" href=https://colab.research.google.com/notebooks/data_table.ipynb>data table notebook</a>'\n",
              "            + ' to learn more about interactive tables.';\n",
              "          element.innerHTML = '';\n",
              "          dataTable['output_type'] = 'display_data';\n",
              "          await google.colab.output.renderOutput(dataTable, element);\n",
              "          const docLink = document.createElement('div');\n",
              "          docLink.innerHTML = docLinkHtml;\n",
              "          element.appendChild(docLink);\n",
              "        }\n",
              "      </script>\n",
              "    </div>\n",
              "  </div>\n",
              "  "
            ],
            "text/plain": [
              "                              user_id\n",
              "0    Запись пользователя № - user_919\n",
              "1    Запись пользователя № - user_973\n",
              "2    Запись пользователя № - user_903\n",
              "3    Запись пользователя № - user_954\n",
              "4    Запись пользователя № - user_954\n",
              "..                                ...\n",
              "995  Запись пользователя № - user_984\n",
              "996                            #error\n",
              "997                            #error\n",
              "998                            #error\n",
              "999                            #error\n",
              "\n",
              "[1000 rows x 1 columns]"
            ]
          },
          "metadata": {},
          "execution_count": 110
        }
      ]
    },
    {
      "cell_type": "code",
      "source": [
        "#Сколько в датасете строк без пропусков?\n",
        "log.dropna(axis = 0)\n",
        "#133"
      ],
      "metadata": {
        "colab": {
          "base_uri": "https://localhost:8080/",
          "height": 424
        },
        "id": "seq0tl-kWdwp",
        "outputId": "dd7cb6d4-4771-4d2c-9f7c-c6b8722a13b4"
      },
      "execution_count": null,
      "outputs": [
        {
          "output_type": "execute_result",
          "data": {
            "text/html": [
              "\n",
              "  <div id=\"df-59f5c9bc-4909-48af-8064-67278e4fc701\">\n",
              "    <div class=\"colab-df-container\">\n",
              "      <div>\n",
              "<style scoped>\n",
              "    .dataframe tbody tr th:only-of-type {\n",
              "        vertical-align: middle;\n",
              "    }\n",
              "\n",
              "    .dataframe tbody tr th {\n",
              "        vertical-align: top;\n",
              "    }\n",
              "\n",
              "    .dataframe thead th {\n",
              "        text-align: right;\n",
              "    }\n",
              "</style>\n",
              "<table border=\"1\" class=\"dataframe\">\n",
              "  <thead>\n",
              "    <tr style=\"text-align: right;\">\n",
              "      <th></th>\n",
              "      <th>user_id</th>\n",
              "      <th>time</th>\n",
              "      <th>bet</th>\n",
              "      <th>win</th>\n",
              "    </tr>\n",
              "  </thead>\n",
              "  <tbody>\n",
              "    <tr>\n",
              "      <th>14</th>\n",
              "      <td>Запись пользователя № - user_917</td>\n",
              "      <td>[2019-01-02 8:57:36</td>\n",
              "      <td>145732.0</td>\n",
              "      <td>1987653.0</td>\n",
              "    </tr>\n",
              "    <tr>\n",
              "      <th>29</th>\n",
              "      <td>Запись пользователя № - user_942</td>\n",
              "      <td>[2019-01-04 13:59:42</td>\n",
              "      <td>1678321.0</td>\n",
              "      <td>9876543.0</td>\n",
              "    </tr>\n",
              "    <tr>\n",
              "      <th>151</th>\n",
              "      <td>Запись пользователя № - user_982</td>\n",
              "      <td>[2019-01-16 21:54:22</td>\n",
              "      <td>100.0</td>\n",
              "      <td>4749.0</td>\n",
              "    </tr>\n",
              "    <tr>\n",
              "      <th>189</th>\n",
              "      <td>Запись пользователя № - user_964</td>\n",
              "      <td>[2019-01-21 18:34:44</td>\n",
              "      <td>200.0</td>\n",
              "      <td>4667.0</td>\n",
              "    </tr>\n",
              "    <tr>\n",
              "      <th>205</th>\n",
              "      <td>Запись пользователя № - user_931</td>\n",
              "      <td>[2019-01-22 5:26:59</td>\n",
              "      <td>300.0</td>\n",
              "      <td>4319.0</td>\n",
              "    </tr>\n",
              "    <tr>\n",
              "      <th>...</th>\n",
              "      <td>...</td>\n",
              "      <td>...</td>\n",
              "      <td>...</td>\n",
              "      <td>...</td>\n",
              "    </tr>\n",
              "    <tr>\n",
              "      <th>967</th>\n",
              "      <td>Запись пользователя № - user_975</td>\n",
              "      <td>[2019-04-19 22:25:15</td>\n",
              "      <td>1000.0</td>\n",
              "      <td>6108.0</td>\n",
              "    </tr>\n",
              "    <tr>\n",
              "      <th>971</th>\n",
              "      <td>Запись пользователя № - user_912</td>\n",
              "      <td>[2019-04-20 10:35:49</td>\n",
              "      <td>10554.0</td>\n",
              "      <td>31799.0</td>\n",
              "    </tr>\n",
              "    <tr>\n",
              "      <th>972</th>\n",
              "      <td>Запись пользователя № - user_926</td>\n",
              "      <td>[2019-04-20 10:35:50</td>\n",
              "      <td>10354.0</td>\n",
              "      <td>30244.0</td>\n",
              "    </tr>\n",
              "    <tr>\n",
              "      <th>976</th>\n",
              "      <td>Запись пользователя № - user_970</td>\n",
              "      <td>[2019-04-20 10:35:54</td>\n",
              "      <td>10354.0</td>\n",
              "      <td>30691.0</td>\n",
              "    </tr>\n",
              "    <tr>\n",
              "      <th>991</th>\n",
              "      <td>Запись пользователя № - user_965</td>\n",
              "      <td>[2019-04-20 12:55:41</td>\n",
              "      <td>800.0</td>\n",
              "      <td>6927.0</td>\n",
              "    </tr>\n",
              "  </tbody>\n",
              "</table>\n",
              "<p>133 rows × 4 columns</p>\n",
              "</div>\n",
              "      <button class=\"colab-df-convert\" onclick=\"convertToInteractive('df-59f5c9bc-4909-48af-8064-67278e4fc701')\"\n",
              "              title=\"Convert this dataframe to an interactive table.\"\n",
              "              style=\"display:none;\">\n",
              "        \n",
              "  <svg xmlns=\"http://www.w3.org/2000/svg\" height=\"24px\"viewBox=\"0 0 24 24\"\n",
              "       width=\"24px\">\n",
              "    <path d=\"M0 0h24v24H0V0z\" fill=\"none\"/>\n",
              "    <path d=\"M18.56 5.44l.94 2.06.94-2.06 2.06-.94-2.06-.94-.94-2.06-.94 2.06-2.06.94zm-11 1L8.5 8.5l.94-2.06 2.06-.94-2.06-.94L8.5 2.5l-.94 2.06-2.06.94zm10 10l.94 2.06.94-2.06 2.06-.94-2.06-.94-.94-2.06-.94 2.06-2.06.94z\"/><path d=\"M17.41 7.96l-1.37-1.37c-.4-.4-.92-.59-1.43-.59-.52 0-1.04.2-1.43.59L10.3 9.45l-7.72 7.72c-.78.78-.78 2.05 0 2.83L4 21.41c.39.39.9.59 1.41.59.51 0 1.02-.2 1.41-.59l7.78-7.78 2.81-2.81c.8-.78.8-2.07 0-2.86zM5.41 20L4 18.59l7.72-7.72 1.47 1.35L5.41 20z\"/>\n",
              "  </svg>\n",
              "      </button>\n",
              "      \n",
              "  <style>\n",
              "    .colab-df-container {\n",
              "      display:flex;\n",
              "      flex-wrap:wrap;\n",
              "      gap: 12px;\n",
              "    }\n",
              "\n",
              "    .colab-df-convert {\n",
              "      background-color: #E8F0FE;\n",
              "      border: none;\n",
              "      border-radius: 50%;\n",
              "      cursor: pointer;\n",
              "      display: none;\n",
              "      fill: #1967D2;\n",
              "      height: 32px;\n",
              "      padding: 0 0 0 0;\n",
              "      width: 32px;\n",
              "    }\n",
              "\n",
              "    .colab-df-convert:hover {\n",
              "      background-color: #E2EBFA;\n",
              "      box-shadow: 0px 1px 2px rgba(60, 64, 67, 0.3), 0px 1px 3px 1px rgba(60, 64, 67, 0.15);\n",
              "      fill: #174EA6;\n",
              "    }\n",
              "\n",
              "    [theme=dark] .colab-df-convert {\n",
              "      background-color: #3B4455;\n",
              "      fill: #D2E3FC;\n",
              "    }\n",
              "\n",
              "    [theme=dark] .colab-df-convert:hover {\n",
              "      background-color: #434B5C;\n",
              "      box-shadow: 0px 1px 3px 1px rgba(0, 0, 0, 0.15);\n",
              "      filter: drop-shadow(0px 1px 2px rgba(0, 0, 0, 0.3));\n",
              "      fill: #FFFFFF;\n",
              "    }\n",
              "  </style>\n",
              "\n",
              "      <script>\n",
              "        const buttonEl =\n",
              "          document.querySelector('#df-59f5c9bc-4909-48af-8064-67278e4fc701 button.colab-df-convert');\n",
              "        buttonEl.style.display =\n",
              "          google.colab.kernel.accessAllowed ? 'block' : 'none';\n",
              "\n",
              "        async function convertToInteractive(key) {\n",
              "          const element = document.querySelector('#df-59f5c9bc-4909-48af-8064-67278e4fc701');\n",
              "          const dataTable =\n",
              "            await google.colab.kernel.invokeFunction('convertToInteractive',\n",
              "                                                     [key], {});\n",
              "          if (!dataTable) return;\n",
              "\n",
              "          const docLinkHtml = 'Like what you see? Visit the ' +\n",
              "            '<a target=\"_blank\" href=https://colab.research.google.com/notebooks/data_table.ipynb>data table notebook</a>'\n",
              "            + ' to learn more about interactive tables.';\n",
              "          element.innerHTML = '';\n",
              "          dataTable['output_type'] = 'display_data';\n",
              "          await google.colab.output.renderOutput(dataTable, element);\n",
              "          const docLink = document.createElement('div');\n",
              "          docLink.innerHTML = docLinkHtml;\n",
              "          element.appendChild(docLink);\n",
              "        }\n",
              "      </script>\n",
              "    </div>\n",
              "  </div>\n",
              "  "
            ],
            "text/plain": [
              "                              user_id  ...        win\n",
              "14   Запись пользователя № - user_917  ...  1987653.0\n",
              "29   Запись пользователя № - user_942  ...  9876543.0\n",
              "151  Запись пользователя № - user_982  ...     4749.0\n",
              "189  Запись пользователя № - user_964  ...     4667.0\n",
              "205  Запись пользователя № - user_931  ...     4319.0\n",
              "..                                ...  ...        ...\n",
              "967  Запись пользователя № - user_975  ...     6108.0\n",
              "971  Запись пользователя № - user_912  ...    31799.0\n",
              "972  Запись пользователя № - user_926  ...    30244.0\n",
              "976  Запись пользователя № - user_970  ...    30691.0\n",
              "991  Запись пользователя № - user_965  ...     6927.0\n",
              "\n",
              "[133 rows x 4 columns]"
            ]
          },
          "metadata": {},
          "execution_count": 111
        }
      ]
    },
    {
      "cell_type": "code",
      "source": [
        "log.drop_duplicates(subset = ('user_id', 'time'))"
      ],
      "metadata": {
        "colab": {
          "base_uri": "https://localhost:8080/",
          "height": 424
        },
        "id": "2Yo32NHvXZOQ",
        "outputId": "a4c8799a-7459-4440-861a-fb1d9440c37a"
      },
      "execution_count": null,
      "outputs": [
        {
          "output_type": "execute_result",
          "data": {
            "text/html": [
              "\n",
              "  <div id=\"df-4e7dd801-92c5-4a80-91ff-127f03b0cd9c\">\n",
              "    <div class=\"colab-df-container\">\n",
              "      <div>\n",
              "<style scoped>\n",
              "    .dataframe tbody tr th:only-of-type {\n",
              "        vertical-align: middle;\n",
              "    }\n",
              "\n",
              "    .dataframe tbody tr th {\n",
              "        vertical-align: top;\n",
              "    }\n",
              "\n",
              "    .dataframe thead th {\n",
              "        text-align: right;\n",
              "    }\n",
              "</style>\n",
              "<table border=\"1\" class=\"dataframe\">\n",
              "  <thead>\n",
              "    <tr style=\"text-align: right;\">\n",
              "      <th></th>\n",
              "      <th>user_id</th>\n",
              "      <th>time</th>\n",
              "      <th>bet</th>\n",
              "      <th>win</th>\n",
              "    </tr>\n",
              "  </thead>\n",
              "  <tbody>\n",
              "    <tr>\n",
              "      <th>0</th>\n",
              "      <td>Запись пользователя № - user_919</td>\n",
              "      <td>[2019-01-01 14:06:51</td>\n",
              "      <td>NaN</td>\n",
              "      <td>NaN</td>\n",
              "    </tr>\n",
              "    <tr>\n",
              "      <th>1</th>\n",
              "      <td>Запись пользователя № - user_973</td>\n",
              "      <td>[2019-01-01 14:51:16</td>\n",
              "      <td>NaN</td>\n",
              "      <td>NaN</td>\n",
              "    </tr>\n",
              "    <tr>\n",
              "      <th>2</th>\n",
              "      <td>Запись пользователя № - user_903</td>\n",
              "      <td>[2019-01-01 16:31:16</td>\n",
              "      <td>NaN</td>\n",
              "      <td>NaN</td>\n",
              "    </tr>\n",
              "    <tr>\n",
              "      <th>3</th>\n",
              "      <td>Запись пользователя № - user_954</td>\n",
              "      <td>[2019-01-01 17:17:51</td>\n",
              "      <td>NaN</td>\n",
              "      <td>NaN</td>\n",
              "    </tr>\n",
              "    <tr>\n",
              "      <th>4</th>\n",
              "      <td>Запись пользователя № - user_954</td>\n",
              "      <td>[2019-01-01 21:31:18</td>\n",
              "      <td>NaN</td>\n",
              "      <td>NaN</td>\n",
              "    </tr>\n",
              "    <tr>\n",
              "      <th>...</th>\n",
              "      <td>...</td>\n",
              "      <td>...</td>\n",
              "      <td>...</td>\n",
              "      <td>...</td>\n",
              "    </tr>\n",
              "    <tr>\n",
              "      <th>991</th>\n",
              "      <td>Запись пользователя № - user_965</td>\n",
              "      <td>[2019-04-20 12:55:41</td>\n",
              "      <td>800.0</td>\n",
              "      <td>6927.0</td>\n",
              "    </tr>\n",
              "    <tr>\n",
              "      <th>992</th>\n",
              "      <td>Запись пользователя № - user_967</td>\n",
              "      <td>[2019-04-20 14:59:36</td>\n",
              "      <td>10154.0</td>\n",
              "      <td>NaN</td>\n",
              "    </tr>\n",
              "    <tr>\n",
              "      <th>993</th>\n",
              "      <td>Запись пользователя № - user_973</td>\n",
              "      <td>[2019-04-20 17:09:56</td>\n",
              "      <td>10254.0</td>\n",
              "      <td>NaN</td>\n",
              "    </tr>\n",
              "    <tr>\n",
              "      <th>994</th>\n",
              "      <td>Запись пользователя № - user_977</td>\n",
              "      <td>[2019-04-20 18:10:07</td>\n",
              "      <td>10354.0</td>\n",
              "      <td>NaN</td>\n",
              "    </tr>\n",
              "    <tr>\n",
              "      <th>995</th>\n",
              "      <td>Запись пользователя № - user_984</td>\n",
              "      <td>[2019-04-20 9:59:58</td>\n",
              "      <td>9754.0</td>\n",
              "      <td>NaN</td>\n",
              "    </tr>\n",
              "  </tbody>\n",
              "</table>\n",
              "<p>986 rows × 4 columns</p>\n",
              "</div>\n",
              "      <button class=\"colab-df-convert\" onclick=\"convertToInteractive('df-4e7dd801-92c5-4a80-91ff-127f03b0cd9c')\"\n",
              "              title=\"Convert this dataframe to an interactive table.\"\n",
              "              style=\"display:none;\">\n",
              "        \n",
              "  <svg xmlns=\"http://www.w3.org/2000/svg\" height=\"24px\"viewBox=\"0 0 24 24\"\n",
              "       width=\"24px\">\n",
              "    <path d=\"M0 0h24v24H0V0z\" fill=\"none\"/>\n",
              "    <path d=\"M18.56 5.44l.94 2.06.94-2.06 2.06-.94-2.06-.94-.94-2.06-.94 2.06-2.06.94zm-11 1L8.5 8.5l.94-2.06 2.06-.94-2.06-.94L8.5 2.5l-.94 2.06-2.06.94zm10 10l.94 2.06.94-2.06 2.06-.94-2.06-.94-.94-2.06-.94 2.06-2.06.94z\"/><path d=\"M17.41 7.96l-1.37-1.37c-.4-.4-.92-.59-1.43-.59-.52 0-1.04.2-1.43.59L10.3 9.45l-7.72 7.72c-.78.78-.78 2.05 0 2.83L4 21.41c.39.39.9.59 1.41.59.51 0 1.02-.2 1.41-.59l7.78-7.78 2.81-2.81c.8-.78.8-2.07 0-2.86zM5.41 20L4 18.59l7.72-7.72 1.47 1.35L5.41 20z\"/>\n",
              "  </svg>\n",
              "      </button>\n",
              "      \n",
              "  <style>\n",
              "    .colab-df-container {\n",
              "      display:flex;\n",
              "      flex-wrap:wrap;\n",
              "      gap: 12px;\n",
              "    }\n",
              "\n",
              "    .colab-df-convert {\n",
              "      background-color: #E8F0FE;\n",
              "      border: none;\n",
              "      border-radius: 50%;\n",
              "      cursor: pointer;\n",
              "      display: none;\n",
              "      fill: #1967D2;\n",
              "      height: 32px;\n",
              "      padding: 0 0 0 0;\n",
              "      width: 32px;\n",
              "    }\n",
              "\n",
              "    .colab-df-convert:hover {\n",
              "      background-color: #E2EBFA;\n",
              "      box-shadow: 0px 1px 2px rgba(60, 64, 67, 0.3), 0px 1px 3px 1px rgba(60, 64, 67, 0.15);\n",
              "      fill: #174EA6;\n",
              "    }\n",
              "\n",
              "    [theme=dark] .colab-df-convert {\n",
              "      background-color: #3B4455;\n",
              "      fill: #D2E3FC;\n",
              "    }\n",
              "\n",
              "    [theme=dark] .colab-df-convert:hover {\n",
              "      background-color: #434B5C;\n",
              "      box-shadow: 0px 1px 3px 1px rgba(0, 0, 0, 0.15);\n",
              "      filter: drop-shadow(0px 1px 2px rgba(0, 0, 0, 0.3));\n",
              "      fill: #FFFFFF;\n",
              "    }\n",
              "  </style>\n",
              "\n",
              "      <script>\n",
              "        const buttonEl =\n",
              "          document.querySelector('#df-4e7dd801-92c5-4a80-91ff-127f03b0cd9c button.colab-df-convert');\n",
              "        buttonEl.style.display =\n",
              "          google.colab.kernel.accessAllowed ? 'block' : 'none';\n",
              "\n",
              "        async function convertToInteractive(key) {\n",
              "          const element = document.querySelector('#df-4e7dd801-92c5-4a80-91ff-127f03b0cd9c');\n",
              "          const dataTable =\n",
              "            await google.colab.kernel.invokeFunction('convertToInteractive',\n",
              "                                                     [key], {});\n",
              "          if (!dataTable) return;\n",
              "\n",
              "          const docLinkHtml = 'Like what you see? Visit the ' +\n",
              "            '<a target=\"_blank\" href=https://colab.research.google.com/notebooks/data_table.ipynb>data table notebook</a>'\n",
              "            + ' to learn more about interactive tables.';\n",
              "          element.innerHTML = '';\n",
              "          dataTable['output_type'] = 'display_data';\n",
              "          await google.colab.output.renderOutput(dataTable, element);\n",
              "          const docLink = document.createElement('div');\n",
              "          docLink.innerHTML = docLinkHtml;\n",
              "          element.appendChild(docLink);\n",
              "        }\n",
              "      </script>\n",
              "    </div>\n",
              "  </div>\n",
              "  "
            ],
            "text/plain": [
              "                              user_id                  time      bet     win\n",
              "0    Запись пользователя № - user_919  [2019-01-01 14:06:51      NaN     NaN\n",
              "1    Запись пользователя № - user_973  [2019-01-01 14:51:16      NaN     NaN\n",
              "2    Запись пользователя № - user_903  [2019-01-01 16:31:16      NaN     NaN\n",
              "3    Запись пользователя № - user_954  [2019-01-01 17:17:51      NaN     NaN\n",
              "4    Запись пользователя № - user_954  [2019-01-01 21:31:18      NaN     NaN\n",
              "..                                ...                   ...      ...     ...\n",
              "991  Запись пользователя № - user_965  [2019-04-20 12:55:41    800.0  6927.0\n",
              "992  Запись пользователя № - user_967  [2019-04-20 14:59:36  10154.0     NaN\n",
              "993  Запись пользователя № - user_973  [2019-04-20 17:09:56  10254.0     NaN\n",
              "994  Запись пользователя № - user_977  [2019-04-20 18:10:07  10354.0     NaN\n",
              "995  Запись пользователя № - user_984   [2019-04-20 9:59:58   9754.0     NaN\n",
              "\n",
              "[986 rows x 4 columns]"
            ]
          },
          "metadata": {},
          "execution_count": 112
        }
      ]
    },
    {
      "cell_type": "code",
      "source": [
        "log = pd.read_csv('/log.csv', header = None)\n",
        "log.columns = ['user_id','time', 'bet','win']\n",
        "log['time'] = log['time'].str.replace('[', '')\n",
        "log.dropna(axis = 1)\n",
        "log['time'] = pd.to_datetime(log['time'])\n",
        "max = log['time'].max()\n",
        "print(max)"
      ],
      "metadata": {
        "colab": {
          "base_uri": "https://localhost:8080/"
        },
        "id": "j0rUonl9f1HE",
        "outputId": "b12be485-c3e1-4c23-a9ed-52410b16aa94"
      },
      "execution_count": null,
      "outputs": [
        {
          "output_type": "stream",
          "name": "stdout",
          "text": [
            "2019-04-20 18:10:07\n"
          ]
        },
        {
          "output_type": "stream",
          "name": "stderr",
          "text": [
            "/usr/local/lib/python3.7/dist-packages/ipykernel_launcher.py:3: FutureWarning: The default value of regex will change from True to False in a future version. In addition, single character regular expressions will *not* be treated as literal strings when regex=True.\n",
            "  This is separate from the ipykernel package so we can avoid doing imports until\n"
          ]
        }
      ]
    },
    {
      "cell_type": "code",
      "source": [
        "log = pd.read_csv(\"/log.csv\")\n",
        "log = log.dropna()\n",
        "log.columns = [\"user_id\", \"time\", \"bet\", \"win\"]\n",
        "log[\"time\"] = log[\"time\"].apply(lambda x: x[1:])\n",
        "log[\"time\"] = pd.to_datetime(log[\"time\"])\n",
        "log['time'] = log.time.apply(lambda x: x.minute)\n",
        "log[\"time\"].head()"
      ],
      "metadata": {
        "colab": {
          "base_uri": "https://localhost:8080/"
        },
        "id": "gR9Prl5ilpxH",
        "outputId": "106d51e1-8f9f-4ed1-f879-d32f46fdf021"
      },
      "execution_count": null,
      "outputs": [
        {
          "output_type": "execute_result",
          "data": {
            "text/plain": [
              "13     57\n",
              "28     59\n",
              "150    54\n",
              "188    34\n",
              "204    26\n",
              "Name: time, dtype: int64"
            ]
          },
          "metadata": {},
          "execution_count": 114
        }
      ]
    },
    {
      "cell_type": "code",
      "source": [
        "#Какая минута встречалась в данных чаще всего?\n",
        "log = pd.read_csv(\"/log.csv\")\n",
        "log.columns = [\"user_id\", \"time\", \"bet\", \"win\"]\n",
        "log = log.dropna(subset=['time'], axis=0)\n",
        "log[\"time\"] = log[\"time\"].apply(lambda x: x[1:])\n",
        "log[\"time\"] = pd.to_datetime(log[\"time\"])\n",
        "minute = log['time'].dt.minute\n",
        "minute.value_counts().head()"
      ],
      "metadata": {
        "colab": {
          "base_uri": "https://localhost:8080/"
        },
        "id": "7btRQ1_xm0jV",
        "outputId": "c7a5e741-ed7b-4ae5-f047-6e59cf1f7f89"
      },
      "execution_count": null,
      "outputs": [
        {
          "output_type": "execute_result",
          "data": {
            "text/plain": [
              "36    25\n",
              "31    23\n",
              "50    22\n",
              "5     21\n",
              "18    21\n",
              "Name: time, dtype: int64"
            ]
          },
          "metadata": {},
          "execution_count": 115
        }
      ]
    },
    {
      "cell_type": "code",
      "source": [
        "#Какой месяц встречается в данных реже всего?\n",
        "log = pd.read_csv(\"/log.csv\")\n",
        "log.columns = [\"user_id\", \"time\", \"bet\", \"win\"]\n",
        "log = log.dropna(subset=['time'], axis=0)\n",
        "log[\"time\"] = log[\"time\"].apply(lambda x: x[1:])\n",
        "log[\"time\"] = pd.to_datetime(log[\"time\"])\n",
        "month = log['time'].dt.month\n",
        "month.value_counts(ascending=True)"
      ],
      "metadata": {
        "colab": {
          "base_uri": "https://localhost:8080/"
        },
        "id": "7O2NlxgioD3l",
        "outputId": "8322da84-bd76-4aed-9752-e94e34185ceb"
      },
      "execution_count": null,
      "outputs": [
        {
          "output_type": "execute_result",
          "data": {
            "text/plain": [
              "4    170\n",
              "2    259\n",
              "3    264\n",
              "1    291\n",
              "Name: time, dtype: int64"
            ]
          },
          "metadata": {},
          "execution_count": 116
        }
      ]
    },
    {
      "cell_type": "code",
      "source": [
        "#Сколько дней в данных являются выходными (то есть суббота или воскресенье)?\n",
        "log = pd.read_csv(\"/log.csv\")\n",
        "log.columns = [\"user_id\", \"time\", \"bet\", \"win\"]\n",
        "log = log.dropna(subset=['time'], axis=0)\n",
        "log[\"time\"] = log[\"time\"].apply(lambda x: x[1:])\n",
        "log[\"time\"] = pd.to_datetime(log[\"time\"])\n",
        "wday = log['time'].dt.day_of_week\n",
        "def wds(w):\n",
        "  if w == 5 or w == 6:\n",
        "    return 1 \n",
        "  else:\n",
        "    return 0\n",
        "day = wday.apply(wds)\n",
        "day.sum()"
      ],
      "metadata": {
        "colab": {
          "base_uri": "https://localhost:8080/"
        },
        "id": "TwJby4Hqq2ui",
        "outputId": "dcfbe210-80bc-4793-fdb6-d61d542acbb4"
      },
      "execution_count": null,
      "outputs": [
        {
          "output_type": "execute_result",
          "data": {
            "text/plain": [
              "283"
            ]
          },
          "metadata": {},
          "execution_count": 117
        }
      ]
    },
    {
      "cell_type": "code",
      "source": [
        "#Какое время суток встречается в данных реже всего?\n",
        "log = pd.read_csv(\"/log.csv\")\n",
        "log.columns = [\"user_id\", \"time\", \"bet\", \"win\"]\n",
        "log = log.dropna(subset=['time'], axis=0)\n",
        "log[\"time\"] = log[\"time\"].apply(lambda x: x[1:])\n",
        "log[\"time\"] = pd.to_datetime(log[\"time\"])\n",
        "hour = log['time'].dt.hour\n",
        "\n",
        "def hhor(h):\n",
        "  if 0 <= h <= 5:\n",
        "    return 'ночь'\n",
        "  if 6 <= h <= 11:\n",
        "    return 'утро'\n",
        "  if 12 <= h <= 17:\n",
        "    return 'день'\n",
        "  if 18 <= h <= 23:\n",
        "    return 'вечер'\n",
        "\n",
        "t = hour.apply(hhor)\n",
        "t.value_counts()"
      ],
      "metadata": {
        "colab": {
          "base_uri": "https://localhost:8080/"
        },
        "id": "-fxjnPMBtL5I",
        "outputId": "392c0e1c-8c02-4aed-e62d-f1b22452740d"
      },
      "execution_count": null,
      "outputs": [
        {
          "output_type": "stream",
          "name": "stderr",
          "text": [
            "/usr/local/lib/python3.7/dist-packages/ipykernel_launcher.py:5: SettingWithCopyWarning: \n",
            "A value is trying to be set on a copy of a slice from a DataFrame.\n",
            "Try using .loc[row_indexer,col_indexer] = value instead\n",
            "\n",
            "See the caveats in the documentation: https://pandas.pydata.org/pandas-docs/stable/user_guide/indexing.html#returning-a-view-versus-a-copy\n",
            "  \"\"\"\n",
            "/usr/local/lib/python3.7/dist-packages/ipykernel_launcher.py:6: SettingWithCopyWarning: \n",
            "A value is trying to be set on a copy of a slice from a DataFrame.\n",
            "Try using .loc[row_indexer,col_indexer] = value instead\n",
            "\n",
            "See the caveats in the documentation: https://pandas.pydata.org/pandas-docs/stable/user_guide/indexing.html#returning-a-view-versus-a-copy\n",
            "  \n"
          ]
        },
        {
          "output_type": "execute_result",
          "data": {
            "text/plain": [
              "ночь     265\n",
              "утро     253\n",
              "день     239\n",
              "вечер    227\n",
              "Name: time, dtype: int64"
            ]
          },
          "metadata": {},
          "execution_count": 118
        }
      ]
    },
    {
      "cell_type": "code",
      "source": [
        "log = pd.read_csv(\"/log.csv\", header=None)\n",
        "log.columns = [\"user_id\", \"time\", \"bet\", \"win\"]\n",
        "log = log.dropna()\n",
        "log[\"time\"] = log[\"time\"].apply(lambda x: x[1:])\n",
        "log[\"time\"] = pd.to_datetime(log[\"time\"])\n",
        "log['hour'] = log['time'].dt.hour\n",
        "log"
      ],
      "metadata": {
        "colab": {
          "base_uri": "https://localhost:8080/",
          "height": 424
        },
        "id": "Y7w5f91ovke_",
        "outputId": "feac0181-ae61-4a93-f545-e4f8a19715c2"
      },
      "execution_count": null,
      "outputs": [
        {
          "output_type": "execute_result",
          "data": {
            "text/html": [
              "\n",
              "  <div id=\"df-902bd55b-ea84-42e0-a67c-b68a875dc631\">\n",
              "    <div class=\"colab-df-container\">\n",
              "      <div>\n",
              "<style scoped>\n",
              "    .dataframe tbody tr th:only-of-type {\n",
              "        vertical-align: middle;\n",
              "    }\n",
              "\n",
              "    .dataframe tbody tr th {\n",
              "        vertical-align: top;\n",
              "    }\n",
              "\n",
              "    .dataframe thead th {\n",
              "        text-align: right;\n",
              "    }\n",
              "</style>\n",
              "<table border=\"1\" class=\"dataframe\">\n",
              "  <thead>\n",
              "    <tr style=\"text-align: right;\">\n",
              "      <th></th>\n",
              "      <th>user_id</th>\n",
              "      <th>time</th>\n",
              "      <th>bet</th>\n",
              "      <th>win</th>\n",
              "      <th>hour</th>\n",
              "    </tr>\n",
              "  </thead>\n",
              "  <tbody>\n",
              "    <tr>\n",
              "      <th>14</th>\n",
              "      <td>Запись пользователя № - user_917</td>\n",
              "      <td>2019-01-02 08:57:36</td>\n",
              "      <td>145732.0</td>\n",
              "      <td>1987653.0</td>\n",
              "      <td>8</td>\n",
              "    </tr>\n",
              "    <tr>\n",
              "      <th>29</th>\n",
              "      <td>Запись пользователя № - user_942</td>\n",
              "      <td>2019-01-04 13:59:42</td>\n",
              "      <td>1678321.0</td>\n",
              "      <td>9876543.0</td>\n",
              "      <td>13</td>\n",
              "    </tr>\n",
              "    <tr>\n",
              "      <th>151</th>\n",
              "      <td>Запись пользователя № - user_982</td>\n",
              "      <td>2019-01-16 21:54:22</td>\n",
              "      <td>100.0</td>\n",
              "      <td>4749.0</td>\n",
              "      <td>21</td>\n",
              "    </tr>\n",
              "    <tr>\n",
              "      <th>189</th>\n",
              "      <td>Запись пользователя № - user_964</td>\n",
              "      <td>2019-01-21 18:34:44</td>\n",
              "      <td>200.0</td>\n",
              "      <td>4667.0</td>\n",
              "      <td>18</td>\n",
              "    </tr>\n",
              "    <tr>\n",
              "      <th>205</th>\n",
              "      <td>Запись пользователя № - user_931</td>\n",
              "      <td>2019-01-22 05:26:59</td>\n",
              "      <td>300.0</td>\n",
              "      <td>4319.0</td>\n",
              "      <td>5</td>\n",
              "    </tr>\n",
              "    <tr>\n",
              "      <th>...</th>\n",
              "      <td>...</td>\n",
              "      <td>...</td>\n",
              "      <td>...</td>\n",
              "      <td>...</td>\n",
              "      <td>...</td>\n",
              "    </tr>\n",
              "    <tr>\n",
              "      <th>967</th>\n",
              "      <td>Запись пользователя № - user_975</td>\n",
              "      <td>2019-04-19 22:25:15</td>\n",
              "      <td>1000.0</td>\n",
              "      <td>6108.0</td>\n",
              "      <td>22</td>\n",
              "    </tr>\n",
              "    <tr>\n",
              "      <th>971</th>\n",
              "      <td>Запись пользователя № - user_912</td>\n",
              "      <td>2019-04-20 10:35:49</td>\n",
              "      <td>10554.0</td>\n",
              "      <td>31799.0</td>\n",
              "      <td>10</td>\n",
              "    </tr>\n",
              "    <tr>\n",
              "      <th>972</th>\n",
              "      <td>Запись пользователя № - user_926</td>\n",
              "      <td>2019-04-20 10:35:50</td>\n",
              "      <td>10354.0</td>\n",
              "      <td>30244.0</td>\n",
              "      <td>10</td>\n",
              "    </tr>\n",
              "    <tr>\n",
              "      <th>976</th>\n",
              "      <td>Запись пользователя № - user_970</td>\n",
              "      <td>2019-04-20 10:35:54</td>\n",
              "      <td>10354.0</td>\n",
              "      <td>30691.0</td>\n",
              "      <td>10</td>\n",
              "    </tr>\n",
              "    <tr>\n",
              "      <th>991</th>\n",
              "      <td>Запись пользователя № - user_965</td>\n",
              "      <td>2019-04-20 12:55:41</td>\n",
              "      <td>800.0</td>\n",
              "      <td>6927.0</td>\n",
              "      <td>12</td>\n",
              "    </tr>\n",
              "  </tbody>\n",
              "</table>\n",
              "<p>133 rows × 5 columns</p>\n",
              "</div>\n",
              "      <button class=\"colab-df-convert\" onclick=\"convertToInteractive('df-902bd55b-ea84-42e0-a67c-b68a875dc631')\"\n",
              "              title=\"Convert this dataframe to an interactive table.\"\n",
              "              style=\"display:none;\">\n",
              "        \n",
              "  <svg xmlns=\"http://www.w3.org/2000/svg\" height=\"24px\"viewBox=\"0 0 24 24\"\n",
              "       width=\"24px\">\n",
              "    <path d=\"M0 0h24v24H0V0z\" fill=\"none\"/>\n",
              "    <path d=\"M18.56 5.44l.94 2.06.94-2.06 2.06-.94-2.06-.94-.94-2.06-.94 2.06-2.06.94zm-11 1L8.5 8.5l.94-2.06 2.06-.94-2.06-.94L8.5 2.5l-.94 2.06-2.06.94zm10 10l.94 2.06.94-2.06 2.06-.94-2.06-.94-.94-2.06-.94 2.06-2.06.94z\"/><path d=\"M17.41 7.96l-1.37-1.37c-.4-.4-.92-.59-1.43-.59-.52 0-1.04.2-1.43.59L10.3 9.45l-7.72 7.72c-.78.78-.78 2.05 0 2.83L4 21.41c.39.39.9.59 1.41.59.51 0 1.02-.2 1.41-.59l7.78-7.78 2.81-2.81c.8-.78.8-2.07 0-2.86zM5.41 20L4 18.59l7.72-7.72 1.47 1.35L5.41 20z\"/>\n",
              "  </svg>\n",
              "      </button>\n",
              "      \n",
              "  <style>\n",
              "    .colab-df-container {\n",
              "      display:flex;\n",
              "      flex-wrap:wrap;\n",
              "      gap: 12px;\n",
              "    }\n",
              "\n",
              "    .colab-df-convert {\n",
              "      background-color: #E8F0FE;\n",
              "      border: none;\n",
              "      border-radius: 50%;\n",
              "      cursor: pointer;\n",
              "      display: none;\n",
              "      fill: #1967D2;\n",
              "      height: 32px;\n",
              "      padding: 0 0 0 0;\n",
              "      width: 32px;\n",
              "    }\n",
              "\n",
              "    .colab-df-convert:hover {\n",
              "      background-color: #E2EBFA;\n",
              "      box-shadow: 0px 1px 2px rgba(60, 64, 67, 0.3), 0px 1px 3px 1px rgba(60, 64, 67, 0.15);\n",
              "      fill: #174EA6;\n",
              "    }\n",
              "\n",
              "    [theme=dark] .colab-df-convert {\n",
              "      background-color: #3B4455;\n",
              "      fill: #D2E3FC;\n",
              "    }\n",
              "\n",
              "    [theme=dark] .colab-df-convert:hover {\n",
              "      background-color: #434B5C;\n",
              "      box-shadow: 0px 1px 3px 1px rgba(0, 0, 0, 0.15);\n",
              "      filter: drop-shadow(0px 1px 2px rgba(0, 0, 0, 0.3));\n",
              "      fill: #FFFFFF;\n",
              "    }\n",
              "  </style>\n",
              "\n",
              "      <script>\n",
              "        const buttonEl =\n",
              "          document.querySelector('#df-902bd55b-ea84-42e0-a67c-b68a875dc631 button.colab-df-convert');\n",
              "        buttonEl.style.display =\n",
              "          google.colab.kernel.accessAllowed ? 'block' : 'none';\n",
              "\n",
              "        async function convertToInteractive(key) {\n",
              "          const element = document.querySelector('#df-902bd55b-ea84-42e0-a67c-b68a875dc631');\n",
              "          const dataTable =\n",
              "            await google.colab.kernel.invokeFunction('convertToInteractive',\n",
              "                                                     [key], {});\n",
              "          if (!dataTable) return;\n",
              "\n",
              "          const docLinkHtml = 'Like what you see? Visit the ' +\n",
              "            '<a target=\"_blank\" href=https://colab.research.google.com/notebooks/data_table.ipynb>data table notebook</a>'\n",
              "            + ' to learn more about interactive tables.';\n",
              "          element.innerHTML = '';\n",
              "          dataTable['output_type'] = 'display_data';\n",
              "          await google.colab.output.renderOutput(dataTable, element);\n",
              "          const docLink = document.createElement('div');\n",
              "          docLink.innerHTML = docLinkHtml;\n",
              "          element.appendChild(docLink);\n",
              "        }\n",
              "      </script>\n",
              "    </div>\n",
              "  </div>\n",
              "  "
            ],
            "text/plain": [
              "                              user_id                time  ...        win  hour\n",
              "14   Запись пользователя № - user_917 2019-01-02 08:57:36  ...  1987653.0     8\n",
              "29   Запись пользователя № - user_942 2019-01-04 13:59:42  ...  9876543.0    13\n",
              "151  Запись пользователя № - user_982 2019-01-16 21:54:22  ...     4749.0    21\n",
              "189  Запись пользователя № - user_964 2019-01-21 18:34:44  ...     4667.0    18\n",
              "205  Запись пользователя № - user_931 2019-01-22 05:26:59  ...     4319.0     5\n",
              "..                                ...                 ...  ...        ...   ...\n",
              "967  Запись пользователя № - user_975 2019-04-19 22:25:15  ...     6108.0    22\n",
              "971  Запись пользователя № - user_912 2019-04-20 10:35:49  ...    31799.0    10\n",
              "972  Запись пользователя № - user_926 2019-04-20 10:35:50  ...    30244.0    10\n",
              "976  Запись пользователя № - user_970 2019-04-20 10:35:54  ...    30691.0    10\n",
              "991  Запись пользователя № - user_965 2019-04-20 12:55:41  ...     6927.0    12\n",
              "\n",
              "[133 rows x 5 columns]"
            ]
          },
          "metadata": {},
          "execution_count": 119
        }
      ]
    },
    {
      "cell_type": "code",
      "source": [
        "#Cколько раз люди приходили, но не делали ставки?\n",
        "log = pd.read_csv(\"/log.csv\", header=None)\n",
        "log.columns = [\"user_id\", \"time\", \"bet\", \"win\"]\n",
        "log[\"bet\"].fillna(0)"
      ],
      "metadata": {
        "colab": {
          "base_uri": "https://localhost:8080/"
        },
        "id": "3-4l2EqLxVDs",
        "outputId": "c6479a99-c424-4e95-d8ec-86356beb648b"
      },
      "execution_count": null,
      "outputs": [
        {
          "output_type": "execute_result",
          "data": {
            "text/plain": [
              "0          0.0\n",
              "1          0.0\n",
              "2          0.0\n",
              "3          0.0\n",
              "4          0.0\n",
              "        ...   \n",
              "995     9754.0\n",
              "996    10054.0\n",
              "997    10454.0\n",
              "998     1000.0\n",
              "999    10754.0\n",
              "Name: bet, Length: 1000, dtype: float64"
            ]
          },
          "metadata": {},
          "execution_count": 120
        }
      ]
    },
    {
      "cell_type": "code",
      "source": [
        "import pandas as pd\n",
        "log = pd.read_csv(\"/log.csv\", header=None)\n",
        "log.columns = [\"user_id\", \"time\", \"bet\", \"win\"]\n",
        "log['bet'] = log[\"bet\"].fillna(0)\n",
        "log['win'] = log['win'].fillna(0)\n",
        "\n",
        "def fillna_win(row):\n",
        "  if row.win > 0:\n",
        "    return row.win\n",
        "  elif row.bet == 0 and row.win == 0:\n",
        "    return 0\n",
        "  elif row.bet > 0 and row.win == 0:\n",
        "    return row.win - row.bet\n",
        "\n",
        "new_win = log.apply(lambda row: fillna_win(row), axis = 1)\n",
        "\n",
        "log['win'] = new_win\n",
        "#Сколько раз участники ставок проиграли деньги?\n",
        "#Для ответа на вопрос посчитайте количество строк, у которых в столбце win находится отрицательное значение.\n",
        "(log['win']<0).sum()"
      ],
      "metadata": {
        "id": "RozzY6tuac4q",
        "colab": {
          "base_uri": "https://localhost:8080/"
        },
        "outputId": "1d6a1bbf-0e9a-4109-ac78-3be507941fa5"
      },
      "execution_count": null,
      "outputs": [
        {
          "output_type": "execute_result",
          "data": {
            "text/plain": [
              "347"
            ]
          },
          "metadata": {},
          "execution_count": 121
        }
      ]
    },
    {
      "cell_type": "code",
      "source": [
        "log.head()"
      ],
      "metadata": {
        "colab": {
          "base_uri": "https://localhost:8080/",
          "height": 206
        },
        "id": "-lrhWlGqA53g",
        "outputId": "0f3be80e-390e-4289-e42d-1024f8cd49ae"
      },
      "execution_count": null,
      "outputs": [
        {
          "output_type": "execute_result",
          "data": {
            "text/html": [
              "\n",
              "  <div id=\"df-f3d1319c-5089-46e7-a3e3-3106f47e105f\">\n",
              "    <div class=\"colab-df-container\">\n",
              "      <div>\n",
              "<style scoped>\n",
              "    .dataframe tbody tr th:only-of-type {\n",
              "        vertical-align: middle;\n",
              "    }\n",
              "\n",
              "    .dataframe tbody tr th {\n",
              "        vertical-align: top;\n",
              "    }\n",
              "\n",
              "    .dataframe thead th {\n",
              "        text-align: right;\n",
              "    }\n",
              "</style>\n",
              "<table border=\"1\" class=\"dataframe\">\n",
              "  <thead>\n",
              "    <tr style=\"text-align: right;\">\n",
              "      <th></th>\n",
              "      <th>user_id</th>\n",
              "      <th>time</th>\n",
              "      <th>bet</th>\n",
              "      <th>win</th>\n",
              "    </tr>\n",
              "  </thead>\n",
              "  <tbody>\n",
              "    <tr>\n",
              "      <th>0</th>\n",
              "      <td>Запись пользователя № - user_919</td>\n",
              "      <td>[2019-01-01 14:06:51</td>\n",
              "      <td>0.0</td>\n",
              "      <td>0.0</td>\n",
              "    </tr>\n",
              "    <tr>\n",
              "      <th>1</th>\n",
              "      <td>Запись пользователя № - user_973</td>\n",
              "      <td>[2019-01-01 14:51:16</td>\n",
              "      <td>0.0</td>\n",
              "      <td>0.0</td>\n",
              "    </tr>\n",
              "    <tr>\n",
              "      <th>2</th>\n",
              "      <td>Запись пользователя № - user_903</td>\n",
              "      <td>[2019-01-01 16:31:16</td>\n",
              "      <td>0.0</td>\n",
              "      <td>0.0</td>\n",
              "    </tr>\n",
              "    <tr>\n",
              "      <th>3</th>\n",
              "      <td>Запись пользователя № - user_954</td>\n",
              "      <td>[2019-01-01 17:17:51</td>\n",
              "      <td>0.0</td>\n",
              "      <td>0.0</td>\n",
              "    </tr>\n",
              "    <tr>\n",
              "      <th>4</th>\n",
              "      <td>Запись пользователя № - user_954</td>\n",
              "      <td>[2019-01-01 21:31:18</td>\n",
              "      <td>0.0</td>\n",
              "      <td>0.0</td>\n",
              "    </tr>\n",
              "  </tbody>\n",
              "</table>\n",
              "</div>\n",
              "      <button class=\"colab-df-convert\" onclick=\"convertToInteractive('df-f3d1319c-5089-46e7-a3e3-3106f47e105f')\"\n",
              "              title=\"Convert this dataframe to an interactive table.\"\n",
              "              style=\"display:none;\">\n",
              "        \n",
              "  <svg xmlns=\"http://www.w3.org/2000/svg\" height=\"24px\"viewBox=\"0 0 24 24\"\n",
              "       width=\"24px\">\n",
              "    <path d=\"M0 0h24v24H0V0z\" fill=\"none\"/>\n",
              "    <path d=\"M18.56 5.44l.94 2.06.94-2.06 2.06-.94-2.06-.94-.94-2.06-.94 2.06-2.06.94zm-11 1L8.5 8.5l.94-2.06 2.06-.94-2.06-.94L8.5 2.5l-.94 2.06-2.06.94zm10 10l.94 2.06.94-2.06 2.06-.94-2.06-.94-.94-2.06-.94 2.06-2.06.94z\"/><path d=\"M17.41 7.96l-1.37-1.37c-.4-.4-.92-.59-1.43-.59-.52 0-1.04.2-1.43.59L10.3 9.45l-7.72 7.72c-.78.78-.78 2.05 0 2.83L4 21.41c.39.39.9.59 1.41.59.51 0 1.02-.2 1.41-.59l7.78-7.78 2.81-2.81c.8-.78.8-2.07 0-2.86zM5.41 20L4 18.59l7.72-7.72 1.47 1.35L5.41 20z\"/>\n",
              "  </svg>\n",
              "      </button>\n",
              "      \n",
              "  <style>\n",
              "    .colab-df-container {\n",
              "      display:flex;\n",
              "      flex-wrap:wrap;\n",
              "      gap: 12px;\n",
              "    }\n",
              "\n",
              "    .colab-df-convert {\n",
              "      background-color: #E8F0FE;\n",
              "      border: none;\n",
              "      border-radius: 50%;\n",
              "      cursor: pointer;\n",
              "      display: none;\n",
              "      fill: #1967D2;\n",
              "      height: 32px;\n",
              "      padding: 0 0 0 0;\n",
              "      width: 32px;\n",
              "    }\n",
              "\n",
              "    .colab-df-convert:hover {\n",
              "      background-color: #E2EBFA;\n",
              "      box-shadow: 0px 1px 2px rgba(60, 64, 67, 0.3), 0px 1px 3px 1px rgba(60, 64, 67, 0.15);\n",
              "      fill: #174EA6;\n",
              "    }\n",
              "\n",
              "    [theme=dark] .colab-df-convert {\n",
              "      background-color: #3B4455;\n",
              "      fill: #D2E3FC;\n",
              "    }\n",
              "\n",
              "    [theme=dark] .colab-df-convert:hover {\n",
              "      background-color: #434B5C;\n",
              "      box-shadow: 0px 1px 3px 1px rgba(0, 0, 0, 0.15);\n",
              "      filter: drop-shadow(0px 1px 2px rgba(0, 0, 0, 0.3));\n",
              "      fill: #FFFFFF;\n",
              "    }\n",
              "  </style>\n",
              "\n",
              "      <script>\n",
              "        const buttonEl =\n",
              "          document.querySelector('#df-f3d1319c-5089-46e7-a3e3-3106f47e105f button.colab-df-convert');\n",
              "        buttonEl.style.display =\n",
              "          google.colab.kernel.accessAllowed ? 'block' : 'none';\n",
              "\n",
              "        async function convertToInteractive(key) {\n",
              "          const element = document.querySelector('#df-f3d1319c-5089-46e7-a3e3-3106f47e105f');\n",
              "          const dataTable =\n",
              "            await google.colab.kernel.invokeFunction('convertToInteractive',\n",
              "                                                     [key], {});\n",
              "          if (!dataTable) return;\n",
              "\n",
              "          const docLinkHtml = 'Like what you see? Visit the ' +\n",
              "            '<a target=\"_blank\" href=https://colab.research.google.com/notebooks/data_table.ipynb>data table notebook</a>'\n",
              "            + ' to learn more about interactive tables.';\n",
              "          element.innerHTML = '';\n",
              "          dataTable['output_type'] = 'display_data';\n",
              "          await google.colab.output.renderOutput(dataTable, element);\n",
              "          const docLink = document.createElement('div');\n",
              "          docLink.innerHTML = docLinkHtml;\n",
              "          element.appendChild(docLink);\n",
              "        }\n",
              "      </script>\n",
              "    </div>\n",
              "  </div>\n",
              "  "
            ],
            "text/plain": [
              "                            user_id                  time  bet  win\n",
              "0  Запись пользователя № - user_919  [2019-01-01 14:06:51  0.0  0.0\n",
              "1  Запись пользователя № - user_973  [2019-01-01 14:51:16  0.0  0.0\n",
              "2  Запись пользователя № - user_903  [2019-01-01 16:31:16  0.0  0.0\n",
              "3  Запись пользователя № - user_954  [2019-01-01 17:17:51  0.0  0.0\n",
              "4  Запись пользователя № - user_954  [2019-01-01 21:31:18  0.0  0.0"
            ]
          },
          "metadata": {},
          "execution_count": 122
        }
      ]
    },
    {
      "cell_type": "code",
      "source": [
        "log['net'] = log['win'] - log['bet']"
      ],
      "metadata": {
        "id": "bp2iSR9t0H4q"
      },
      "execution_count": null,
      "outputs": []
    },
    {
      "cell_type": "code",
      "source": [
        "log.head()"
      ],
      "metadata": {
        "colab": {
          "base_uri": "https://localhost:8080/",
          "height": 206
        },
        "id": "HjXfEHb27sDK",
        "outputId": "3022d68e-34cb-4fed-f29e-b3a2d725eda6"
      },
      "execution_count": null,
      "outputs": [
        {
          "output_type": "execute_result",
          "data": {
            "text/html": [
              "\n",
              "  <div id=\"df-40968719-1c56-41cf-892b-86246f5da4a1\">\n",
              "    <div class=\"colab-df-container\">\n",
              "      <div>\n",
              "<style scoped>\n",
              "    .dataframe tbody tr th:only-of-type {\n",
              "        vertical-align: middle;\n",
              "    }\n",
              "\n",
              "    .dataframe tbody tr th {\n",
              "        vertical-align: top;\n",
              "    }\n",
              "\n",
              "    .dataframe thead th {\n",
              "        text-align: right;\n",
              "    }\n",
              "</style>\n",
              "<table border=\"1\" class=\"dataframe\">\n",
              "  <thead>\n",
              "    <tr style=\"text-align: right;\">\n",
              "      <th></th>\n",
              "      <th>user_id</th>\n",
              "      <th>time</th>\n",
              "      <th>bet</th>\n",
              "      <th>win</th>\n",
              "      <th>net</th>\n",
              "    </tr>\n",
              "  </thead>\n",
              "  <tbody>\n",
              "    <tr>\n",
              "      <th>0</th>\n",
              "      <td>Запись пользователя № - user_919</td>\n",
              "      <td>[2019-01-01 14:06:51</td>\n",
              "      <td>0.0</td>\n",
              "      <td>0.0</td>\n",
              "      <td>0.0</td>\n",
              "    </tr>\n",
              "    <tr>\n",
              "      <th>1</th>\n",
              "      <td>Запись пользователя № - user_973</td>\n",
              "      <td>[2019-01-01 14:51:16</td>\n",
              "      <td>0.0</td>\n",
              "      <td>0.0</td>\n",
              "      <td>0.0</td>\n",
              "    </tr>\n",
              "    <tr>\n",
              "      <th>2</th>\n",
              "      <td>Запись пользователя № - user_903</td>\n",
              "      <td>[2019-01-01 16:31:16</td>\n",
              "      <td>0.0</td>\n",
              "      <td>0.0</td>\n",
              "      <td>0.0</td>\n",
              "    </tr>\n",
              "    <tr>\n",
              "      <th>3</th>\n",
              "      <td>Запись пользователя № - user_954</td>\n",
              "      <td>[2019-01-01 17:17:51</td>\n",
              "      <td>0.0</td>\n",
              "      <td>0.0</td>\n",
              "      <td>0.0</td>\n",
              "    </tr>\n",
              "    <tr>\n",
              "      <th>4</th>\n",
              "      <td>Запись пользователя № - user_954</td>\n",
              "      <td>[2019-01-01 21:31:18</td>\n",
              "      <td>0.0</td>\n",
              "      <td>0.0</td>\n",
              "      <td>0.0</td>\n",
              "    </tr>\n",
              "  </tbody>\n",
              "</table>\n",
              "</div>\n",
              "      <button class=\"colab-df-convert\" onclick=\"convertToInteractive('df-40968719-1c56-41cf-892b-86246f5da4a1')\"\n",
              "              title=\"Convert this dataframe to an interactive table.\"\n",
              "              style=\"display:none;\">\n",
              "        \n",
              "  <svg xmlns=\"http://www.w3.org/2000/svg\" height=\"24px\"viewBox=\"0 0 24 24\"\n",
              "       width=\"24px\">\n",
              "    <path d=\"M0 0h24v24H0V0z\" fill=\"none\"/>\n",
              "    <path d=\"M18.56 5.44l.94 2.06.94-2.06 2.06-.94-2.06-.94-.94-2.06-.94 2.06-2.06.94zm-11 1L8.5 8.5l.94-2.06 2.06-.94-2.06-.94L8.5 2.5l-.94 2.06-2.06.94zm10 10l.94 2.06.94-2.06 2.06-.94-2.06-.94-.94-2.06-.94 2.06-2.06.94z\"/><path d=\"M17.41 7.96l-1.37-1.37c-.4-.4-.92-.59-1.43-.59-.52 0-1.04.2-1.43.59L10.3 9.45l-7.72 7.72c-.78.78-.78 2.05 0 2.83L4 21.41c.39.39.9.59 1.41.59.51 0 1.02-.2 1.41-.59l7.78-7.78 2.81-2.81c.8-.78.8-2.07 0-2.86zM5.41 20L4 18.59l7.72-7.72 1.47 1.35L5.41 20z\"/>\n",
              "  </svg>\n",
              "      </button>\n",
              "      \n",
              "  <style>\n",
              "    .colab-df-container {\n",
              "      display:flex;\n",
              "      flex-wrap:wrap;\n",
              "      gap: 12px;\n",
              "    }\n",
              "\n",
              "    .colab-df-convert {\n",
              "      background-color: #E8F0FE;\n",
              "      border: none;\n",
              "      border-radius: 50%;\n",
              "      cursor: pointer;\n",
              "      display: none;\n",
              "      fill: #1967D2;\n",
              "      height: 32px;\n",
              "      padding: 0 0 0 0;\n",
              "      width: 32px;\n",
              "    }\n",
              "\n",
              "    .colab-df-convert:hover {\n",
              "      background-color: #E2EBFA;\n",
              "      box-shadow: 0px 1px 2px rgba(60, 64, 67, 0.3), 0px 1px 3px 1px rgba(60, 64, 67, 0.15);\n",
              "      fill: #174EA6;\n",
              "    }\n",
              "\n",
              "    [theme=dark] .colab-df-convert {\n",
              "      background-color: #3B4455;\n",
              "      fill: #D2E3FC;\n",
              "    }\n",
              "\n",
              "    [theme=dark] .colab-df-convert:hover {\n",
              "      background-color: #434B5C;\n",
              "      box-shadow: 0px 1px 3px 1px rgba(0, 0, 0, 0.15);\n",
              "      filter: drop-shadow(0px 1px 2px rgba(0, 0, 0, 0.3));\n",
              "      fill: #FFFFFF;\n",
              "    }\n",
              "  </style>\n",
              "\n",
              "      <script>\n",
              "        const buttonEl =\n",
              "          document.querySelector('#df-40968719-1c56-41cf-892b-86246f5da4a1 button.colab-df-convert');\n",
              "        buttonEl.style.display =\n",
              "          google.colab.kernel.accessAllowed ? 'block' : 'none';\n",
              "\n",
              "        async function convertToInteractive(key) {\n",
              "          const element = document.querySelector('#df-40968719-1c56-41cf-892b-86246f5da4a1');\n",
              "          const dataTable =\n",
              "            await google.colab.kernel.invokeFunction('convertToInteractive',\n",
              "                                                     [key], {});\n",
              "          if (!dataTable) return;\n",
              "\n",
              "          const docLinkHtml = 'Like what you see? Visit the ' +\n",
              "            '<a target=\"_blank\" href=https://colab.research.google.com/notebooks/data_table.ipynb>data table notebook</a>'\n",
              "            + ' to learn more about interactive tables.';\n",
              "          element.innerHTML = '';\n",
              "          dataTable['output_type'] = 'display_data';\n",
              "          await google.colab.output.renderOutput(dataTable, element);\n",
              "          const docLink = document.createElement('div');\n",
              "          docLink.innerHTML = docLinkHtml;\n",
              "          element.appendChild(docLink);\n",
              "        }\n",
              "      </script>\n",
              "    </div>\n",
              "  </div>\n",
              "  "
            ],
            "text/plain": [
              "                            user_id                  time  bet  win  net\n",
              "0  Запись пользователя № - user_919  [2019-01-01 14:06:51  0.0  0.0  0.0\n",
              "1  Запись пользователя № - user_973  [2019-01-01 14:51:16  0.0  0.0  0.0\n",
              "2  Запись пользователя № - user_903  [2019-01-01 16:31:16  0.0  0.0  0.0\n",
              "3  Запись пользователя № - user_954  [2019-01-01 17:17:51  0.0  0.0  0.0\n",
              "4  Запись пользователя № - user_954  [2019-01-01 21:31:18  0.0  0.0  0.0"
            ]
          },
          "metadata": {},
          "execution_count": 124
        }
      ]
    },
    {
      "cell_type": "code",
      "source": [
        "#У какого количества людей выигрыш положительный?\n",
        "#Для ответа на вопрос создайте признак net, хранящий сумму выигрыша с учётом ставки.\n",
        "\n",
        "print(log[log.win>0].net.count())"
      ],
      "metadata": {
        "colab": {
          "base_uri": "https://localhost:8080/"
        },
        "id": "9NI4WRB20fyK",
        "outputId": "8cf17626-0d09-4966-e8f2-64fb6139c86d"
      },
      "execution_count": null,
      "outputs": [
        {
          "output_type": "stream",
          "name": "stdout",
          "text": [
            "138\n"
          ]
        }
      ]
    },
    {
      "cell_type": "code",
      "source": [
        "#Каково среднее значение выигрыша (из столбца net) в тех случаях, когда выигрыш больше 0?\n",
        "\n",
        "print(log[log.win > 0].net.mean())"
      ],
      "metadata": {
        "colab": {
          "base_uri": "https://localhost:8080/"
        },
        "id": "DPdxWuAj4Fhf",
        "outputId": "6eacba2f-177c-4650-f567-6d177df485fa"
      },
      "execution_count": null,
      "outputs": [
        {
          "output_type": "stream",
          "name": "stdout",
          "text": [
            "80253.33333333333\n"
          ]
        }
      ]
    },
    {
      "cell_type": "code",
      "source": [
        "#Каково медианное значение выигрыша (из столбца net) в тех случаях, когда выигрыш больше 0?\n",
        "\n",
        "print(log[log.win >0].net.median())"
      ],
      "metadata": {
        "colab": {
          "base_uri": "https://localhost:8080/"
        },
        "id": "wRQ2UpvlAwvE",
        "outputId": "7d136edd-5b71-48cb-b8f9-2f7727f40e69"
      },
      "execution_count": null,
      "outputs": [
        {
          "output_type": "stream",
          "name": "stdout",
          "text": [
            "5347.0\n"
          ]
        }
      ]
    },
    {
      "cell_type": "code",
      "source": [
        "import pandas as pd\n",
        "log = pd.read_csv(\"/log.csv\", header=None)\n",
        "log.columns = [\"user_id\", \"time\", \"bet\", \"win\"]\n",
        "log['bet'] = log[\"bet\"].fillna(0)\n",
        "log['win'] = log['win'].fillna(0)\n",
        "log['net'] = log['win'] - log['bet']\n",
        "\n",
        "# Посчитайте, какой процент посещений букмекерской конторы оборачивался ставкой\n",
        "# Для этого поделите количество ставок (значений больше 0) на общее количество посещений конторы.\n",
        "# В качестве ответа укажите процент посещений, заканчивающихся ставкой.\n",
        "# Результат округлите до одного знака после запятой.\n",
        "\n",
        "print(log[log.bet > 0].bet.count() / log['user_id'].count() * 100)"
      ],
      "metadata": {
        "colab": {
          "base_uri": "https://localhost:8080/"
        },
        "id": "8RKpi1ATDZYq",
        "outputId": "95d35664-cc89-4a70-b16c-7a12502a81f5"
      },
      "execution_count": null,
      "outputs": [
        {
          "output_type": "stream",
          "name": "stdout",
          "text": [
            "48.5\n"
          ]
        }
      ]
    },
    {
      "cell_type": "code",
      "source": [
        "# Каково среднее значение ставки (из столбца bet) в тех случаях, когда ставка была сделана?\n",
        "\n",
        "print(log[log.bet > 0].bet.mean())"
      ],
      "metadata": {
        "colab": {
          "base_uri": "https://localhost:8080/"
        },
        "id": "4I_ZFZPYV06i",
        "outputId": "c681f666-a47d-47d5-859b-54bfa7d7f5b6"
      },
      "execution_count": null,
      "outputs": [
        {
          "output_type": "stream",
          "name": "stdout",
          "text": [
            "6785.738144329897\n"
          ]
        }
      ]
    },
    {
      "cell_type": "code",
      "source": [
        "# Каков средний выигрыш (из столбца net) в тех случаях, когда ставка была сделана?\n",
        "\n",
        "print(log[log.bet > 0].net.mean())"
      ],
      "metadata": {
        "colab": {
          "base_uri": "https://localhost:8080/"
        },
        "id": "NddY7H7iWVJz",
        "outputId": "c670159f-73e5-4ac2-ae45-a06bc35a90e9"
      },
      "execution_count": null,
      "outputs": [
        {
          "output_type": "stream",
          "name": "stdout",
          "text": [
            "20421.892783505155\n"
          ]
        }
      ]
    },
    {
      "cell_type": "code",
      "source": [
        "# Каков средний размер потерь при проигрыше (из столбца net)?\n",
        "print(log[log.net < 0].net.mean())"
      ],
      "metadata": {
        "colab": {
          "base_uri": "https://localhost:8080/"
        },
        "id": "zkCMSb1yWlZk",
        "outputId": "55ec07a1-ff24-4064-dbc1-21a30051de48"
      },
      "execution_count": null,
      "outputs": [
        {
          "output_type": "stream",
          "name": "stdout",
          "text": [
            "-3372.743515850144\n"
          ]
        }
      ]
    },
    {
      "cell_type": "code",
      "source": [
        "# Чем чаще всего заканчивается ставка — выигрышем или проигрышем?\n",
        "# Для ответа на вопрос посчитайте, какой процент ставок заканчивается выигрышем, а какой — проигрышем, и сравните эти значения.\n",
        "\n",
        "print('Процент ставок, заканчивающихся выигрышем:', log[log.net > 0].net.count() / log.user_id.count() * 100)\n",
        "print('Процент ставок, заканчивающихся проигрышем:', log[log.net < 0].net.count() / log.user_id.count() * 100)"
      ],
      "metadata": {
        "colab": {
          "base_uri": "https://localhost:8080/"
        },
        "id": "_OjxDw32XHln",
        "outputId": "e1f8dae0-91c6-4be4-8f61-4c8d646e05ae"
      },
      "execution_count": null,
      "outputs": [
        {
          "output_type": "stream",
          "name": "stdout",
          "text": [
            "Процент ставок, заканчивающихся выигрышем: 13.8\n",
            "Процент ставок, заканчивающихся проигрышем: 34.699999999999996\n"
          ]
        }
      ]
    },
    {
      "cell_type": "code",
      "source": [
        "# Напишите код, который узнает, чему была равна минимальная ставка и сколько людей сделали такую ставку.\n",
        "# Посчитайте, чему равна минимальная ставка.\n",
        "# Посчитайте, сколько раз была сделана минимальная ставка и запишите результат в переменную min_bet_amount в виде целого числа.\n",
        "\n",
        "min_bet = log[log.bet > 0].bet.min()\n",
        "min_bet_amount = log[log.bet == min_bet].bet.count()\n",
        "print(' Минимальная ставка равна:',min_bet,'\\n', 'Cтолько раз была сделана мин.ставка:', min_bet_amount)"
      ],
      "metadata": {
        "colab": {
          "base_uri": "https://localhost:8080/"
        },
        "id": "sqkogpz5ZefW",
        "outputId": "ccc68fa2-92f8-481c-e201-80ed4edcab22"
      },
      "execution_count": null,
      "outputs": [
        {
          "output_type": "stream",
          "name": "stdout",
          "text": [
            " Минимальная ставка равна: 100.0 \n",
            " Cтолько раз была сделана мин.ставка: 48\n"
          ]
        }
      ]
    },
    {
      "cell_type": "markdown",
      "source": [
        "# 40.9 Объединяем датасеты"
      ],
      "metadata": {
        "id": "AG8H_cBDbqMb"
      }
    },
    {
      "cell_type": "code",
      "source": [
        "import pandas as pd\n",
        "import numpy as np"
      ],
      "metadata": {
        "id": "3xgk90K5f2XA"
      },
      "execution_count": null,
      "outputs": []
    },
    {
      "cell_type": "code",
      "source": [
        "users = pd.read_csv(\"/users.csv\", encoding = 'koi8-r', sep ='\\t')\n",
        "users.columns = ('user_id', 'email', 'geo')"
      ],
      "metadata": {
        "id": "mKrCIrEkb03e"
      },
      "execution_count": null,
      "outputs": []
    },
    {
      "cell_type": "code",
      "source": [
        "log = pd.read_csv('/log.csv', header = None)\n",
        "log.columns = ['user_id','time', 'bet','win']"
      ],
      "metadata": {
        "id": "bzGgLthbf8Uk"
      },
      "execution_count": null,
      "outputs": []
    },
    {
      "cell_type": "code",
      "source": [
        "log[['bet', 'win']] = log[['bet', 'win']].fillna(0)\n",
        "log['net'] = log['win'] - log['bet']\n",
        "log.time = log.time.str.strip('[')\n",
        "log[\"time\"] = pd.to_datetime(log[\"time\"])"
      ],
      "metadata": {
        "id": "NhXgWQWYgFeI"
      },
      "execution_count": null,
      "outputs": []
    },
    {
      "cell_type": "code",
      "source": [
        "# Приведём признак user_id к одному формату в обоих датасетах\n",
        "users.user_id = users.user_id.apply(lambda x: x.lower())\n",
        "# Избавимся от ошибок в user_id\n",
        "log = log[log.user_id != \"#error\"]\n",
        "log.user_id = log.user_id.str.split(\" - \").apply(lambda x: x[1])"
      ],
      "metadata": {
        "id": "XtIFMdZUbtg4"
      },
      "execution_count": null,
      "outputs": []
    },
    {
      "cell_type": "code",
      "source": [
        "df = pd.merge(users, log, on='user_id')\n",
        "df.head()"
      ],
      "metadata": {
        "colab": {
          "base_uri": "https://localhost:8080/",
          "height": 206
        },
        "id": "eJWjbXNAcech",
        "outputId": "dfc38114-0853-4ee0-81cc-34780560c29a"
      },
      "execution_count": null,
      "outputs": [
        {
          "output_type": "execute_result",
          "data": {
            "text/html": [
              "\n",
              "  <div id=\"df-1509a40f-4348-4cc1-b99b-c1a19f750423\">\n",
              "    <div class=\"colab-df-container\">\n",
              "      <div>\n",
              "<style scoped>\n",
              "    .dataframe tbody tr th:only-of-type {\n",
              "        vertical-align: middle;\n",
              "    }\n",
              "\n",
              "    .dataframe tbody tr th {\n",
              "        vertical-align: top;\n",
              "    }\n",
              "\n",
              "    .dataframe thead th {\n",
              "        text-align: right;\n",
              "    }\n",
              "</style>\n",
              "<table border=\"1\" class=\"dataframe\">\n",
              "  <thead>\n",
              "    <tr style=\"text-align: right;\">\n",
              "      <th></th>\n",
              "      <th>user_id</th>\n",
              "      <th>email</th>\n",
              "      <th>geo</th>\n",
              "      <th>time</th>\n",
              "      <th>bet</th>\n",
              "      <th>win</th>\n",
              "      <th>net</th>\n",
              "    </tr>\n",
              "  </thead>\n",
              "  <tbody>\n",
              "    <tr>\n",
              "      <th>0</th>\n",
              "      <td>user_943</td>\n",
              "      <td>Accumanst@gmail.com</td>\n",
              "      <td>Ижевск</td>\n",
              "      <td>2019-01-06 21:06:57</td>\n",
              "      <td>0.0</td>\n",
              "      <td>0.0</td>\n",
              "      <td>0.0</td>\n",
              "    </tr>\n",
              "    <tr>\n",
              "      <th>1</th>\n",
              "      <td>user_943</td>\n",
              "      <td>Accumanst@gmail.com</td>\n",
              "      <td>Ижевск</td>\n",
              "      <td>2019-01-10 12:16:22</td>\n",
              "      <td>100.0</td>\n",
              "      <td>0.0</td>\n",
              "      <td>-100.0</td>\n",
              "    </tr>\n",
              "    <tr>\n",
              "      <th>2</th>\n",
              "      <td>user_943</td>\n",
              "      <td>Accumanst@gmail.com</td>\n",
              "      <td>Ижевск</td>\n",
              "      <td>2019-01-27 01:18:47</td>\n",
              "      <td>100.0</td>\n",
              "      <td>0.0</td>\n",
              "      <td>-100.0</td>\n",
              "    </tr>\n",
              "    <tr>\n",
              "      <th>3</th>\n",
              "      <td>user_943</td>\n",
              "      <td>Accumanst@gmail.com</td>\n",
              "      <td>Ижевск</td>\n",
              "      <td>2019-02-10 11:09:24</td>\n",
              "      <td>100.0</td>\n",
              "      <td>5456.0</td>\n",
              "      <td>5356.0</td>\n",
              "    </tr>\n",
              "    <tr>\n",
              "      <th>4</th>\n",
              "      <td>user_943</td>\n",
              "      <td>Accumanst@gmail.com</td>\n",
              "      <td>Ижевск</td>\n",
              "      <td>2019-02-12 15:09:38</td>\n",
              "      <td>300.0</td>\n",
              "      <td>5245.0</td>\n",
              "      <td>4945.0</td>\n",
              "    </tr>\n",
              "  </tbody>\n",
              "</table>\n",
              "</div>\n",
              "      <button class=\"colab-df-convert\" onclick=\"convertToInteractive('df-1509a40f-4348-4cc1-b99b-c1a19f750423')\"\n",
              "              title=\"Convert this dataframe to an interactive table.\"\n",
              "              style=\"display:none;\">\n",
              "        \n",
              "  <svg xmlns=\"http://www.w3.org/2000/svg\" height=\"24px\"viewBox=\"0 0 24 24\"\n",
              "       width=\"24px\">\n",
              "    <path d=\"M0 0h24v24H0V0z\" fill=\"none\"/>\n",
              "    <path d=\"M18.56 5.44l.94 2.06.94-2.06 2.06-.94-2.06-.94-.94-2.06-.94 2.06-2.06.94zm-11 1L8.5 8.5l.94-2.06 2.06-.94-2.06-.94L8.5 2.5l-.94 2.06-2.06.94zm10 10l.94 2.06.94-2.06 2.06-.94-2.06-.94-.94-2.06-.94 2.06-2.06.94z\"/><path d=\"M17.41 7.96l-1.37-1.37c-.4-.4-.92-.59-1.43-.59-.52 0-1.04.2-1.43.59L10.3 9.45l-7.72 7.72c-.78.78-.78 2.05 0 2.83L4 21.41c.39.39.9.59 1.41.59.51 0 1.02-.2 1.41-.59l7.78-7.78 2.81-2.81c.8-.78.8-2.07 0-2.86zM5.41 20L4 18.59l7.72-7.72 1.47 1.35L5.41 20z\"/>\n",
              "  </svg>\n",
              "      </button>\n",
              "      \n",
              "  <style>\n",
              "    .colab-df-container {\n",
              "      display:flex;\n",
              "      flex-wrap:wrap;\n",
              "      gap: 12px;\n",
              "    }\n",
              "\n",
              "    .colab-df-convert {\n",
              "      background-color: #E8F0FE;\n",
              "      border: none;\n",
              "      border-radius: 50%;\n",
              "      cursor: pointer;\n",
              "      display: none;\n",
              "      fill: #1967D2;\n",
              "      height: 32px;\n",
              "      padding: 0 0 0 0;\n",
              "      width: 32px;\n",
              "    }\n",
              "\n",
              "    .colab-df-convert:hover {\n",
              "      background-color: #E2EBFA;\n",
              "      box-shadow: 0px 1px 2px rgba(60, 64, 67, 0.3), 0px 1px 3px 1px rgba(60, 64, 67, 0.15);\n",
              "      fill: #174EA6;\n",
              "    }\n",
              "\n",
              "    [theme=dark] .colab-df-convert {\n",
              "      background-color: #3B4455;\n",
              "      fill: #D2E3FC;\n",
              "    }\n",
              "\n",
              "    [theme=dark] .colab-df-convert:hover {\n",
              "      background-color: #434B5C;\n",
              "      box-shadow: 0px 1px 3px 1px rgba(0, 0, 0, 0.15);\n",
              "      filter: drop-shadow(0px 1px 2px rgba(0, 0, 0, 0.3));\n",
              "      fill: #FFFFFF;\n",
              "    }\n",
              "  </style>\n",
              "\n",
              "      <script>\n",
              "        const buttonEl =\n",
              "          document.querySelector('#df-1509a40f-4348-4cc1-b99b-c1a19f750423 button.colab-df-convert');\n",
              "        buttonEl.style.display =\n",
              "          google.colab.kernel.accessAllowed ? 'block' : 'none';\n",
              "\n",
              "        async function convertToInteractive(key) {\n",
              "          const element = document.querySelector('#df-1509a40f-4348-4cc1-b99b-c1a19f750423');\n",
              "          const dataTable =\n",
              "            await google.colab.kernel.invokeFunction('convertToInteractive',\n",
              "                                                     [key], {});\n",
              "          if (!dataTable) return;\n",
              "\n",
              "          const docLinkHtml = 'Like what you see? Visit the ' +\n",
              "            '<a target=\"_blank\" href=https://colab.research.google.com/notebooks/data_table.ipynb>data table notebook</a>'\n",
              "            + ' to learn more about interactive tables.';\n",
              "          element.innerHTML = '';\n",
              "          dataTable['output_type'] = 'display_data';\n",
              "          await google.colab.output.renderOutput(dataTable, element);\n",
              "          const docLink = document.createElement('div');\n",
              "          docLink.innerHTML = docLinkHtml;\n",
              "          element.appendChild(docLink);\n",
              "        }\n",
              "      </script>\n",
              "    </div>\n",
              "  </div>\n",
              "  "
            ],
            "text/plain": [
              "    user_id                email     geo  ...    bet     win     net\n",
              "0  user_943  Accumanst@gmail.com  Ижевск  ...    0.0     0.0     0.0\n",
              "1  user_943  Accumanst@gmail.com  Ижевск  ...  100.0     0.0  -100.0\n",
              "2  user_943  Accumanst@gmail.com  Ижевск  ...  100.0     0.0  -100.0\n",
              "3  user_943  Accumanst@gmail.com  Ижевск  ...  100.0  5456.0  5356.0\n",
              "4  user_943  Accumanst@gmail.com  Ижевск  ...  300.0  5245.0  4945.0\n",
              "\n",
              "[5 rows x 7 columns]"
            ]
          },
          "metadata": {},
          "execution_count": 139
        }
      ]
    },
    {
      "cell_type": "code",
      "source": [
        "group_df = df.groupby('user_id')"
      ],
      "metadata": {
        "id": "zWLNxfW8czEB"
      },
      "execution_count": null,
      "outputs": []
    },
    {
      "cell_type": "code",
      "source": [
        "# Какова медиана баланса по каждому пользователю?\n",
        "group_df.net.sum().median()"
      ],
      "metadata": {
        "colab": {
          "base_uri": "https://localhost:8080/"
        },
        "id": "GNkJvXtbfBPw",
        "outputId": "86b3ee26-50e1-471d-bd92-f242421c1e72"
      },
      "execution_count": null,
      "outputs": [
        {
          "output_type": "execute_result",
          "data": {
            "text/plain": [
              "1986.0"
            ]
          },
          "metadata": {},
          "execution_count": 141
        }
      ]
    },
    {
      "cell_type": "code",
      "source": [
        "# Сколько раз в среднем каждый человек приходит, не делая ставок, при условии, что у этого человека все-таки есть хотя бы одна ставка?\n",
        "# Просуммируйте в каждой группе количество записей со ставкой, равной 0, и поделите на общее количество групп.\n",
        "# Если при этом в группе нет записей со ставкой больше 0, считаем количество записей в данной группе равным 0.\n",
        "\n",
        "df[df.bet == 0].user_id.count() / df.user_id.nunique()"
      ],
      "metadata": {
        "colab": {
          "base_uri": "https://localhost:8080/"
        },
        "id": "rSYld7n3p-sq",
        "outputId": "d45416df-60ed-49b8-87c5-2c1a69b87a8a"
      },
      "execution_count": null,
      "outputs": [
        {
          "output_type": "execute_result",
          "data": {
            "text/plain": [
              "5.05"
            ]
          },
          "metadata": {},
          "execution_count": 142
        }
      ]
    },
    {
      "cell_type": "code",
      "source": [
        "log.info()"
      ],
      "metadata": {
        "colab": {
          "base_uri": "https://localhost:8080/"
        },
        "id": "KkJmURqJtyiX",
        "outputId": "655477e2-741d-4ace-ddce-d425d730c598"
      },
      "execution_count": null,
      "outputs": [
        {
          "output_type": "stream",
          "name": "stdout",
          "text": [
            "<class 'pandas.core.frame.DataFrame'>\n",
            "Int64Index: 985 entries, 0 to 995\n",
            "Data columns (total 5 columns):\n",
            " #   Column   Non-Null Count  Dtype         \n",
            "---  ------   --------------  -----         \n",
            " 0   user_id  985 non-null    object        \n",
            " 1   time     985 non-null    datetime64[ns]\n",
            " 2   bet      985 non-null    float64       \n",
            " 3   win      985 non-null    float64       \n",
            " 4   net      985 non-null    float64       \n",
            "dtypes: datetime64[ns](1), float64(3), object(1)\n",
            "memory usage: 46.2+ KB\n"
          ]
        }
      ]
    },
    {
      "cell_type": "code",
      "source": [
        "# Сколько времени в среднем проходит между появлением человека в сервисе и первой ставкой?\n",
        "# Считать нужно только тех, кто делал ставку и у кого в файле зарегистрирован первый визит без ставки.\n",
        "\n",
        "min_time_bet_zero = log[log.bet == 0].groupby('user_id').time.min()\n",
        "min_time_bet_more = log[log.bet > 0].groupby('user_id').time.min()\n",
        "timedelta = min_time_bet_more - min_time_bet_zero\n",
        "timedelta[(timedelta > pd.Timedelta('1 days'))].mean().days"
      ],
      "metadata": {
        "colab": {
          "base_uri": "https://localhost:8080/"
        },
        "id": "3cRGAI_Squdx",
        "outputId": "8b7c9ce5-c697-4a92-b042-6c51beae636a"
      },
      "execution_count": null,
      "outputs": [
        {
          "output_type": "execute_result",
          "data": {
            "text/plain": [
              "49"
            ]
          },
          "metadata": {},
          "execution_count": 144
        }
      ]
    },
    {
      "cell_type": "code",
      "source": [
        "# Наибольший суммарный выигрыш среди всех городов имеет Москва. Определите, какой город следует за ней.\n",
        "df.groupby('geo').win.sum()"
      ],
      "metadata": {
        "colab": {
          "base_uri": "https://localhost:8080/"
        },
        "id": "cfbsnsQ4u5OK",
        "outputId": "b9b0db2b-423d-446d-a105-34868eded66c"
      },
      "execution_count": null,
      "outputs": [
        {
          "output_type": "execute_result",
          "data": {
            "text/plain": [
              "geo\n",
              "Арзангелтск           74375.0\n",
              "Воронеж              184338.0\n",
              "Екатеринбург          36682.0\n",
              "Ижевск                84895.0\n",
              "Казань                97806.0\n",
              "Краснодар             62718.0\n",
              "Красноярск            84767.0\n",
              "Москва             11959741.0\n",
              "Пермь                 67734.0\n",
              "Санкт-Петербург      151007.0\n",
              "Ставрополь            46003.0\n",
              "Тюмень                 4701.0\n",
              "Хабаровск             65459.0\n",
              "Ярославль             97441.0\n",
              "Name: win, dtype: float64"
            ]
          },
          "metadata": {},
          "execution_count": 149
        }
      ]
    },
    {
      "cell_type": "code",
      "source": [
        "# Во сколько раз различаются максимальное и минимальное значения средней ставки по городам?\n",
        "df[df.bet > 0].groupby('geo').bet.mean().max() / df[df.bet > 0].groupby('geo').bet.mean().min()"
      ],
      "metadata": {
        "colab": {
          "base_uri": "https://localhost:8080/"
        },
        "id": "5PHobuP1CqI6",
        "outputId": "8fe1c94d-340b-4bd0-fce5-d4ad5f36eb52"
      },
      "execution_count": null,
      "outputs": [
        {
          "output_type": "execute_result",
          "data": {
            "text/plain": [
              "127.81602335164835"
            ]
          },
          "metadata": {},
          "execution_count": 157
        }
      ]
    },
    {
      "cell_type": "code",
      "source": [
        "# Напишите код, который посчитает, сколько раз пользователи приходили в букмекерскую контору в каждом городе.\n",
        "\n",
        "# загрузить датасеты\n",
        "users = pd.read_csv(\"/users.csv\", encoding = 'koi8-r', sep ='\\t')\n",
        "users.columns = ('user_id', 'email', 'geo')\n",
        "\n",
        "log = pd.read_csv('/log.csv', header = None)\n",
        "log.columns = ['user_id','time', 'bet','win']\n",
        "# удалить нулевые значения \n",
        "log[['bet', 'win']] = log[['bet', 'win']].fillna(0)\n",
        "# создать столбец net \n",
        "log['net'] = log['win'] - log['bet']\n",
        "# отредактировать столбец с датой\n",
        "log.time = log.time.str.strip('[')\n",
        "log[\"time\"] = pd.to_datetime(log[\"time\"])\n",
        "# удалить значения из user_id с ошибкой (#error) и приведите признак user_id к одному виду в обоих датасетах\n",
        "users.user_id = users.user_id.apply(lambda x: x.lower())\n",
        "log = log[log.user_id != \"#error\"]\n",
        "log.user_id = log.user_id.str.split(\" - \").apply(lambda x: x[1])\n",
        "# слить два датасета в один по признаку user_id\n",
        "df = pd.merge(users, log, on='user_id')\n",
        "# сгруппировать данные по правильному признаку, потом выбрать user_id и с помощью функции count() подсчитать наблюдения для каждой группы\n",
        "sample2 = df.groupby('geo').user_id.count()\n",
        "print(sample2)"
      ],
      "metadata": {
        "colab": {
          "base_uri": "https://localhost:8080/"
        },
        "id": "yOciTiABE_DD",
        "outputId": "70773bae-7263-4131-83e3-fbf60fbefa0c"
      },
      "execution_count": null,
      "outputs": [
        {
          "output_type": "stream",
          "name": "stdout",
          "text": [
            "geo\n",
            "Арзангелтск         96\n",
            "Воронеж             88\n",
            "Екатеринбург        49\n",
            "Ижевск              61\n",
            "Казань              66\n",
            "Краснодар           86\n",
            "Красноярск          56\n",
            "Москва              61\n",
            "Пермь               55\n",
            "Санкт-Петербург    115\n",
            "Ставрополь          36\n",
            "Тюмень              32\n",
            "Хабаровск           60\n",
            "Ярославль           89\n",
            "Name: user_id, dtype: int64\n"
          ]
        }
      ]
    }
  ]
}