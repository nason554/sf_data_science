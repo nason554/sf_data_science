{
  "cells": [
    {
      "cell_type": "markdown",
      "metadata": {
        "colab_type": "text",
        "id": "view-in-github"
      },
      "source": [
        "<a href=\"https://colab.research.google.com/github/nason554/sf_data_science/blob/main/39_PYT_Data_cleaning_up.ipynb\" target=\"_parent\"><img src=\"https://colab.research.google.com/assets/colab-badge.svg\" alt=\"Open In Colab\"/></a>"
      ]
    },
    {
      "cell_type": "code",
      "execution_count": 14,
      "metadata": {
        "id": "FW5DjyvAMYgu"
      },
      "outputs": [],
      "source": [
        "import pandas as pd"
      ]
    },
    {
      "cell_type": "code",
      "execution_count": 15,
      "metadata": {
        "id": "Ajhe6H0_NSLL"
      },
      "outputs": [],
      "source": [
        "log = pd.read_csv(\"csv_files/log.csv\", header=None)"
      ]
    },
    {
      "cell_type": "markdown",
      "metadata": {
        "id": "7-mePy73P3Ej"
      },
      "source": [
        "поработаем с тренировачным датасетом"
      ]
    },
    {
      "cell_type": "code",
      "execution_count": 16,
      "metadata": {
        "id": "XcgA7dAfO0G2"
      },
      "outputs": [],
      "source": [
        "sample = pd.read_csv(\"csv_files/sample.csv\")"
      ]
    },
    {
      "cell_type": "code",
      "execution_count": 17,
      "metadata": {
        "id": "6sCQWY0NPQIb"
      },
      "outputs": [],
      "source": [
        "columns = sample.columns"
      ]
    },
    {
      "cell_type": "code",
      "execution_count": 18,
      "metadata": {
        "id": "xekZ00dVP06l"
      },
      "outputs": [],
      "source": [
        "columns = (\"name\", \"city\", \"age\", \"profession\")"
      ]
    },
    {
      "cell_type": "markdown",
      "metadata": {
        "id": "HaDE8U6EQZ2l"
      },
      "source": [
        "сделаем названия столбцов"
      ]
    },
    {
      "cell_type": "code",
      "execution_count": 19,
      "metadata": {
        "id": "SNs9Q0-nQgf_"
      },
      "outputs": [],
      "source": [
        "log.columns = (\"user_id\", \"time\", \"bet\", \"win\")"
      ]
    },
    {
      "cell_type": "code",
      "execution_count": 20,
      "metadata": {
        "id": "-Xg9ZX38ZCiq"
      },
      "outputs": [],
      "source": [
        "users = pd.read_csv(\"csv_files/users.csv\", encoding = 'koi8-r', sep ='\\t')"
      ]
    },
    {
      "cell_type": "code",
      "execution_count": 21,
      "metadata": {
        "id": "Yy9B8GYzcaMm"
      },
      "outputs": [],
      "source": [
        "users.columns = ('user_id', 'email', 'geo')"
      ]
    },
    {
      "cell_type": "code",
      "execution_count": 22,
      "metadata": {
        "colab": {
          "base_uri": "https://localhost:8080/"
        },
        "id": "AyIruTLme2a3",
        "outputId": "23ed12f2-6c6f-42f9-8573-82568615fc8a"
      },
      "outputs": [
        {
          "data": {
            "text/plain": [
              "array(['Иванов', nan, 'sidorov', '_______', 'Кузнецов', 'Сажин',\n",
              "       'Котлеревский', 'Завалишина', 'Левина', 'Фикс'], dtype=object)"
            ]
          },
          "execution_count": 22,
          "metadata": {},
          "output_type": "execute_result"
        }
      ],
      "source": [
        "sample.Name.unique()"
      ]
    },
    {
      "cell_type": "code",
      "execution_count": 23,
      "metadata": {
        "colab": {
          "base_uri": "https://localhost:8080/",
          "height": 206
        },
        "id": "skNVLiEYgxE_",
        "outputId": "3c4682f2-11a3-41fa-a17f-4ad1098404f7"
      },
      "outputs": [
        {
          "data": {
            "text/html": [
              "<div>\n",
              "<style scoped>\n",
              "    .dataframe tbody tr th:only-of-type {\n",
              "        vertical-align: middle;\n",
              "    }\n",
              "\n",
              "    .dataframe tbody tr th {\n",
              "        vertical-align: top;\n",
              "    }\n",
              "\n",
              "    .dataframe thead th {\n",
              "        text-align: right;\n",
              "    }\n",
              "</style>\n",
              "<table border=\"1\" class=\"dataframe\">\n",
              "  <thead>\n",
              "    <tr style=\"text-align: right;\">\n",
              "      <th></th>\n",
              "      <th>Name</th>\n",
              "      <th>City</th>\n",
              "      <th>Age</th>\n",
              "      <th>Profession</th>\n",
              "    </tr>\n",
              "  </thead>\n",
              "  <tbody>\n",
              "    <tr>\n",
              "      <th>0</th>\n",
              "      <td>Иванов</td>\n",
              "      <td>Москва</td>\n",
              "      <td>25</td>\n",
              "      <td>Клинер</td>\n",
              "    </tr>\n",
              "    <tr>\n",
              "      <th>1</th>\n",
              "      <td>NaN</td>\n",
              "      <td>Волгоград</td>\n",
              "      <td>31</td>\n",
              "      <td>Менеджер</td>\n",
              "    </tr>\n",
              "    <tr>\n",
              "      <th>2</th>\n",
              "      <td>Иванов</td>\n",
              "      <td>Москва</td>\n",
              "      <td>25</td>\n",
              "      <td>Клинер</td>\n",
              "    </tr>\n",
              "    <tr>\n",
              "      <th>3</th>\n",
              "      <td>sidorov</td>\n",
              "      <td>Владивосток</td>\n",
              "      <td>43</td>\n",
              "      <td>Менеджер</td>\n",
              "    </tr>\n",
              "    <tr>\n",
              "      <th>4</th>\n",
              "      <td>_______</td>\n",
              "      <td>Курск</td>\n",
              "      <td>50</td>\n",
              "      <td>Водитель</td>\n",
              "    </tr>\n",
              "  </tbody>\n",
              "</table>\n",
              "</div>"
            ],
            "text/plain": [
              "      Name         City  Age Profession\n",
              "0   Иванов       Москва   25     Клинер\n",
              "1      NaN    Волгоград   31   Менеджер\n",
              "2   Иванов       Москва   25     Клинер\n",
              "3  sidorov  Владивосток   43   Менеджер\n",
              "4  _______        Курск   50   Водитель"
            ]
          },
          "execution_count": 23,
          "metadata": {},
          "output_type": "execute_result"
        }
      ],
      "source": [
        "sample.head()"
      ]
    },
    {
      "cell_type": "code",
      "execution_count": 24,
      "metadata": {
        "id": "Dx-tgHX8fsud"
      },
      "outputs": [],
      "source": [
        "sample2 = sample[sample['Age']<30]"
      ]
    },
    {
      "cell_type": "code",
      "execution_count": 25,
      "metadata": {
        "id": "7hqNl0ELg1pr"
      },
      "outputs": [],
      "source": [
        "sample2 = sample[(sample['Age']<30) & (sample['Profession'] == 'Рабочий')]"
      ]
    },
    {
      "cell_type": "code",
      "execution_count": 26,
      "metadata": {
        "colab": {
          "base_uri": "https://localhost:8080/"
        },
        "id": "46lOT11Iheth",
        "outputId": "a6ffad03-47c7-43d0-ddc8-d18e3411bf3b"
      },
      "outputs": [
        {
          "name": "stdout",
          "output_type": "stream",
          "text": [
            "138\n"
          ]
        }
      ],
      "source": [
        "log = pd.read_csv(\"csv_files/log.csv\",header=None)\n",
        "log.columns = ['user_id','time', 'bet','win']\n",
        "log_win = log[log['win'].notnull()]\n",
        "win_count = log_win.win.count()\n",
        "print(win_count)"
      ]
    },
    {
      "cell_type": "code",
      "execution_count": 27,
      "metadata": {
        "id": "WKp0VGxcPRpg"
      },
      "outputs": [],
      "source": [
        "log = pd.read_csv(\"csv_files/log.csv\",header=None)\n",
        "log.columns = ['user_id','time', 'bet','win']\n",
        "log2 = log.query('bet < 2000 & win > 0')"
      ]
    },
    {
      "cell_type": "code",
      "execution_count": 28,
      "metadata": {
        "colab": {
          "base_uri": "https://localhost:8080/",
          "height": 175
        },
        "id": "UR6XJDbzRO-S",
        "outputId": "29c159c5-fb79-4250-94c9-9e4d418d0f98"
      },
      "outputs": [
        {
          "data": {
            "text/html": [
              "<div>\n",
              "<style scoped>\n",
              "    .dataframe tbody tr th:only-of-type {\n",
              "        vertical-align: middle;\n",
              "    }\n",
              "\n",
              "    .dataframe tbody tr th {\n",
              "        vertical-align: top;\n",
              "    }\n",
              "\n",
              "    .dataframe thead th {\n",
              "        text-align: right;\n",
              "    }\n",
              "</style>\n",
              "<table border=\"1\" class=\"dataframe\">\n",
              "  <thead>\n",
              "    <tr style=\"text-align: right;\">\n",
              "      <th></th>\n",
              "      <th>Name</th>\n",
              "      <th>City</th>\n",
              "      <th>Age</th>\n",
              "      <th>Profession</th>\n",
              "    </tr>\n",
              "  </thead>\n",
              "  <tbody>\n",
              "    <tr>\n",
              "      <th>4</th>\n",
              "      <td>_______</td>\n",
              "      <td>Курск</td>\n",
              "      <td>50</td>\n",
              "      <td>Водитель</td>\n",
              "    </tr>\n",
              "    <tr>\n",
              "      <th>6</th>\n",
              "      <td>Сажин</td>\n",
              "      <td>Сургут</td>\n",
              "      <td>29</td>\n",
              "      <td>Рабочий</td>\n",
              "    </tr>\n",
              "    <tr>\n",
              "      <th>9</th>\n",
              "      <td>Левина</td>\n",
              "      <td>NaN</td>\n",
              "      <td>55</td>\n",
              "      <td>Рабочий</td>\n",
              "    </tr>\n",
              "    <tr>\n",
              "      <th>10</th>\n",
              "      <td>Фикс</td>\n",
              "      <td>Рига</td>\n",
              "      <td>42</td>\n",
              "      <td>Рабочий</td>\n",
              "    </tr>\n",
              "  </tbody>\n",
              "</table>\n",
              "</div>"
            ],
            "text/plain": [
              "       Name    City  Age Profession\n",
              "4   _______   Курск   50   Водитель\n",
              "6     Сажин  Сургут   29    Рабочий\n",
              "9    Левина     NaN   55    Рабочий\n",
              "10     Фикс    Рига   42    Рабочий"
            ]
          },
          "execution_count": 28,
          "metadata": {},
          "output_type": "execute_result"
        }
      ],
      "source": [
        "sample = pd.read_csv(\"csv_files/sample.csv\")\n",
        "sample3 = sample[sample.City.str.contains('о', na = False)]\n",
        "sample4 = sample[~sample.City.str.contains('о', na = False)]\n",
        "sample4.head()"
      ]
    },
    {
      "cell_type": "code",
      "execution_count": 29,
      "metadata": {
        "id": "xSwSQF3mSONS"
      },
      "outputs": [],
      "source": [
        "log = pd.read_csv(\"csv_files/log.csv\",header=None)\n",
        "log.columns = ['user_id','time', 'bet','win']\n",
        "new_log = log[~log.user_id.str.contains('#error', na = False)]"
      ]
    },
    {
      "cell_type": "code",
      "execution_count": 30,
      "metadata": {
        "id": "bo7S683oU7ZJ"
      },
      "outputs": [],
      "source": [
        "sample = pd.read_csv(\"csv_files/sample.csv\")\n",
        "sample2 = sample.copy()\n",
        "sample2.Age = sample.Age.apply(lambda x: x+1)"
      ]
    },
    {
      "cell_type": "code",
      "execution_count": 31,
      "metadata": {
        "colab": {
          "base_uri": "https://localhost:8080/",
          "height": 206
        },
        "id": "Cgl7W84sVzod",
        "outputId": "3ba2af9a-bd67-4cf8-aee2-a1eb97899edd"
      },
      "outputs": [
        {
          "data": {
            "text/html": [
              "<div>\n",
              "<style scoped>\n",
              "    .dataframe tbody tr th:only-of-type {\n",
              "        vertical-align: middle;\n",
              "    }\n",
              "\n",
              "    .dataframe tbody tr th {\n",
              "        vertical-align: top;\n",
              "    }\n",
              "\n",
              "    .dataframe thead th {\n",
              "        text-align: right;\n",
              "    }\n",
              "</style>\n",
              "<table border=\"1\" class=\"dataframe\">\n",
              "  <thead>\n",
              "    <tr style=\"text-align: right;\">\n",
              "      <th></th>\n",
              "      <th>Name</th>\n",
              "      <th>City</th>\n",
              "      <th>Age</th>\n",
              "      <th>Profession</th>\n",
              "    </tr>\n",
              "  </thead>\n",
              "  <tbody>\n",
              "    <tr>\n",
              "      <th>0</th>\n",
              "      <td>Иванов</td>\n",
              "      <td>Москва</td>\n",
              "      <td>25</td>\n",
              "      <td>Клинер</td>\n",
              "    </tr>\n",
              "    <tr>\n",
              "      <th>1</th>\n",
              "      <td>NaN</td>\n",
              "      <td>Волгоград</td>\n",
              "      <td>31</td>\n",
              "      <td>Менеджер</td>\n",
              "    </tr>\n",
              "    <tr>\n",
              "      <th>2</th>\n",
              "      <td>Иванов</td>\n",
              "      <td>Москва</td>\n",
              "      <td>25</td>\n",
              "      <td>Клинер</td>\n",
              "    </tr>\n",
              "    <tr>\n",
              "      <th>3</th>\n",
              "      <td>sidorov</td>\n",
              "      <td>Владивосток</td>\n",
              "      <td>43</td>\n",
              "      <td>Менеджер</td>\n",
              "    </tr>\n",
              "    <tr>\n",
              "      <th>4</th>\n",
              "      <td>_______</td>\n",
              "      <td>Курск</td>\n",
              "      <td>50</td>\n",
              "      <td>Водитель</td>\n",
              "    </tr>\n",
              "  </tbody>\n",
              "</table>\n",
              "</div>"
            ],
            "text/plain": [
              "      Name         City  Age Profession\n",
              "0   Иванов       Москва   25     Клинер\n",
              "1      NaN    Волгоград   31   Менеджер\n",
              "2   Иванов       Москва   25     Клинер\n",
              "3  sidorov  Владивосток   43   Менеджер\n",
              "4  _______        Курск   50   Водитель"
            ]
          },
          "execution_count": 31,
          "metadata": {},
          "output_type": "execute_result"
        }
      ],
      "source": [
        "sample.head()"
      ]
    },
    {
      "cell_type": "code",
      "execution_count": 32,
      "metadata": {
        "colab": {
          "base_uri": "https://localhost:8080/",
          "height": 206
        },
        "id": "pD9cFBNFV2dL",
        "outputId": "7c9d4f76-330f-4ba3-cdd9-c3ac1891ffad"
      },
      "outputs": [
        {
          "data": {
            "text/html": [
              "<div>\n",
              "<style scoped>\n",
              "    .dataframe tbody tr th:only-of-type {\n",
              "        vertical-align: middle;\n",
              "    }\n",
              "\n",
              "    .dataframe tbody tr th {\n",
              "        vertical-align: top;\n",
              "    }\n",
              "\n",
              "    .dataframe thead th {\n",
              "        text-align: right;\n",
              "    }\n",
              "</style>\n",
              "<table border=\"1\" class=\"dataframe\">\n",
              "  <thead>\n",
              "    <tr style=\"text-align: right;\">\n",
              "      <th></th>\n",
              "      <th>Name</th>\n",
              "      <th>City</th>\n",
              "      <th>Age</th>\n",
              "      <th>Profession</th>\n",
              "    </tr>\n",
              "  </thead>\n",
              "  <tbody>\n",
              "    <tr>\n",
              "      <th>0</th>\n",
              "      <td>Иванов</td>\n",
              "      <td>Москва</td>\n",
              "      <td>26</td>\n",
              "      <td>Клинер</td>\n",
              "    </tr>\n",
              "    <tr>\n",
              "      <th>1</th>\n",
              "      <td>NaN</td>\n",
              "      <td>Волгоград</td>\n",
              "      <td>32</td>\n",
              "      <td>Менеджер</td>\n",
              "    </tr>\n",
              "    <tr>\n",
              "      <th>2</th>\n",
              "      <td>Иванов</td>\n",
              "      <td>Москва</td>\n",
              "      <td>26</td>\n",
              "      <td>Клинер</td>\n",
              "    </tr>\n",
              "    <tr>\n",
              "      <th>3</th>\n",
              "      <td>sidorov</td>\n",
              "      <td>Владивосток</td>\n",
              "      <td>44</td>\n",
              "      <td>Менеджер</td>\n",
              "    </tr>\n",
              "    <tr>\n",
              "      <th>4</th>\n",
              "      <td>_______</td>\n",
              "      <td>Курск</td>\n",
              "      <td>51</td>\n",
              "      <td>Водитель</td>\n",
              "    </tr>\n",
              "  </tbody>\n",
              "</table>\n",
              "</div>"
            ],
            "text/plain": [
              "      Name         City  Age Profession\n",
              "0   Иванов       Москва   26     Клинер\n",
              "1      NaN    Волгоград   32   Менеджер\n",
              "2   Иванов       Москва   26     Клинер\n",
              "3  sidorov  Владивосток   44   Менеджер\n",
              "4  _______        Курск   51   Водитель"
            ]
          },
          "execution_count": 32,
          "metadata": {},
          "output_type": "execute_result"
        }
      ],
      "source": [
        "sample2.head()"
      ]
    },
    {
      "cell_type": "code",
      "execution_count": 33,
      "metadata": {
        "id": "Qz8tREJOYE4B"
      },
      "outputs": [],
      "source": [
        "sample = pd.read_csv(\"csv_files/sample.csv\")\n",
        "sample2 = sample.copy()\n",
        "sample2.City = sample.City.apply(lambda x: str(x).lower())"
      ]
    },
    {
      "cell_type": "code",
      "execution_count": 34,
      "metadata": {
        "id": "G7YX5xdpb_H4"
      },
      "outputs": [],
      "source": [
        "def profession_code(s):\n",
        "  if s == \"Рабочий\":\n",
        "    return 0\n",
        "  elif s == \"Менеджер\":\n",
        "    return 1\n",
        "  else:\n",
        "    return 2"
      ]
    },
    {
      "cell_type": "code",
      "execution_count": 35,
      "metadata": {
        "colab": {
          "base_uri": "https://localhost:8080/",
          "height": 206
        },
        "id": "qWmsCe2Kdp6E",
        "outputId": "f9c268cf-e566-4cb1-9d4e-4fcb4bbf2717"
      },
      "outputs": [
        {
          "data": {
            "text/html": [
              "<div>\n",
              "<style scoped>\n",
              "    .dataframe tbody tr th:only-of-type {\n",
              "        vertical-align: middle;\n",
              "    }\n",
              "\n",
              "    .dataframe tbody tr th {\n",
              "        vertical-align: top;\n",
              "    }\n",
              "\n",
              "    .dataframe thead th {\n",
              "        text-align: right;\n",
              "    }\n",
              "</style>\n",
              "<table border=\"1\" class=\"dataframe\">\n",
              "  <thead>\n",
              "    <tr style=\"text-align: right;\">\n",
              "      <th></th>\n",
              "      <th>Name</th>\n",
              "      <th>City</th>\n",
              "      <th>Age</th>\n",
              "      <th>Profession</th>\n",
              "    </tr>\n",
              "  </thead>\n",
              "  <tbody>\n",
              "    <tr>\n",
              "      <th>0</th>\n",
              "      <td>Иванов</td>\n",
              "      <td>Москва</td>\n",
              "      <td>25</td>\n",
              "      <td>2</td>\n",
              "    </tr>\n",
              "    <tr>\n",
              "      <th>1</th>\n",
              "      <td>NaN</td>\n",
              "      <td>Волгоград</td>\n",
              "      <td>31</td>\n",
              "      <td>1</td>\n",
              "    </tr>\n",
              "    <tr>\n",
              "      <th>2</th>\n",
              "      <td>Иванов</td>\n",
              "      <td>Москва</td>\n",
              "      <td>25</td>\n",
              "      <td>2</td>\n",
              "    </tr>\n",
              "    <tr>\n",
              "      <th>3</th>\n",
              "      <td>sidorov</td>\n",
              "      <td>Владивосток</td>\n",
              "      <td>43</td>\n",
              "      <td>1</td>\n",
              "    </tr>\n",
              "    <tr>\n",
              "      <th>4</th>\n",
              "      <td>_______</td>\n",
              "      <td>Курск</td>\n",
              "      <td>50</td>\n",
              "      <td>2</td>\n",
              "    </tr>\n",
              "  </tbody>\n",
              "</table>\n",
              "</div>"
            ],
            "text/plain": [
              "      Name         City  Age  Profession\n",
              "0   Иванов       Москва   25           2\n",
              "1      NaN    Волгоград   31           1\n",
              "2   Иванов       Москва   25           2\n",
              "3  sidorov  Владивосток   43           1\n",
              "4  _______        Курск   50           2"
            ]
          },
          "execution_count": 35,
          "metadata": {},
          "output_type": "execute_result"
        }
      ],
      "source": [
        "sample = pd.read_csv(\"csv_files/sample.csv\")\n",
        "sample2 = sample.copy()\n",
        "sample2.Profession = sample.Profession.apply(profession_code)\n",
        "sample2.head()"
      ]
    },
    {
      "cell_type": "code",
      "execution_count": 36,
      "metadata": {
        "id": "_tIuXjG9dqma"
      },
      "outputs": [],
      "source": [
        "def age_category(age):\n",
        "  if age < 23:\n",
        "    return \"молодой\"\n",
        "  elif 23 <= age <= 35:\n",
        "    return \"средний\"\n",
        "  elif age > 35:\n",
        "    return \"зрелый\""
      ]
    },
    {
      "cell_type": "code",
      "execution_count": 37,
      "metadata": {
        "colab": {
          "base_uri": "https://localhost:8080/",
          "height": 206
        },
        "id": "cvhn3XmaegyK",
        "outputId": "974776ff-4c15-4fab-bc32-d62f21d6527e"
      },
      "outputs": [
        {
          "data": {
            "text/html": [
              "<div>\n",
              "<style scoped>\n",
              "    .dataframe tbody tr th:only-of-type {\n",
              "        vertical-align: middle;\n",
              "    }\n",
              "\n",
              "    .dataframe tbody tr th {\n",
              "        vertical-align: top;\n",
              "    }\n",
              "\n",
              "    .dataframe thead th {\n",
              "        text-align: right;\n",
              "    }\n",
              "</style>\n",
              "<table border=\"1\" class=\"dataframe\">\n",
              "  <thead>\n",
              "    <tr style=\"text-align: right;\">\n",
              "      <th></th>\n",
              "      <th>Name</th>\n",
              "      <th>City</th>\n",
              "      <th>Age</th>\n",
              "      <th>Profession</th>\n",
              "      <th>Age_category</th>\n",
              "    </tr>\n",
              "  </thead>\n",
              "  <tbody>\n",
              "    <tr>\n",
              "      <th>0</th>\n",
              "      <td>Иванов</td>\n",
              "      <td>Москва</td>\n",
              "      <td>25</td>\n",
              "      <td>Клинер</td>\n",
              "      <td>средний</td>\n",
              "    </tr>\n",
              "    <tr>\n",
              "      <th>1</th>\n",
              "      <td>NaN</td>\n",
              "      <td>Волгоград</td>\n",
              "      <td>31</td>\n",
              "      <td>Менеджер</td>\n",
              "      <td>средний</td>\n",
              "    </tr>\n",
              "    <tr>\n",
              "      <th>2</th>\n",
              "      <td>Иванов</td>\n",
              "      <td>Москва</td>\n",
              "      <td>25</td>\n",
              "      <td>Клинер</td>\n",
              "      <td>средний</td>\n",
              "    </tr>\n",
              "    <tr>\n",
              "      <th>3</th>\n",
              "      <td>sidorov</td>\n",
              "      <td>Владивосток</td>\n",
              "      <td>43</td>\n",
              "      <td>Менеджер</td>\n",
              "      <td>зрелый</td>\n",
              "    </tr>\n",
              "    <tr>\n",
              "      <th>4</th>\n",
              "      <td>_______</td>\n",
              "      <td>Курск</td>\n",
              "      <td>50</td>\n",
              "      <td>Водитель</td>\n",
              "      <td>зрелый</td>\n",
              "    </tr>\n",
              "  </tbody>\n",
              "</table>\n",
              "</div>"
            ],
            "text/plain": [
              "      Name         City  Age Profession Age_category\n",
              "0   Иванов       Москва   25     Клинер      средний\n",
              "1      NaN    Волгоград   31   Менеджер      средний\n",
              "2   Иванов       Москва   25     Клинер      средний\n",
              "3  sidorov  Владивосток   43   Менеджер       зрелый\n",
              "4  _______        Курск   50   Водитель       зрелый"
            ]
          },
          "execution_count": 37,
          "metadata": {},
          "output_type": "execute_result"
        }
      ],
      "source": [
        "sample = pd.read_csv(\"csv_files/sample.csv\")\n",
        "def age_category(age):\n",
        "  if age < 23:\n",
        "    return \"молодой\"\n",
        "  elif 23 <= age <= 35:\n",
        "    return \"средний\"\n",
        "  elif age > 35:\n",
        "    return \"зрелый\"\n",
        "sample['Age_category'] = sample.Age.apply(age_category)\n",
        "sample.head()"
      ]
    },
    {
      "cell_type": "code",
      "execution_count": 38,
      "metadata": {
        "colab": {
          "base_uri": "https://localhost:8080/",
          "height": 206
        },
        "id": "qTsLjpI4fGF0",
        "outputId": "af490f7a-7790-4eab-c045-296b1be96242"
      },
      "outputs": [
        {
          "data": {
            "text/html": [
              "<div>\n",
              "<style scoped>\n",
              "    .dataframe tbody tr th:only-of-type {\n",
              "        vertical-align: middle;\n",
              "    }\n",
              "\n",
              "    .dataframe tbody tr th {\n",
              "        vertical-align: top;\n",
              "    }\n",
              "\n",
              "    .dataframe thead th {\n",
              "        text-align: right;\n",
              "    }\n",
              "</style>\n",
              "<table border=\"1\" class=\"dataframe\">\n",
              "  <thead>\n",
              "    <tr style=\"text-align: right;\">\n",
              "      <th></th>\n",
              "      <th>user_id</th>\n",
              "      <th>time</th>\n",
              "      <th>bet</th>\n",
              "      <th>win</th>\n",
              "    </tr>\n",
              "  </thead>\n",
              "  <tbody>\n",
              "    <tr>\n",
              "      <th>0</th>\n",
              "      <td>user_919</td>\n",
              "      <td>[2019-01-01 14:06:51</td>\n",
              "      <td>NaN</td>\n",
              "      <td>NaN</td>\n",
              "    </tr>\n",
              "    <tr>\n",
              "      <th>1</th>\n",
              "      <td>user_973</td>\n",
              "      <td>[2019-01-01 14:51:16</td>\n",
              "      <td>NaN</td>\n",
              "      <td>NaN</td>\n",
              "    </tr>\n",
              "    <tr>\n",
              "      <th>2</th>\n",
              "      <td>user_903</td>\n",
              "      <td>[2019-01-01 16:31:16</td>\n",
              "      <td>NaN</td>\n",
              "      <td>NaN</td>\n",
              "    </tr>\n",
              "    <tr>\n",
              "      <th>3</th>\n",
              "      <td>user_954</td>\n",
              "      <td>[2019-01-01 17:17:51</td>\n",
              "      <td>NaN</td>\n",
              "      <td>NaN</td>\n",
              "    </tr>\n",
              "    <tr>\n",
              "      <th>4</th>\n",
              "      <td>user_954</td>\n",
              "      <td>[2019-01-01 21:31:18</td>\n",
              "      <td>NaN</td>\n",
              "      <td>NaN</td>\n",
              "    </tr>\n",
              "  </tbody>\n",
              "</table>\n",
              "</div>"
            ],
            "text/plain": [
              "    user_id                  time  bet  win\n",
              "0  user_919  [2019-01-01 14:06:51  NaN  NaN\n",
              "1  user_973  [2019-01-01 14:51:16  NaN  NaN\n",
              "2  user_903  [2019-01-01 16:31:16  NaN  NaN\n",
              "3  user_954  [2019-01-01 17:17:51  NaN  NaN\n",
              "4  user_954  [2019-01-01 21:31:18  NaN  NaN"
            ]
          },
          "execution_count": 38,
          "metadata": {},
          "output_type": "execute_result"
        }
      ],
      "source": [
        "log = pd.read_csv('csv_files/log.csv', header=None)\n",
        "log.columns = ['user_id','time','bet','win']\n",
        "def func(x):\n",
        "  if x == '#error':\n",
        "    return ''\n",
        "  else:\n",
        "    return x[24::]\n",
        "log.user_id = log.user_id.apply(func)\n",
        "log.head()"
      ]
    },
    {
      "cell_type": "code",
      "execution_count": 39,
      "metadata": {
        "colab": {
          "base_uri": "https://localhost:8080/",
          "height": 206
        },
        "id": "3pMRMOSu1QvR",
        "outputId": "a47c3386-8a4b-4635-c0e3-8bbe6491d0e4"
      },
      "outputs": [
        {
          "name": "stderr",
          "output_type": "stream",
          "text": [
            "C:\\Users\\nason\\AppData\\Local\\Temp\\ipykernel_23528\\147513377.py:3: FutureWarning: The default value of regex will change from True to False in a future version. In addition, single character regular expressions will *not* be treated as literal strings when regex=True.\n",
            "  log['time'] = log['time'].str.replace('[', '')\n"
          ]
        },
        {
          "data": {
            "text/html": [
              "<div>\n",
              "<style scoped>\n",
              "    .dataframe tbody tr th:only-of-type {\n",
              "        vertical-align: middle;\n",
              "    }\n",
              "\n",
              "    .dataframe tbody tr th {\n",
              "        vertical-align: top;\n",
              "    }\n",
              "\n",
              "    .dataframe thead th {\n",
              "        text-align: right;\n",
              "    }\n",
              "</style>\n",
              "<table border=\"1\" class=\"dataframe\">\n",
              "  <thead>\n",
              "    <tr style=\"text-align: right;\">\n",
              "      <th></th>\n",
              "      <th>user_id</th>\n",
              "      <th>time</th>\n",
              "      <th>bet</th>\n",
              "      <th>win</th>\n",
              "    </tr>\n",
              "  </thead>\n",
              "  <tbody>\n",
              "    <tr>\n",
              "      <th>0</th>\n",
              "      <td>Запись пользователя № - user_919</td>\n",
              "      <td>2019-01-01 14:06:51</td>\n",
              "      <td>NaN</td>\n",
              "      <td>NaN</td>\n",
              "    </tr>\n",
              "    <tr>\n",
              "      <th>1</th>\n",
              "      <td>Запись пользователя № - user_973</td>\n",
              "      <td>2019-01-01 14:51:16</td>\n",
              "      <td>NaN</td>\n",
              "      <td>NaN</td>\n",
              "    </tr>\n",
              "    <tr>\n",
              "      <th>2</th>\n",
              "      <td>Запись пользователя № - user_903</td>\n",
              "      <td>2019-01-01 16:31:16</td>\n",
              "      <td>NaN</td>\n",
              "      <td>NaN</td>\n",
              "    </tr>\n",
              "    <tr>\n",
              "      <th>3</th>\n",
              "      <td>Запись пользователя № - user_954</td>\n",
              "      <td>2019-01-01 17:17:51</td>\n",
              "      <td>NaN</td>\n",
              "      <td>NaN</td>\n",
              "    </tr>\n",
              "    <tr>\n",
              "      <th>4</th>\n",
              "      <td>Запись пользователя № - user_954</td>\n",
              "      <td>2019-01-01 21:31:18</td>\n",
              "      <td>NaN</td>\n",
              "      <td>NaN</td>\n",
              "    </tr>\n",
              "  </tbody>\n",
              "</table>\n",
              "</div>"
            ],
            "text/plain": [
              "                            user_id                 time  bet  win\n",
              "0  Запись пользователя № - user_919  2019-01-01 14:06:51  NaN  NaN\n",
              "1  Запись пользователя № - user_973  2019-01-01 14:51:16  NaN  NaN\n",
              "2  Запись пользователя № - user_903  2019-01-01 16:31:16  NaN  NaN\n",
              "3  Запись пользователя № - user_954  2019-01-01 17:17:51  NaN  NaN\n",
              "4  Запись пользователя № - user_954  2019-01-01 21:31:18  NaN  NaN"
            ]
          },
          "execution_count": 39,
          "metadata": {},
          "output_type": "execute_result"
        }
      ],
      "source": [
        "log = pd.read_csv(\"csv_files/log.csv\",header=None) \n",
        "log.columns = ['user_id','time','bet','win']\n",
        "log['time'] = log['time'].str.replace('[', '')\n",
        "t = log.time[0]\n",
        "log.head()"
      ]
    },
    {
      "cell_type": "markdown",
      "metadata": {
        "id": "CKYNeJEL32yc"
      },
      "source": [
        "Прочитайте файл в переменную log.\n",
        "Добавьте названия колонок user_id, time, bet, win.\n",
        "Удалите из user_id записи, содержащие ошибки.\n",
        "Оставьте в поле user_id значение типа \"user_N\", где N — значение идентификатора.\n",
        "Уберите начальную скобку из поля time."
      ]
    },
    {
      "cell_type": "code",
      "execution_count": 40,
      "metadata": {
        "colab": {
          "base_uri": "https://localhost:8080/",
          "height": 206
        },
        "id": "PpK1EMmc34o2",
        "outputId": "53da120e-3abc-47c6-8830-3a81c24ca579"
      },
      "outputs": [
        {
          "name": "stderr",
          "output_type": "stream",
          "text": [
            "C:\\Users\\nason\\AppData\\Local\\Temp\\ipykernel_23528\\1610353277.py:10: FutureWarning: The default value of regex will change from True to False in a future version. In addition, single character regular expressions will *not* be treated as literal strings when regex=True.\n",
            "  log['time'] = log['time'].str.replace('[', '')\n"
          ]
        },
        {
          "data": {
            "text/html": [
              "<div>\n",
              "<style scoped>\n",
              "    .dataframe tbody tr th:only-of-type {\n",
              "        vertical-align: middle;\n",
              "    }\n",
              "\n",
              "    .dataframe tbody tr th {\n",
              "        vertical-align: top;\n",
              "    }\n",
              "\n",
              "    .dataframe thead th {\n",
              "        text-align: right;\n",
              "    }\n",
              "</style>\n",
              "<table border=\"1\" class=\"dataframe\">\n",
              "  <thead>\n",
              "    <tr style=\"text-align: right;\">\n",
              "      <th></th>\n",
              "      <th>user_id</th>\n",
              "      <th>time</th>\n",
              "      <th>bet</th>\n",
              "      <th>win</th>\n",
              "    </tr>\n",
              "  </thead>\n",
              "  <tbody>\n",
              "    <tr>\n",
              "      <th>0</th>\n",
              "      <td>user_919</td>\n",
              "      <td>2019-01-01 14:06:51</td>\n",
              "      <td>NaN</td>\n",
              "      <td>NaN</td>\n",
              "    </tr>\n",
              "    <tr>\n",
              "      <th>1</th>\n",
              "      <td>user_973</td>\n",
              "      <td>2019-01-01 14:51:16</td>\n",
              "      <td>NaN</td>\n",
              "      <td>NaN</td>\n",
              "    </tr>\n",
              "    <tr>\n",
              "      <th>2</th>\n",
              "      <td>user_903</td>\n",
              "      <td>2019-01-01 16:31:16</td>\n",
              "      <td>NaN</td>\n",
              "      <td>NaN</td>\n",
              "    </tr>\n",
              "    <tr>\n",
              "      <th>3</th>\n",
              "      <td>user_954</td>\n",
              "      <td>2019-01-01 17:17:51</td>\n",
              "      <td>NaN</td>\n",
              "      <td>NaN</td>\n",
              "    </tr>\n",
              "    <tr>\n",
              "      <th>4</th>\n",
              "      <td>user_954</td>\n",
              "      <td>2019-01-01 21:31:18</td>\n",
              "      <td>NaN</td>\n",
              "      <td>NaN</td>\n",
              "    </tr>\n",
              "  </tbody>\n",
              "</table>\n",
              "</div>"
            ],
            "text/plain": [
              "    user_id                 time  bet  win\n",
              "0  user_919  2019-01-01 14:06:51  NaN  NaN\n",
              "1  user_973  2019-01-01 14:51:16  NaN  NaN\n",
              "2  user_903  2019-01-01 16:31:16  NaN  NaN\n",
              "3  user_954  2019-01-01 17:17:51  NaN  NaN\n",
              "4  user_954  2019-01-01 21:31:18  NaN  NaN"
            ]
          },
          "execution_count": 40,
          "metadata": {},
          "output_type": "execute_result"
        }
      ],
      "source": [
        "log = pd.read_csv(\"csv_files/log.csv\",header=None) \n",
        "log.columns = ['user_id','time','bet','win']\n",
        "log = log[~log.user_id.str.contains('#error', na = False)]\n",
        "def func(x):\n",
        "  if x == '#error':\n",
        "    return ''\n",
        "  else:\n",
        "    return x[24::]\n",
        "log.user_id = log.user_id.apply(func)\n",
        "log['time'] = log['time'].str.replace('[', '')\n",
        "log.head()"
      ]
    }
  ],
  "metadata": {
    "colab": {
      "authorship_tag": "ABX9TyNChTPB5GadeOxMLFgXyaXR",
      "collapsed_sections": [],
      "include_colab_link": true,
      "name": "39 PYT Очистка данных.ipynb",
      "provenance": []
    },
    "kernelspec": {
      "display_name": "Python 3",
      "name": "python3"
    },
    "language_info": {
      "codemirror_mode": {
        "name": "ipython",
        "version": 3
      },
      "file_extension": ".py",
      "mimetype": "text/x-python",
      "name": "python",
      "nbconvert_exporter": "python",
      "pygments_lexer": "ipython3",
      "version": "3.10.1"
    }
  },
  "nbformat": 4,
  "nbformat_minor": 0
}
