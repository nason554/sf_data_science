{
 "cells": [
  {
   "cell_type": "code",
   "execution_count": 2,
   "metadata": {},
   "outputs": [],
   "source": [
    "import pandas as pd\n",
    "\n",
    "events_df = pd.read_csv('gd3/events.csv', sep=',')\n",
    "purchase_df = pd.read_csv('gd3/purchase.csv', sep=',')"
   ]
  },
  {
   "cell_type": "code",
   "execution_count": 3,
   "metadata": {},
   "outputs": [
    {
     "data": {
      "text/html": [
       "<div>\n",
       "<style scoped>\n",
       "    .dataframe tbody tr th:only-of-type {\n",
       "        vertical-align: middle;\n",
       "    }\n",
       "\n",
       "    .dataframe tbody tr th {\n",
       "        vertical-align: top;\n",
       "    }\n",
       "\n",
       "    .dataframe thead th {\n",
       "        text-align: right;\n",
       "    }\n",
       "</style>\n",
       "<table border=\"1\" class=\"dataframe\">\n",
       "  <thead>\n",
       "    <tr style=\"text-align: right;\">\n",
       "      <th></th>\n",
       "      <th>id</th>\n",
       "      <th>event_type</th>\n",
       "      <th>selected_level</th>\n",
       "      <th>start_time</th>\n",
       "      <th>tutorial_id</th>\n",
       "      <th>user_id</th>\n",
       "    </tr>\n",
       "  </thead>\n",
       "  <tbody>\n",
       "    <tr>\n",
       "      <th>0</th>\n",
       "      <td>28903</td>\n",
       "      <td>registration</td>\n",
       "      <td>NaN</td>\n",
       "      <td>2016-05-11T23:40:55</td>\n",
       "      <td>NaN</td>\n",
       "      <td>12583</td>\n",
       "    </tr>\n",
       "    <tr>\n",
       "      <th>1</th>\n",
       "      <td>28904</td>\n",
       "      <td>registration</td>\n",
       "      <td>NaN</td>\n",
       "      <td>2016-05-11T23:49:58</td>\n",
       "      <td>NaN</td>\n",
       "      <td>12584</td>\n",
       "    </tr>\n",
       "    <tr>\n",
       "      <th>2</th>\n",
       "      <td>28905</td>\n",
       "      <td>registration</td>\n",
       "      <td>NaN</td>\n",
       "      <td>2016-05-12T00:53:07</td>\n",
       "      <td>NaN</td>\n",
       "      <td>12585</td>\n",
       "    </tr>\n",
       "    <tr>\n",
       "      <th>3</th>\n",
       "      <td>28906</td>\n",
       "      <td>tutorial_start</td>\n",
       "      <td>NaN</td>\n",
       "      <td>2016-05-12T01:32:20</td>\n",
       "      <td>17562.0</td>\n",
       "      <td>12585</td>\n",
       "    </tr>\n",
       "    <tr>\n",
       "      <th>4</th>\n",
       "      <td>28907</td>\n",
       "      <td>tutorial_finish</td>\n",
       "      <td>NaN</td>\n",
       "      <td>2016-05-12T01:34:53</td>\n",
       "      <td>17562.0</td>\n",
       "      <td>12585</td>\n",
       "    </tr>\n",
       "    <tr>\n",
       "      <th>5</th>\n",
       "      <td>28908</td>\n",
       "      <td>tutorial_start</td>\n",
       "      <td>NaN</td>\n",
       "      <td>2016-05-12T02:11:29</td>\n",
       "      <td>17563.0</td>\n",
       "      <td>12584</td>\n",
       "    </tr>\n",
       "    <tr>\n",
       "      <th>6</th>\n",
       "      <td>28909</td>\n",
       "      <td>tutorial_finish</td>\n",
       "      <td>NaN</td>\n",
       "      <td>2016-05-12T02:14:14</td>\n",
       "      <td>17563.0</td>\n",
       "      <td>12584</td>\n",
       "    </tr>\n",
       "    <tr>\n",
       "      <th>7</th>\n",
       "      <td>28910</td>\n",
       "      <td>level_choice</td>\n",
       "      <td>hard</td>\n",
       "      <td>2016-05-12T05:30:25</td>\n",
       "      <td>NaN</td>\n",
       "      <td>12584</td>\n",
       "    </tr>\n",
       "    <tr>\n",
       "      <th>8</th>\n",
       "      <td>28911</td>\n",
       "      <td>pack_choice</td>\n",
       "      <td>NaN</td>\n",
       "      <td>2016-05-12T05:38:24</td>\n",
       "      <td>NaN</td>\n",
       "      <td>12584</td>\n",
       "    </tr>\n",
       "    <tr>\n",
       "      <th>9</th>\n",
       "      <td>28912</td>\n",
       "      <td>tutorial_start</td>\n",
       "      <td>NaN</td>\n",
       "      <td>2016-05-12T07:19:01</td>\n",
       "      <td>17564.0</td>\n",
       "      <td>12583</td>\n",
       "    </tr>\n",
       "  </tbody>\n",
       "</table>\n",
       "</div>"
      ],
      "text/plain": [
       "      id       event_type selected_level           start_time  tutorial_id  \\\n",
       "0  28903     registration            NaN  2016-05-11T23:40:55          NaN   \n",
       "1  28904     registration            NaN  2016-05-11T23:49:58          NaN   \n",
       "2  28905     registration            NaN  2016-05-12T00:53:07          NaN   \n",
       "3  28906   tutorial_start            NaN  2016-05-12T01:32:20      17562.0   \n",
       "4  28907  tutorial_finish            NaN  2016-05-12T01:34:53      17562.0   \n",
       "5  28908   tutorial_start            NaN  2016-05-12T02:11:29      17563.0   \n",
       "6  28909  tutorial_finish            NaN  2016-05-12T02:14:14      17563.0   \n",
       "7  28910     level_choice           hard  2016-05-12T05:30:25          NaN   \n",
       "8  28911      pack_choice            NaN  2016-05-12T05:38:24          NaN   \n",
       "9  28912   tutorial_start            NaN  2016-05-12T07:19:01      17564.0   \n",
       "\n",
       "   user_id  \n",
       "0    12583  \n",
       "1    12584  \n",
       "2    12585  \n",
       "3    12585  \n",
       "4    12585  \n",
       "5    12584  \n",
       "6    12584  \n",
       "7    12584  \n",
       "8    12584  \n",
       "9    12583  "
      ]
     },
     "execution_count": 3,
     "metadata": {},
     "output_type": "execute_result"
    }
   ],
   "source": [
    "events_df.head(10)"
   ]
  },
  {
   "cell_type": "code",
   "execution_count": 4,
   "metadata": {},
   "outputs": [
    {
     "name": "stdout",
     "output_type": "stream",
     "text": [
      "<class 'pandas.core.frame.DataFrame'>\n",
      "RangeIndex: 252334 entries, 0 to 252333\n",
      "Data columns (total 6 columns):\n",
      " #   Column          Non-Null Count   Dtype  \n",
      "---  ------          --------------   -----  \n",
      " 0   id              252334 non-null  int64  \n",
      " 1   event_type      252334 non-null  object \n",
      " 2   selected_level  31086 non-null   object \n",
      " 3   start_time      252334 non-null  object \n",
      " 4   tutorial_id     125103 non-null  float64\n",
      " 5   user_id         252334 non-null  int64  \n",
      "dtypes: float64(1), int64(2), object(3)\n",
      "memory usage: 11.6+ MB\n"
     ]
    }
   ],
   "source": [
    "events_df.info()"
   ]
  },
  {
   "cell_type": "markdown",
   "metadata": {},
   "source": [
    "Отобрали данные только для пользователей, зарегистрировавшихся в 2018 году.\n",
    "Перевели столбец с датой в формат даты"
   ]
  },
  {
   "cell_type": "code",
   "execution_count": 5,
   "metadata": {},
   "outputs": [
    {
     "name": "stdout",
     "output_type": "stream",
     "text": [
      "<class 'pandas.core.frame.DataFrame'>\n",
      "Int64Index: 66959 entries, 51405 to 118364\n",
      "Data columns (total 6 columns):\n",
      " #   Column          Non-Null Count  Dtype         \n",
      "---  ------          --------------  -----         \n",
      " 0   id              66959 non-null  int64         \n",
      " 1   event_type      66959 non-null  object        \n",
      " 2   selected_level  8342 non-null   object        \n",
      " 3   start_time      66959 non-null  datetime64[ns]\n",
      " 4   tutorial_id     32954 non-null  float64       \n",
      " 5   user_id         66959 non-null  int64         \n",
      "dtypes: datetime64[ns](1), float64(1), int64(2), object(2)\n",
      "memory usage: 3.6+ MB\n"
     ]
    },
    {
     "name": "stderr",
     "output_type": "stream",
     "text": [
      "C:\\Users\\ASPIRE\\AppData\\Local\\Programs\\Python\\Python39\\lib\\site-packages\\pandas\\core\\generic.py:5516: SettingWithCopyWarning: \n",
      "A value is trying to be set on a copy of a slice from a DataFrame.\n",
      "Try using .loc[row_indexer,col_indexer] = value instead\n",
      "\n",
      "See the caveats in the documentation: https://pandas.pydata.org/pandas-docs/stable/user_guide/indexing.html#returning-a-view-versus-a-copy\n",
      "  self[name] = value\n"
     ]
    }
   ],
   "source": [
    "cond = (events_df.start_time>='2018-01-01') & (events_df.start_time<'2019-01-01') & (events_df.event_type=='registration')\n",
    "registered = events_df[cond]['user_id'].to_list() # список пользователей, зарег. в 2018\n",
    "events = events_df[events_df.user_id.isin(registered)]\n",
    "events.start_time = pd.to_datetime(events.start_time, format='%Y-%m-%dT%H:%M:%S')\n",
    "events.info()"
   ]
  },
  {
   "cell_type": "code",
   "execution_count": 6,
   "metadata": {},
   "outputs": [
    {
     "name": "stderr",
     "output_type": "stream",
     "text": [
      "C:\\Users\\ASPIRE\\AppData\\Local\\Temp/ipykernel_2480/2498275664.py:1: FutureWarning: Treating datetime data as categorical rather than numeric in `.describe` is deprecated and will be removed in a future version of pandas. Specify `datetime_is_numeric=True` to silence this warning and adopt the future behavior now.\n",
      "  events.describe(include='all')\n"
     ]
    },
    {
     "data": {
      "text/html": [
       "<div>\n",
       "<style scoped>\n",
       "    .dataframe tbody tr th:only-of-type {\n",
       "        vertical-align: middle;\n",
       "    }\n",
       "\n",
       "    .dataframe tbody tr th {\n",
       "        vertical-align: top;\n",
       "    }\n",
       "\n",
       "    .dataframe thead th {\n",
       "        text-align: right;\n",
       "    }\n",
       "</style>\n",
       "<table border=\"1\" class=\"dataframe\">\n",
       "  <thead>\n",
       "    <tr style=\"text-align: right;\">\n",
       "      <th></th>\n",
       "      <th>id</th>\n",
       "      <th>event_type</th>\n",
       "      <th>selected_level</th>\n",
       "      <th>start_time</th>\n",
       "      <th>tutorial_id</th>\n",
       "      <th>user_id</th>\n",
       "    </tr>\n",
       "  </thead>\n",
       "  <tbody>\n",
       "    <tr>\n",
       "      <th>count</th>\n",
       "      <td>66959.000000</td>\n",
       "      <td>66959</td>\n",
       "      <td>8342</td>\n",
       "      <td>66959</td>\n",
       "      <td>32954.000000</td>\n",
       "      <td>66959.000000</td>\n",
       "    </tr>\n",
       "    <tr>\n",
       "      <th>unique</th>\n",
       "      <td>NaN</td>\n",
       "      <td>5</td>\n",
       "      <td>3</td>\n",
       "      <td>66809</td>\n",
       "      <td>NaN</td>\n",
       "      <td>NaN</td>\n",
       "    </tr>\n",
       "    <tr>\n",
       "      <th>top</th>\n",
       "      <td>NaN</td>\n",
       "      <td>registration</td>\n",
       "      <td>medium</td>\n",
       "      <td>2018-03-13 09:37:43</td>\n",
       "      <td>NaN</td>\n",
       "      <td>NaN</td>\n",
       "    </tr>\n",
       "    <tr>\n",
       "      <th>freq</th>\n",
       "      <td>NaN</td>\n",
       "      <td>19926</td>\n",
       "      <td>4645</td>\n",
       "      <td>9</td>\n",
       "      <td>NaN</td>\n",
       "      <td>NaN</td>\n",
       "    </tr>\n",
       "    <tr>\n",
       "      <th>first</th>\n",
       "      <td>NaN</td>\n",
       "      <td>NaN</td>\n",
       "      <td>NaN</td>\n",
       "      <td>2018-01-01 03:48:40</td>\n",
       "      <td>NaN</td>\n",
       "      <td>NaN</td>\n",
       "    </tr>\n",
       "    <tr>\n",
       "      <th>last</th>\n",
       "      <td>NaN</td>\n",
       "      <td>NaN</td>\n",
       "      <td>NaN</td>\n",
       "      <td>2019-01-01 05:50:36</td>\n",
       "      <td>NaN</td>\n",
       "      <td>NaN</td>\n",
       "    </tr>\n",
       "    <tr>\n",
       "      <th>mean</th>\n",
       "      <td>113787.000045</td>\n",
       "      <td>NaN</td>\n",
       "      <td>NaN</td>\n",
       "      <td>NaN</td>\n",
       "      <td>40532.934393</td>\n",
       "      <td>37781.543362</td>\n",
       "    </tr>\n",
       "    <tr>\n",
       "      <th>std</th>\n",
       "      <td>19329.542752</td>\n",
       "      <td>NaN</td>\n",
       "      <td>NaN</td>\n",
       "      <td>NaN</td>\n",
       "      <td>5213.486632</td>\n",
       "      <td>5751.497904</td>\n",
       "    </tr>\n",
       "    <tr>\n",
       "      <th>min</th>\n",
       "      <td>80308.000000</td>\n",
       "      <td>NaN</td>\n",
       "      <td>NaN</td>\n",
       "      <td>NaN</td>\n",
       "      <td>31505.000000</td>\n",
       "      <td>27832.000000</td>\n",
       "    </tr>\n",
       "    <tr>\n",
       "      <th>25%</th>\n",
       "      <td>97047.500000</td>\n",
       "      <td>NaN</td>\n",
       "      <td>NaN</td>\n",
       "      <td>NaN</td>\n",
       "      <td>36008.250000</td>\n",
       "      <td>32849.000000</td>\n",
       "    </tr>\n",
       "    <tr>\n",
       "      <th>50%</th>\n",
       "      <td>113787.000000</td>\n",
       "      <td>NaN</td>\n",
       "      <td>NaN</td>\n",
       "      <td>NaN</td>\n",
       "      <td>40529.500000</td>\n",
       "      <td>37719.000000</td>\n",
       "    </tr>\n",
       "    <tr>\n",
       "      <th>75%</th>\n",
       "      <td>130526.500000</td>\n",
       "      <td>NaN</td>\n",
       "      <td>NaN</td>\n",
       "      <td>NaN</td>\n",
       "      <td>45057.750000</td>\n",
       "      <td>42733.000000</td>\n",
       "    </tr>\n",
       "    <tr>\n",
       "      <th>max</th>\n",
       "      <td>147267.000000</td>\n",
       "      <td>NaN</td>\n",
       "      <td>NaN</td>\n",
       "      <td>NaN</td>\n",
       "      <td>49554.000000</td>\n",
       "      <td>47757.000000</td>\n",
       "    </tr>\n",
       "  </tbody>\n",
       "</table>\n",
       "</div>"
      ],
      "text/plain": [
       "                   id    event_type selected_level           start_time  \\\n",
       "count    66959.000000         66959           8342                66959   \n",
       "unique            NaN             5              3                66809   \n",
       "top               NaN  registration         medium  2018-03-13 09:37:43   \n",
       "freq              NaN         19926           4645                    9   \n",
       "first             NaN           NaN            NaN  2018-01-01 03:48:40   \n",
       "last              NaN           NaN            NaN  2019-01-01 05:50:36   \n",
       "mean    113787.000045           NaN            NaN                  NaN   \n",
       "std      19329.542752           NaN            NaN                  NaN   \n",
       "min      80308.000000           NaN            NaN                  NaN   \n",
       "25%      97047.500000           NaN            NaN                  NaN   \n",
       "50%     113787.000000           NaN            NaN                  NaN   \n",
       "75%     130526.500000           NaN            NaN                  NaN   \n",
       "max     147267.000000           NaN            NaN                  NaN   \n",
       "\n",
       "         tutorial_id       user_id  \n",
       "count   32954.000000  66959.000000  \n",
       "unique           NaN           NaN  \n",
       "top              NaN           NaN  \n",
       "freq             NaN           NaN  \n",
       "first            NaN           NaN  \n",
       "last             NaN           NaN  \n",
       "mean    40532.934393  37781.543362  \n",
       "std      5213.486632   5751.497904  \n",
       "min     31505.000000  27832.000000  \n",
       "25%     36008.250000  32849.000000  \n",
       "50%     40529.500000  37719.000000  \n",
       "75%     45057.750000  42733.000000  \n",
       "max     49554.000000  47757.000000  "
      ]
     },
     "execution_count": 6,
     "metadata": {},
     "output_type": "execute_result"
    }
   ],
   "source": [
    "events.describe(include='all')"
   ]
  },
  {
   "cell_type": "markdown",
   "metadata": {},
   "source": [
    "какие уникальные события есть в колонках event_type и selected_level"
   ]
  },
  {
   "cell_type": "code",
   "execution_count": 7,
   "metadata": {},
   "outputs": [
    {
     "data": {
      "text/plain": [
       "array(['registration', 'tutorial_start', 'tutorial_finish',\n",
       "       'level_choice', 'pack_choice'], dtype=object)"
      ]
     },
     "execution_count": 7,
     "metadata": {},
     "output_type": "execute_result"
    }
   ],
   "source": [
    "events['event_type'].unique()"
   ]
  },
  {
   "cell_type": "code",
   "execution_count": 8,
   "metadata": {},
   "outputs": [
    {
     "data": {
      "text/plain": [
       "array([nan, 'medium', 'hard', 'easy'], dtype=object)"
      ]
     },
     "execution_count": 8,
     "metadata": {},
     "output_type": "execute_result"
    }
   ],
   "source": [
    "events['selected_level'].unique()"
   ]
  },
  {
   "cell_type": "markdown",
   "metadata": {},
   "source": [
    "какое количество пользователей совершали события:"
   ]
  },
  {
   "cell_type": "code",
   "execution_count": 9,
   "metadata": {},
   "outputs": [
    {
     "data": {
      "text/plain": [
       "19926"
      ]
     },
     "execution_count": 9,
     "metadata": {},
     "output_type": "execute_result"
    }
   ],
   "source": [
    "events['user_id'].nunique()"
   ]
  },
  {
   "cell_type": "markdown",
   "metadata": {},
   "source": [
    "Читаем данные из purchase_df"
   ]
  },
  {
   "cell_type": "code",
   "execution_count": 10,
   "metadata": {},
   "outputs": [
    {
     "data": {
      "text/html": [
       "<div>\n",
       "<style scoped>\n",
       "    .dataframe tbody tr th:only-of-type {\n",
       "        vertical-align: middle;\n",
       "    }\n",
       "\n",
       "    .dataframe tbody tr th {\n",
       "        vertical-align: top;\n",
       "    }\n",
       "\n",
       "    .dataframe thead th {\n",
       "        text-align: right;\n",
       "    }\n",
       "</style>\n",
       "<table border=\"1\" class=\"dataframe\">\n",
       "  <thead>\n",
       "    <tr style=\"text-align: right;\">\n",
       "      <th></th>\n",
       "      <th>id</th>\n",
       "      <th>user_id</th>\n",
       "      <th>event_datetime</th>\n",
       "      <th>amount</th>\n",
       "    </tr>\n",
       "  </thead>\n",
       "  <tbody>\n",
       "    <tr>\n",
       "      <th>0</th>\n",
       "      <td>15674</td>\n",
       "      <td>12584</td>\n",
       "      <td>2016-05-12T10:34:16</td>\n",
       "      <td>100</td>\n",
       "    </tr>\n",
       "    <tr>\n",
       "      <th>1</th>\n",
       "      <td>15675</td>\n",
       "      <td>12985</td>\n",
       "      <td>2016-05-13T08:25:56</td>\n",
       "      <td>50</td>\n",
       "    </tr>\n",
       "    <tr>\n",
       "      <th>2</th>\n",
       "      <td>15676</td>\n",
       "      <td>12828</td>\n",
       "      <td>2016-05-13T16:33:46</td>\n",
       "      <td>50</td>\n",
       "    </tr>\n",
       "    <tr>\n",
       "      <th>3</th>\n",
       "      <td>15677</td>\n",
       "      <td>12598</td>\n",
       "      <td>2016-05-14T01:09:37</td>\n",
       "      <td>150</td>\n",
       "    </tr>\n",
       "    <tr>\n",
       "      <th>4</th>\n",
       "      <td>15678</td>\n",
       "      <td>13037</td>\n",
       "      <td>2016-05-14T01:24:46</td>\n",
       "      <td>100</td>\n",
       "    </tr>\n",
       "    <tr>\n",
       "      <th>5</th>\n",
       "      <td>15679</td>\n",
       "      <td>12989</td>\n",
       "      <td>2016-05-14T02:19:20</td>\n",
       "      <td>200</td>\n",
       "    </tr>\n",
       "    <tr>\n",
       "      <th>6</th>\n",
       "      <td>15680</td>\n",
       "      <td>12684</td>\n",
       "      <td>2016-05-14T03:10:14</td>\n",
       "      <td>100</td>\n",
       "    </tr>\n",
       "    <tr>\n",
       "      <th>7</th>\n",
       "      <td>15681</td>\n",
       "      <td>12656</td>\n",
       "      <td>2016-05-14T03:42:48</td>\n",
       "      <td>100</td>\n",
       "    </tr>\n",
       "    <tr>\n",
       "      <th>8</th>\n",
       "      <td>15682</td>\n",
       "      <td>12624</td>\n",
       "      <td>2016-05-14T06:00:45</td>\n",
       "      <td>50</td>\n",
       "    </tr>\n",
       "    <tr>\n",
       "      <th>9</th>\n",
       "      <td>15683</td>\n",
       "      <td>13136</td>\n",
       "      <td>2016-05-14T07:31:03</td>\n",
       "      <td>50</td>\n",
       "    </tr>\n",
       "  </tbody>\n",
       "</table>\n",
       "</div>"
      ],
      "text/plain": [
       "      id  user_id       event_datetime  amount\n",
       "0  15674    12584  2016-05-12T10:34:16     100\n",
       "1  15675    12985  2016-05-13T08:25:56      50\n",
       "2  15676    12828  2016-05-13T16:33:46      50\n",
       "3  15677    12598  2016-05-14T01:09:37     150\n",
       "4  15678    13037  2016-05-14T01:24:46     100\n",
       "5  15679    12989  2016-05-14T02:19:20     200\n",
       "6  15680    12684  2016-05-14T03:10:14     100\n",
       "7  15681    12656  2016-05-14T03:42:48     100\n",
       "8  15682    12624  2016-05-14T06:00:45      50\n",
       "9  15683    13136  2016-05-14T07:31:03      50"
      ]
     },
     "execution_count": 10,
     "metadata": {},
     "output_type": "execute_result"
    }
   ],
   "source": [
    "purchase_df.head(10)"
   ]
  },
  {
   "cell_type": "code",
   "execution_count": 11,
   "metadata": {},
   "outputs": [
    {
     "name": "stdout",
     "output_type": "stream",
     "text": [
      "<class 'pandas.core.frame.DataFrame'>\n",
      "RangeIndex: 5956 entries, 0 to 5955\n",
      "Data columns (total 4 columns):\n",
      " #   Column          Non-Null Count  Dtype \n",
      "---  ------          --------------  ----- \n",
      " 0   id              5956 non-null   int64 \n",
      " 1   user_id         5956 non-null   int64 \n",
      " 2   event_datetime  5956 non-null   object\n",
      " 3   amount          5956 non-null   int64 \n",
      "dtypes: int64(3), object(1)\n",
      "memory usage: 186.2+ KB\n"
     ]
    }
   ],
   "source": [
    "purchase_df.info()"
   ]
  },
  {
   "cell_type": "markdown",
   "metadata": {},
   "source": [
    "Отобрали данные только для пользователей, зарегистрировавшихся в 2018 году.\n",
    "Перевели столбец с датой в формат даты"
   ]
  },
  {
   "cell_type": "code",
   "execution_count": 12,
   "metadata": {},
   "outputs": [
    {
     "name": "stdout",
     "output_type": "stream",
     "text": [
      "<class 'pandas.core.frame.DataFrame'>\n",
      "Int64Index: 1600 entries, 1171 to 2778\n",
      "Data columns (total 4 columns):\n",
      " #   Column          Non-Null Count  Dtype         \n",
      "---  ------          --------------  -----         \n",
      " 0   id              1600 non-null   int64         \n",
      " 1   user_id         1600 non-null   int64         \n",
      " 2   event_datetime  1600 non-null   datetime64[ns]\n",
      " 3   amount          1600 non-null   int64         \n",
      "dtypes: datetime64[ns](1), int64(3)\n",
      "memory usage: 62.5 KB\n"
     ]
    },
    {
     "name": "stderr",
     "output_type": "stream",
     "text": [
      "C:\\Users\\ASPIRE\\AppData\\Local\\Programs\\Python\\Python39\\lib\\site-packages\\pandas\\core\\generic.py:5516: SettingWithCopyWarning: \n",
      "A value is trying to be set on a copy of a slice from a DataFrame.\n",
      "Try using .loc[row_indexer,col_indexer] = value instead\n",
      "\n",
      "See the caveats in the documentation: https://pandas.pydata.org/pandas-docs/stable/user_guide/indexing.html#returning-a-view-versus-a-copy\n",
      "  self[name] = value\n"
     ]
    }
   ],
   "source": [
    "cond_2 = (purchase_df.event_datetime>='2018-01-01') & (purchase_df.event_datetime<'2019-01-01') & (events_df.event_type=='registration')\n",
    "purchase = purchase_df[purchase_df.user_id.isin(registered)]\n",
    "purchase.event_datetime = pd.to_datetime(purchase.event_datetime, format='%Y-%m-%dT%H:%M:%S')\n",
    "purchase.info()\n"
   ]
  },
  {
   "cell_type": "code",
   "execution_count": 13,
   "metadata": {},
   "outputs": [
    {
     "data": {
      "text/html": [
       "<div>\n",
       "<style scoped>\n",
       "    .dataframe tbody tr th:only-of-type {\n",
       "        vertical-align: middle;\n",
       "    }\n",
       "\n",
       "    .dataframe tbody tr th {\n",
       "        vertical-align: top;\n",
       "    }\n",
       "\n",
       "    .dataframe thead th {\n",
       "        text-align: right;\n",
       "    }\n",
       "</style>\n",
       "<table border=\"1\" class=\"dataframe\">\n",
       "  <thead>\n",
       "    <tr style=\"text-align: right;\">\n",
       "      <th></th>\n",
       "      <th>id</th>\n",
       "      <th>user_id</th>\n",
       "      <th>amount</th>\n",
       "    </tr>\n",
       "  </thead>\n",
       "  <tbody>\n",
       "    <tr>\n",
       "      <th>count</th>\n",
       "      <td>1600.000000</td>\n",
       "      <td>1600.000000</td>\n",
       "      <td>1600.000000</td>\n",
       "    </tr>\n",
       "    <tr>\n",
       "      <th>mean</th>\n",
       "      <td>17645.505625</td>\n",
       "      <td>37752.766250</td>\n",
       "      <td>110.734375</td>\n",
       "    </tr>\n",
       "    <tr>\n",
       "      <th>std</th>\n",
       "      <td>462.038637</td>\n",
       "      <td>5822.621784</td>\n",
       "      <td>54.696628</td>\n",
       "    </tr>\n",
       "    <tr>\n",
       "      <th>min</th>\n",
       "      <td>16845.000000</td>\n",
       "      <td>27845.000000</td>\n",
       "      <td>25.000000</td>\n",
       "    </tr>\n",
       "    <tr>\n",
       "      <th>25%</th>\n",
       "      <td>17245.750000</td>\n",
       "      <td>32815.750000</td>\n",
       "      <td>50.000000</td>\n",
       "    </tr>\n",
       "    <tr>\n",
       "      <th>50%</th>\n",
       "      <td>17645.500000</td>\n",
       "      <td>37633.500000</td>\n",
       "      <td>100.000000</td>\n",
       "    </tr>\n",
       "    <tr>\n",
       "      <th>75%</th>\n",
       "      <td>18045.250000</td>\n",
       "      <td>43023.000000</td>\n",
       "      <td>150.000000</td>\n",
       "    </tr>\n",
       "    <tr>\n",
       "      <th>max</th>\n",
       "      <td>18452.000000</td>\n",
       "      <td>47742.000000</td>\n",
       "      <td>300.000000</td>\n",
       "    </tr>\n",
       "  </tbody>\n",
       "</table>\n",
       "</div>"
      ],
      "text/plain": [
       "                 id       user_id       amount\n",
       "count   1600.000000   1600.000000  1600.000000\n",
       "mean   17645.505625  37752.766250   110.734375\n",
       "std      462.038637   5822.621784    54.696628\n",
       "min    16845.000000  27845.000000    25.000000\n",
       "25%    17245.750000  32815.750000    50.000000\n",
       "50%    17645.500000  37633.500000   100.000000\n",
       "75%    18045.250000  43023.000000   150.000000\n",
       "max    18452.000000  47742.000000   300.000000"
      ]
     },
     "execution_count": 13,
     "metadata": {},
     "output_type": "execute_result"
    }
   ],
   "source": [
    "purchase.describe()"
   ]
  },
  {
   "cell_type": "markdown",
   "metadata": {},
   "source": [
    "АНАЛИЗ ДАННЫХ. ШАГ 1"
   ]
  },
  {
   "cell_type": "markdown",
   "metadata": {},
   "source": [
    "АНАЛИЗ ПОЛЬЗОВАТЕЛЬСКИХ СОБЫТИЙ"
   ]
  },
  {
   "cell_type": "markdown",
   "metadata": {},
   "source": [
    "сколько пользователей совершают событие registration"
   ]
  },
  {
   "cell_type": "code",
   "execution_count": 14,
   "metadata": {},
   "outputs": [
    {
     "data": {
      "text/plain": [
       "19926"
      ]
     },
     "execution_count": 14,
     "metadata": {},
     "output_type": "execute_result"
    }
   ],
   "source": [
    "events[events['event_type'] == 'registration']['user_id'].nunique()"
   ]
  },
  {
   "cell_type": "markdown",
   "metadata": {},
   "source": [
    "всего пользователей"
   ]
  },
  {
   "cell_type": "code",
   "execution_count": 15,
   "metadata": {},
   "outputs": [
    {
     "data": {
      "text/plain": [
       "19926"
      ]
     },
     "execution_count": 15,
     "metadata": {},
     "output_type": "execute_result"
    }
   ],
   "source": [
    "events['user_id'].nunique()"
   ]
  },
  {
   "cell_type": "markdown",
   "metadata": {},
   "source": [
    "Как мы видим, все пользователи совершают событие registration. Это обусловлено тем, что данный этап является обязательным для выполнения и без него пользователь не сможет перейти дальше."
   ]
  },
  {
   "cell_type": "markdown",
   "metadata": {},
   "source": [
    "Посмотрим на срез данных по событию tutorial_start."
   ]
  },
  {
   "cell_type": "code",
   "execution_count": 16,
   "metadata": {},
   "outputs": [
    {
     "data": {
      "text/html": [
       "<div>\n",
       "<style scoped>\n",
       "    .dataframe tbody tr th:only-of-type {\n",
       "        vertical-align: middle;\n",
       "    }\n",
       "\n",
       "    .dataframe tbody tr th {\n",
       "        vertical-align: top;\n",
       "    }\n",
       "\n",
       "    .dataframe thead th {\n",
       "        text-align: right;\n",
       "    }\n",
       "</style>\n",
       "<table border=\"1\" class=\"dataframe\">\n",
       "  <thead>\n",
       "    <tr style=\"text-align: right;\">\n",
       "      <th></th>\n",
       "      <th>id</th>\n",
       "      <th>event_type</th>\n",
       "      <th>selected_level</th>\n",
       "      <th>start_time</th>\n",
       "      <th>tutorial_id</th>\n",
       "      <th>user_id</th>\n",
       "    </tr>\n",
       "  </thead>\n",
       "  <tbody>\n",
       "    <tr>\n",
       "      <th>51412</th>\n",
       "      <td>80315</td>\n",
       "      <td>tutorial_start</td>\n",
       "      <td>NaN</td>\n",
       "      <td>2018-01-01 14:54:40</td>\n",
       "      <td>31505.0</td>\n",
       "      <td>27836</td>\n",
       "    </tr>\n",
       "    <tr>\n",
       "      <th>51413</th>\n",
       "      <td>80316</td>\n",
       "      <td>tutorial_start</td>\n",
       "      <td>NaN</td>\n",
       "      <td>2018-01-01 15:00:51</td>\n",
       "      <td>31506.0</td>\n",
       "      <td>27835</td>\n",
       "    </tr>\n",
       "    <tr>\n",
       "      <th>51415</th>\n",
       "      <td>80318</td>\n",
       "      <td>tutorial_start</td>\n",
       "      <td>NaN</td>\n",
       "      <td>2018-01-01 15:40:43</td>\n",
       "      <td>31507.0</td>\n",
       "      <td>27836</td>\n",
       "    </tr>\n",
       "    <tr>\n",
       "      <th>51417</th>\n",
       "      <td>80320</td>\n",
       "      <td>tutorial_start</td>\n",
       "      <td>NaN</td>\n",
       "      <td>2018-01-01 17:47:40</td>\n",
       "      <td>31508.0</td>\n",
       "      <td>27833</td>\n",
       "    </tr>\n",
       "    <tr>\n",
       "      <th>51420</th>\n",
       "      <td>80323</td>\n",
       "      <td>tutorial_start</td>\n",
       "      <td>NaN</td>\n",
       "      <td>2018-01-01 19:11:36</td>\n",
       "      <td>31509.0</td>\n",
       "      <td>27839</td>\n",
       "    </tr>\n",
       "    <tr>\n",
       "      <th>51422</th>\n",
       "      <td>80325</td>\n",
       "      <td>tutorial_start</td>\n",
       "      <td>NaN</td>\n",
       "      <td>2018-01-01 19:46:11</td>\n",
       "      <td>31510.0</td>\n",
       "      <td>27834</td>\n",
       "    </tr>\n",
       "    <tr>\n",
       "      <th>51434</th>\n",
       "      <td>80337</td>\n",
       "      <td>tutorial_start</td>\n",
       "      <td>NaN</td>\n",
       "      <td>2018-01-02 02:07:07</td>\n",
       "      <td>31511.0</td>\n",
       "      <td>27840</td>\n",
       "    </tr>\n",
       "    <tr>\n",
       "      <th>51435</th>\n",
       "      <td>80338</td>\n",
       "      <td>tutorial_start</td>\n",
       "      <td>NaN</td>\n",
       "      <td>2018-01-02 03:03:44</td>\n",
       "      <td>31512.0</td>\n",
       "      <td>27845</td>\n",
       "    </tr>\n",
       "    <tr>\n",
       "      <th>51437</th>\n",
       "      <td>80340</td>\n",
       "      <td>tutorial_start</td>\n",
       "      <td>NaN</td>\n",
       "      <td>2018-01-02 04:55:11</td>\n",
       "      <td>31513.0</td>\n",
       "      <td>27842</td>\n",
       "    </tr>\n",
       "    <tr>\n",
       "      <th>51446</th>\n",
       "      <td>80349</td>\n",
       "      <td>tutorial_start</td>\n",
       "      <td>NaN</td>\n",
       "      <td>2018-01-02 07:08:00</td>\n",
       "      <td>31514.0</td>\n",
       "      <td>27845</td>\n",
       "    </tr>\n",
       "  </tbody>\n",
       "</table>\n",
       "</div>"
      ],
      "text/plain": [
       "          id      event_type selected_level          start_time  tutorial_id  \\\n",
       "51412  80315  tutorial_start            NaN 2018-01-01 14:54:40      31505.0   \n",
       "51413  80316  tutorial_start            NaN 2018-01-01 15:00:51      31506.0   \n",
       "51415  80318  tutorial_start            NaN 2018-01-01 15:40:43      31507.0   \n",
       "51417  80320  tutorial_start            NaN 2018-01-01 17:47:40      31508.0   \n",
       "51420  80323  tutorial_start            NaN 2018-01-01 19:11:36      31509.0   \n",
       "51422  80325  tutorial_start            NaN 2018-01-01 19:46:11      31510.0   \n",
       "51434  80337  tutorial_start            NaN 2018-01-02 02:07:07      31511.0   \n",
       "51435  80338  tutorial_start            NaN 2018-01-02 03:03:44      31512.0   \n",
       "51437  80340  tutorial_start            NaN 2018-01-02 04:55:11      31513.0   \n",
       "51446  80349  tutorial_start            NaN 2018-01-02 07:08:00      31514.0   \n",
       "\n",
       "       user_id  \n",
       "51412    27836  \n",
       "51413    27835  \n",
       "51415    27836  \n",
       "51417    27833  \n",
       "51420    27839  \n",
       "51422    27834  \n",
       "51434    27840  \n",
       "51435    27845  \n",
       "51437    27842  \n",
       "51446    27845  "
      ]
     },
     "execution_count": 16,
     "metadata": {},
     "output_type": "execute_result"
    }
   ],
   "source": [
    "events[events['event_type'] == 'tutorial_start'].head(10)"
   ]
  },
  {
   "cell_type": "markdown",
   "metadata": {},
   "source": [
    "Посмотрим на количество пользователей, которые совершают событие tutorial_start:"
   ]
  },
  {
   "cell_type": "code",
   "execution_count": 17,
   "metadata": {},
   "outputs": [
    {
     "data": {
      "text/plain": [
       "11858"
      ]
     },
     "execution_count": 17,
     "metadata": {},
     "output_type": "execute_result"
    }
   ],
   "source": [
    "events[events['event_type'] == 'tutorial_start']['user_id'].nunique()"
   ]
  },
  {
   "cell_type": "markdown",
   "metadata": {},
   "source": [
    "Как мы видим, число пользователей, которые перешли к выполнению обучения, меньше, чем число пользователей, прошедших регистрацию.\n",
    "19926 прошли регистрацию, 11858 переходят к обучению"
   ]
  },
  {
   "cell_type": "markdown",
   "metadata": {},
   "source": [
    "Определим процент пользователей, которые перешли к выполнению обучения, и запишем его в переменную percent_tutorial_start_users."
   ]
  },
  {
   "cell_type": "code",
   "execution_count": 18,
   "metadata": {},
   "outputs": [
    {
     "name": "stdout",
     "output_type": "stream",
     "text": [
      "Процент пользователей, начавших обучение (от общего числа зарегистрировавшихся): 59.51%\n"
     ]
    }
   ],
   "source": [
    "registered_users_count = events[events[\"event_type\"] == \"registration\"][\n",
    "    \"user_id\"\n",
    "].nunique()\n",
    "tutorial_start_users_count = events[events[\"event_type\"] == \"tutorial_start\"][\n",
    "    \"user_id\"\n",
    "].nunique()\n",
    "percent_tutorial_start_users = tutorial_start_users_count / registered_users_count\n",
    "print(\n",
    "    \"Процент пользователей, начавших обучение (от общего числа зарегистрировавшихся): {:.2%}\".format(\n",
    "        percent_tutorial_start_users\n",
    "    )\n",
    ")"
   ]
  },
  {
   "cell_type": "markdown",
   "metadata": {},
   "source": [
    "Теперь посмотрим, какое количество пользователей проходит обучение до конца событие tutorial_finish."
   ]
  },
  {
   "cell_type": "code",
   "execution_count": 19,
   "metadata": {},
   "outputs": [
    {
     "data": {
      "text/plain": [
       "10250"
      ]
     },
     "execution_count": 19,
     "metadata": {},
     "output_type": "execute_result"
    }
   ],
   "source": [
    "events[events['event_type'] == 'tutorial_finish']['user_id'].nunique()"
   ]
  },
  {
   "cell_type": "markdown",
   "metadata": {},
   "source": [
    "Рассчитаем процент пользователей, завершивших обучение, среди пользователей, которые начали обучение. Это будет показатель tutorial_completion_rate (коэффициент «завершаемости» обучения)."
   ]
  },
  {
   "cell_type": "code",
   "execution_count": 20,
   "metadata": {},
   "outputs": [
    {
     "name": "stdout",
     "output_type": "stream",
     "text": [
      "Процент пользователей, завершивших обучение: 86.44%\n"
     ]
    }
   ],
   "source": [
    "tutorial_finish_users_count = events[events[\"event_type\"] == \"tutorial_finish\"][\n",
    "    \"user_id\"\n",
    "].nunique()\n",
    "tutorial_completion_rate = tutorial_finish_users_count / tutorial_start_users_count\n",
    "print(\n",
    "    \"Процент пользователей, завершивших обучение: {:.2%}\".format(\n",
    "        tutorial_completion_rate\n",
    "    )\n",
    ")"
   ]
  },
  {
   "cell_type": "markdown",
   "metadata": {},
   "source": [
    "Следующий этап — это выбор уровня сложности level_choice. Давайте посмотрим на процент тех, кто доходит до этого этапа."
   ]
  },
  {
   "cell_type": "code",
   "execution_count": 21,
   "metadata": {},
   "outputs": [
    {
     "data": {
      "text/plain": [
       "8342"
      ]
     },
     "execution_count": 21,
     "metadata": {},
     "output_type": "execute_result"
    }
   ],
   "source": [
    "events[events['event_type'] == 'level_choice']['user_id'].nunique()"
   ]
  },
  {
   "cell_type": "markdown",
   "metadata": {},
   "source": [
    "Из логики нашего приложения следует, что выбор уровня сложности можно совершить и без прохождения обучения. Поэтому рассчитаем долю пользователей percent_level_choice_users, которые выбрали уровень сложности, от общего числа зарегистрировавшихся:"
   ]
  },
  {
   "cell_type": "code",
   "execution_count": 22,
   "metadata": {},
   "outputs": [
    {
     "name": "stdout",
     "output_type": "stream",
     "text": [
      "Процент пользователей, выбравших уровень сложности тренировок (от общего числа зарегистрировавшихся): 41.86%\n"
     ]
    }
   ],
   "source": [
    "level_choice_users_count = events[events[\"event_type\"] == \"level_choice\"][\n",
    "    \"user_id\"\n",
    "].nunique()\n",
    "percent_level_choice_users = level_choice_users_count / registered_users_count\n",
    "print(\n",
    "    \"Процент пользователей, выбравших уровень сложности тренировок (от общего числа зарегистрировавшихся): {:.2%}\".format(\n",
    "        percent_level_choice_users\n",
    "    )\n",
    ")"
   ]
  },
  {
   "cell_type": "markdown",
   "metadata": {},
   "source": [
    "Определим число пользователей, которые совершили событие выбора бесплатного пакета вопросов pack_choice."
   ]
  },
  {
   "cell_type": "code",
   "execution_count": 23,
   "metadata": {},
   "outputs": [
    {
     "data": {
      "text/plain": [
       "5737"
      ]
     },
     "execution_count": 23,
     "metadata": {},
     "output_type": "execute_result"
    }
   ],
   "source": [
    "events[events['event_type'] == 'pack_choice']['user_id'].nunique()"
   ]
  },
  {
   "cell_type": "markdown",
   "metadata": {},
   "source": [
    "Итак, 5737 пользователя доходят до этапа выбора бесплатных вопросов. Оценим процент таких пользователей от числа пользователей, которые выбрали уровень сложности."
   ]
  },
  {
   "cell_type": "code",
   "execution_count": 24,
   "metadata": {},
   "outputs": [
    {
     "name": "stdout",
     "output_type": "stream",
     "text": [
      "Процент пользователей, выбравших набор бесплатных вопросов (от числа пользователей, которые выбрали уровень сложности): 68.77%\n"
     ]
    }
   ],
   "source": [
    "training_choice_users_count = events[events[\"event_type\"] == \"pack_choice\"][\n",
    "    \"user_id\"\n",
    "].nunique()\n",
    "percent_training_choice_users = training_choice_users_count / level_choice_users_count\n",
    "print(\n",
    "    \"Процент пользователей, выбравших набор бесплатных вопросов (от числа пользователей, которые выбрали уровень сложности): {:.2%}\".format(\n",
    "        percent_training_choice_users\n",
    "    )\n",
    ")"
   ]
  },
  {
   "cell_type": "markdown",
   "metadata": {},
   "source": [
    "Следующий этап после выбора бесплатного набора вопросов — это возможная покупка платных пакетов. Оценим число пользователей, которые совершили покупку."
   ]
  },
  {
   "cell_type": "code",
   "execution_count": 26,
   "metadata": {},
   "outputs": [
    {
     "data": {
      "text/plain": [
       "1600"
      ]
     },
     "execution_count": 26,
     "metadata": {},
     "output_type": "execute_result"
    }
   ],
   "source": [
    "purchase['user_id'].nunique()"
   ]
  },
  {
   "cell_type": "markdown",
   "metadata": {},
   "source": [
    "Рассчитаем процент пользователей percent_of_paying_users, которые оплатили вопросы, от числа пользователей, которые приобрели бесплатные вопросы:"
   ]
  },
  {
   "cell_type": "code",
   "execution_count": 29,
   "metadata": {},
   "outputs": [
    {
     "name": "stdout",
     "output_type": "stream",
     "text": [
      "Процент пользователей, которые оплатили вопросы (от числа пользователей, которые воспользовались бесплатными возможностями): 27.89%\n"
     ]
    }
   ],
   "source": [
    "paying_users_count = purchase[\"user_id\"].nunique()\n",
    "percent_of_paying_users = paying_users_count / training_choice_users_count\n",
    "print(\n",
    "    \"Процент пользователей, которые оплатили вопросы (от числа пользователей, которые воспользовались бесплатными возможностями): {:.2%}\".format(\n",
    "        percent_of_paying_users\n",
    "    )\n",
    ")"
   ]
  },
  {
   "cell_type": "markdown",
   "metadata": {},
   "source": [
    "Таким образом, чуть больше четверти пользователей, которые выбирают бесплатные вопросы, в дальнейшем покупают их.\n",
    "Давайте посмотрим, какой процент составляют покупатели от общего числа зарегистрировавшихся. Для этого создадим переменную purchase_rate."
   ]
  },
  {
   "cell_type": "code",
   "execution_count": 31,
   "metadata": {},
   "outputs": [
    {
     "name": "stdout",
     "output_type": "stream",
     "text": [
      "Процент пользователей, которые оплатили вопросы (от числа зарегистрировавшихся пользователей): 8.03%\n"
     ]
    }
   ],
   "source": [
    "purchase_rate = paying_users_count / registered_users_count\n",
    "print(\n",
    "    \"Процент пользователей, которые оплатили вопросы (от числа зарегистрировавшихся пользователей): {:.2%}\".format(\n",
    "        purchase_rate\n",
    "    )\n",
    ")"
   ]
  },
  {
   "cell_type": "markdown",
   "metadata": {},
   "source": [
    "АНАЛИЗ ДАННЫХ. ШАГ 2"
   ]
  },
  {
   "cell_type": "markdown",
   "metadata": {},
   "source": [
    "АНАЛИЗ УНИКАЛЬНЫХ ПОЛЬЗОВАТЕЛЬСКИХ ПУТЕЙ"
   ]
  },
  {
   "cell_type": "markdown",
   "metadata": {},
   "source": [
    "Объединяем датафреймы"
   ]
  },
  {
   "cell_type": "code",
   "execution_count": 33,
   "metadata": {},
   "outputs": [
    {
     "name": "stderr",
     "output_type": "stream",
     "text": [
      "C:\\Users\\ASPIRE\\AppData\\Local\\Temp/ipykernel_2480/3456045107.py:1: SettingWithCopyWarning: \n",
      "A value is trying to be set on a copy of a slice from a DataFrame.\n",
      "Try using .loc[row_indexer,col_indexer] = value instead\n",
      "\n",
      "See the caveats in the documentation: https://pandas.pydata.org/pandas-docs/stable/user_guide/indexing.html#returning-a-view-versus-a-copy\n",
      "  purchase['event_type'] = 'purchase' #добавили столбец с только одним значением оплаты, чтобы в объединенном датафрейме четко обозначить покупку\n"
     ]
    },
    {
     "data": {
      "text/html": [
       "<div>\n",
       "<style scoped>\n",
       "    .dataframe tbody tr th:only-of-type {\n",
       "        vertical-align: middle;\n",
       "    }\n",
       "\n",
       "    .dataframe tbody tr th {\n",
       "        vertical-align: top;\n",
       "    }\n",
       "\n",
       "    .dataframe thead th {\n",
       "        text-align: right;\n",
       "    }\n",
       "</style>\n",
       "<table border=\"1\" class=\"dataframe\">\n",
       "  <thead>\n",
       "    <tr style=\"text-align: right;\">\n",
       "      <th></th>\n",
       "      <th>event_id</th>\n",
       "      <th>event_type</th>\n",
       "      <th>selected_level</th>\n",
       "      <th>start_time</th>\n",
       "      <th>tutorial_id</th>\n",
       "      <th>user_id</th>\n",
       "      <th>purchase_id</th>\n",
       "      <th>event_datetime</th>\n",
       "      <th>amount</th>\n",
       "    </tr>\n",
       "  </thead>\n",
       "  <tbody>\n",
       "    <tr>\n",
       "      <th>51405</th>\n",
       "      <td>80308.0</td>\n",
       "      <td>registration</td>\n",
       "      <td>NaN</td>\n",
       "      <td>2018-01-01 03:48:40</td>\n",
       "      <td>NaN</td>\n",
       "      <td>27832</td>\n",
       "      <td>NaN</td>\n",
       "      <td>NaT</td>\n",
       "      <td>NaN</td>\n",
       "    </tr>\n",
       "    <tr>\n",
       "      <th>51406</th>\n",
       "      <td>80309.0</td>\n",
       "      <td>registration</td>\n",
       "      <td>NaN</td>\n",
       "      <td>2018-01-01 04:07:25</td>\n",
       "      <td>NaN</td>\n",
       "      <td>27833</td>\n",
       "      <td>NaN</td>\n",
       "      <td>NaT</td>\n",
       "      <td>NaN</td>\n",
       "    </tr>\n",
       "    <tr>\n",
       "      <th>51407</th>\n",
       "      <td>80310.0</td>\n",
       "      <td>registration</td>\n",
       "      <td>NaN</td>\n",
       "      <td>2018-01-01 08:35:10</td>\n",
       "      <td>NaN</td>\n",
       "      <td>27834</td>\n",
       "      <td>NaN</td>\n",
       "      <td>NaT</td>\n",
       "      <td>NaN</td>\n",
       "    </tr>\n",
       "    <tr>\n",
       "      <th>51408</th>\n",
       "      <td>80311.0</td>\n",
       "      <td>registration</td>\n",
       "      <td>NaN</td>\n",
       "      <td>2018-01-01 11:54:47</td>\n",
       "      <td>NaN</td>\n",
       "      <td>27835</td>\n",
       "      <td>NaN</td>\n",
       "      <td>NaT</td>\n",
       "      <td>NaN</td>\n",
       "    </tr>\n",
       "    <tr>\n",
       "      <th>51409</th>\n",
       "      <td>80312.0</td>\n",
       "      <td>registration</td>\n",
       "      <td>NaN</td>\n",
       "      <td>2018-01-01 13:28:07</td>\n",
       "      <td>NaN</td>\n",
       "      <td>27836</td>\n",
       "      <td>NaN</td>\n",
       "      <td>NaT</td>\n",
       "      <td>NaN</td>\n",
       "    </tr>\n",
       "    <tr>\n",
       "      <th>51410</th>\n",
       "      <td>80313.0</td>\n",
       "      <td>registration</td>\n",
       "      <td>NaN</td>\n",
       "      <td>2018-01-01 14:08:40</td>\n",
       "      <td>NaN</td>\n",
       "      <td>27837</td>\n",
       "      <td>NaN</td>\n",
       "      <td>NaT</td>\n",
       "      <td>NaN</td>\n",
       "    </tr>\n",
       "    <tr>\n",
       "      <th>51411</th>\n",
       "      <td>80314.0</td>\n",
       "      <td>registration</td>\n",
       "      <td>NaN</td>\n",
       "      <td>2018-01-01 14:42:58</td>\n",
       "      <td>NaN</td>\n",
       "      <td>27838</td>\n",
       "      <td>NaN</td>\n",
       "      <td>NaT</td>\n",
       "      <td>NaN</td>\n",
       "    </tr>\n",
       "    <tr>\n",
       "      <th>51412</th>\n",
       "      <td>80315.0</td>\n",
       "      <td>tutorial_start</td>\n",
       "      <td>NaN</td>\n",
       "      <td>2018-01-01 14:54:40</td>\n",
       "      <td>31505.0</td>\n",
       "      <td>27836</td>\n",
       "      <td>NaN</td>\n",
       "      <td>NaT</td>\n",
       "      <td>NaN</td>\n",
       "    </tr>\n",
       "    <tr>\n",
       "      <th>51413</th>\n",
       "      <td>80316.0</td>\n",
       "      <td>tutorial_start</td>\n",
       "      <td>NaN</td>\n",
       "      <td>2018-01-01 15:00:51</td>\n",
       "      <td>31506.0</td>\n",
       "      <td>27835</td>\n",
       "      <td>NaN</td>\n",
       "      <td>NaT</td>\n",
       "      <td>NaN</td>\n",
       "    </tr>\n",
       "    <tr>\n",
       "      <th>51414</th>\n",
       "      <td>80317.0</td>\n",
       "      <td>tutorial_finish</td>\n",
       "      <td>NaN</td>\n",
       "      <td>2018-01-01 15:06:15</td>\n",
       "      <td>31506.0</td>\n",
       "      <td>27835</td>\n",
       "      <td>NaN</td>\n",
       "      <td>NaT</td>\n",
       "      <td>NaN</td>\n",
       "    </tr>\n",
       "  </tbody>\n",
       "</table>\n",
       "</div>"
      ],
      "text/plain": [
       "       event_id       event_type selected_level          start_time  \\\n",
       "51405   80308.0     registration            NaN 2018-01-01 03:48:40   \n",
       "51406   80309.0     registration            NaN 2018-01-01 04:07:25   \n",
       "51407   80310.0     registration            NaN 2018-01-01 08:35:10   \n",
       "51408   80311.0     registration            NaN 2018-01-01 11:54:47   \n",
       "51409   80312.0     registration            NaN 2018-01-01 13:28:07   \n",
       "51410   80313.0     registration            NaN 2018-01-01 14:08:40   \n",
       "51411   80314.0     registration            NaN 2018-01-01 14:42:58   \n",
       "51412   80315.0   tutorial_start            NaN 2018-01-01 14:54:40   \n",
       "51413   80316.0   tutorial_start            NaN 2018-01-01 15:00:51   \n",
       "51414   80317.0  tutorial_finish            NaN 2018-01-01 15:06:15   \n",
       "\n",
       "       tutorial_id  user_id  purchase_id event_datetime  amount  \n",
       "51405          NaN    27832          NaN            NaT     NaN  \n",
       "51406          NaN    27833          NaN            NaT     NaN  \n",
       "51407          NaN    27834          NaN            NaT     NaN  \n",
       "51408          NaN    27835          NaN            NaT     NaN  \n",
       "51409          NaN    27836          NaN            NaT     NaN  \n",
       "51410          NaN    27837          NaN            NaT     NaN  \n",
       "51411          NaN    27838          NaN            NaT     NaN  \n",
       "51412      31505.0    27836          NaN            NaT     NaN  \n",
       "51413      31506.0    27835          NaN            NaT     NaN  \n",
       "51414      31506.0    27835          NaN            NaT     NaN  "
      ]
     },
     "execution_count": 33,
     "metadata": {},
     "output_type": "execute_result"
    }
   ],
   "source": [
    "purchase['event_type'] = 'purchase' #добавили столбец с только одним значением оплаты, чтобы в объединенном датафрейме четко обозначить покупку\n",
    "#переименуем столбцы с id, чтобы не запутаться\n",
    "events = events.rename(columns={\"id\": \"event_id\"})\n",
    "purchase = purchase.rename(columns={\"id\": \"purchase_id\"})\n",
    "#объединим датафреймы\n",
    "total_events_df = pd.concat([events,purchase],sort=False)\n",
    "total_events_df.head(10)"
   ]
  },
  {
   "cell_type": "code",
   "execution_count": 34,
   "metadata": {},
   "outputs": [
    {
     "name": "stdout",
     "output_type": "stream",
     "text": [
      "<class 'pandas.core.frame.DataFrame'>\n",
      "Int64Index: 68559 entries, 51405 to 2778\n",
      "Data columns (total 9 columns):\n",
      " #   Column          Non-Null Count  Dtype         \n",
      "---  ------          --------------  -----         \n",
      " 0   event_id        66959 non-null  float64       \n",
      " 1   event_type      68559 non-null  object        \n",
      " 2   selected_level  8342 non-null   object        \n",
      " 3   start_time      66959 non-null  datetime64[ns]\n",
      " 4   tutorial_id     32954 non-null  float64       \n",
      " 5   user_id         68559 non-null  int64         \n",
      " 6   purchase_id     1600 non-null   float64       \n",
      " 7   event_datetime  1600 non-null   datetime64[ns]\n",
      " 8   amount          1600 non-null   float64       \n",
      "dtypes: datetime64[ns](2), float64(4), int64(1), object(2)\n",
      "memory usage: 5.2+ MB\n"
     ]
    }
   ],
   "source": [
    "total_events_df.info()"
   ]
  },
  {
   "cell_type": "markdown",
   "metadata": {},
   "source": [
    "Воссоздаём последовательность событий.\n",
    "Теперь можно для каждого пользователя создать список, который будет содержать во временной последовательности все события, совершаемые данным пользователем."
   ]
  },
  {
   "cell_type": "markdown",
   "metadata": {},
   "source": [
    "Для этого воспользуемся методом groupby по столбцу event_type и применим агрегирующую функцию apply(list). Таким образом мы сгруппируем строки по пользователю, а затем объединим в списки содержимое столбца event_type по каждому пользователю. Запишем результат в датафрейм user_path_df."
   ]
  },
  {
   "cell_type": "code",
   "execution_count": 35,
   "metadata": {},
   "outputs": [
    {
     "data": {
      "text/html": [
       "<div>\n",
       "<style scoped>\n",
       "    .dataframe tbody tr th:only-of-type {\n",
       "        vertical-align: middle;\n",
       "    }\n",
       "\n",
       "    .dataframe tbody tr th {\n",
       "        vertical-align: top;\n",
       "    }\n",
       "\n",
       "    .dataframe thead th {\n",
       "        text-align: right;\n",
       "    }\n",
       "</style>\n",
       "<table border=\"1\" class=\"dataframe\">\n",
       "  <thead>\n",
       "    <tr style=\"text-align: right;\">\n",
       "      <th></th>\n",
       "      <th>user_id</th>\n",
       "      <th>event_type</th>\n",
       "    </tr>\n",
       "  </thead>\n",
       "  <tbody>\n",
       "    <tr>\n",
       "      <th>0</th>\n",
       "      <td>27832</td>\n",
       "      <td>[registration]</td>\n",
       "    </tr>\n",
       "    <tr>\n",
       "      <th>1</th>\n",
       "      <td>27833</td>\n",
       "      <td>[registration, tutorial_start, tutorial_finish]</td>\n",
       "    </tr>\n",
       "    <tr>\n",
       "      <th>2</th>\n",
       "      <td>27834</td>\n",
       "      <td>[registration, tutorial_start, tutorial_finish]</td>\n",
       "    </tr>\n",
       "    <tr>\n",
       "      <th>3</th>\n",
       "      <td>27835</td>\n",
       "      <td>[registration, tutorial_start, tutorial_finish...</td>\n",
       "    </tr>\n",
       "    <tr>\n",
       "      <th>4</th>\n",
       "      <td>27836</td>\n",
       "      <td>[registration, tutorial_start, tutorial_start,...</td>\n",
       "    </tr>\n",
       "    <tr>\n",
       "      <th>5</th>\n",
       "      <td>27837</td>\n",
       "      <td>[registration]</td>\n",
       "    </tr>\n",
       "    <tr>\n",
       "      <th>6</th>\n",
       "      <td>27838</td>\n",
       "      <td>[registration]</td>\n",
       "    </tr>\n",
       "    <tr>\n",
       "      <th>7</th>\n",
       "      <td>27839</td>\n",
       "      <td>[registration, tutorial_start, tutorial_finish...</td>\n",
       "    </tr>\n",
       "    <tr>\n",
       "      <th>8</th>\n",
       "      <td>27840</td>\n",
       "      <td>[registration, tutorial_start, level_choice]</td>\n",
       "    </tr>\n",
       "    <tr>\n",
       "      <th>9</th>\n",
       "      <td>27841</td>\n",
       "      <td>[registration, tutorial_start, tutorial_finish]</td>\n",
       "    </tr>\n",
       "  </tbody>\n",
       "</table>\n",
       "</div>"
      ],
      "text/plain": [
       "   user_id                                         event_type\n",
       "0    27832                                     [registration]\n",
       "1    27833    [registration, tutorial_start, tutorial_finish]\n",
       "2    27834    [registration, tutorial_start, tutorial_finish]\n",
       "3    27835  [registration, tutorial_start, tutorial_finish...\n",
       "4    27836  [registration, tutorial_start, tutorial_start,...\n",
       "5    27837                                     [registration]\n",
       "6    27838                                     [registration]\n",
       "7    27839  [registration, tutorial_start, tutorial_finish...\n",
       "8    27840       [registration, tutorial_start, level_choice]\n",
       "9    27841    [registration, tutorial_start, tutorial_finish]"
      ]
     },
     "execution_count": 35,
     "metadata": {},
     "output_type": "execute_result"
    }
   ],
   "source": [
    "user_path_df = (\n",
    "    total_events_df.groupby([\"user_id\"])[\"event_type\"].apply(list).reset_index()\n",
    ")\n",
    "user_path_df.head(10)"
   ]
  },
  {
   "cell_type": "markdown",
   "metadata": {},
   "source": [
    "Если мы объединим данные по этой колонке и подсчитаем количество пользователей по каждому пути, то получим наиболее популярные пути пользователей."
   ]
  },
  {
   "cell_type": "markdown",
   "metadata": {},
   "source": [
    "Прежде чем мы сможем оценить популярные пути пользователей, преобразуем список событий в строку event_path. Эта операция нужна для оптимизации скорости объединения, так как иначе Pandas может делать подсчёт слишком долго."
   ]
  },
  {
   "cell_type": "code",
   "execution_count": 36,
   "metadata": {},
   "outputs": [
    {
     "data": {
      "text/plain": [
       "0                                         registration\n",
       "1      registration > tutorial_start > tutorial_finish\n",
       "2      registration > tutorial_start > tutorial_finish\n",
       "3    registration > tutorial_start > tutorial_finis...\n",
       "4    registration > tutorial_start > tutorial_start...\n",
       "Name: event_path, dtype: object"
      ]
     },
     "execution_count": 36,
     "metadata": {},
     "output_type": "execute_result"
    }
   ],
   "source": [
    "user_path_df[\"event_path\"] = user_path_df[\"event_type\"].apply(lambda x: \" > \".join(x))\n",
    "user_path_df[\"event_path\"].head()"
   ]
  },
  {
   "cell_type": "code",
   "execution_count": 38,
   "metadata": {},
   "outputs": [
    {
     "data": {
      "text/plain": [
       "event_path\n",
       "registration                                                                                                       7970\n",
       "registration > tutorial_start > tutorial_finish > level_choice > pack_choice                                       2796\n",
       "registration > tutorial_start > tutorial_finish                                                                    1956\n",
       "registration > tutorial_start > tutorial_finish > level_choice                                                     1713\n",
       "registration > tutorial_start > tutorial_finish > level_choice > pack_choice > purchase                            1083\n",
       "registration > tutorial_start                                                                                       842\n",
       "registration > tutorial_start > level_choice > pack_choice                                                          346\n",
       "registration > tutorial_start > tutorial_finish > tutorial_start > tutorial_finish                                  323\n",
       "registration > tutorial_start > level_choice                                                                        243\n",
       "registration > tutorial_start > tutorial_finish > level_choice > pack_choice > tutorial_start > tutorial_finish     236\n",
       "Name: user_id, dtype: int64"
      ]
     },
     "execution_count": 38,
     "metadata": {},
     "output_type": "execute_result"
    }
   ],
   "source": [
    "user_paths = (\n",
    "    user_path_df.groupby([\"event_path\"])[\"user_id\"]\n",
    "    .nunique()\n",
    "    .sort_values(ascending=False)\n",
    ")\n",
    "\n",
    "user_paths.head(10)"
   ]
  },
  {
   "cell_type": "markdown",
   "metadata": {},
   "source": [
    "Давайте посмотрим, какие ещё последовательности содержат в себе оплату."
   ]
  },
  {
   "cell_type": "code",
   "execution_count": 39,
   "metadata": {},
   "outputs": [
    {
     "data": {
      "text/plain": [
       "event_path\n",
       "registration > tutorial_start > tutorial_finish > level_choice > pack_choice > purchase                                                                                                             1083\n",
       "registration > tutorial_start > level_choice > pack_choice > purchase                                                                                                                                124\n",
       "registration > tutorial_start > tutorial_finish > level_choice > pack_choice > tutorial_start > tutorial_finish > purchase                                                                           101\n",
       "registration > tutorial_start > tutorial_finish > tutorial_start > tutorial_finish > level_choice > pack_choice > purchase                                                                            52\n",
       "registration > tutorial_start > tutorial_start > tutorial_finish > level_choice > pack_choice > purchase                                                                                              26\n",
       "registration > level_choice > pack_choice > purchase                                                                                                                                                  22\n",
       "registration > tutorial_start > tutorial_finish > level_choice > pack_choice > tutorial_start > purchase                                                                                              21\n",
       "registration > tutorial_start > tutorial_finish > level_choice > pack_choice > tutorial_start > tutorial_finish > tutorial_start > tutorial_finish > purchase                                         12\n",
       "registration > tutorial_start > tutorial_finish > tutorial_start > tutorial_finish > level_choice > pack_choice > tutorial_start > tutorial_finish > purchase                                          8\n",
       "registration > tutorial_start > tutorial_finish > level_choice > pack_choice > tutorial_start > tutorial_finish > tutorial_start > tutorial_finish > tutorial_start > tutorial_finish > purchase       7\n",
       "Name: user_id, dtype: int64"
      ]
     },
     "execution_count": 39,
     "metadata": {},
     "output_type": "execute_result"
    }
   ],
   "source": [
    "user_paths[user_paths.index.str.contains('purchase')].head(10)"
   ]
  },
  {
   "cell_type": "markdown",
   "metadata": {},
   "source": [
    "Большинство последовательностей, которые содержат в себе оплату, также содержат старт обучения. Это наводит нас на гипотезу, что вероятность оплаты зависит от того, проходил ли пользователь обучение."
   ]
  },
  {
   "cell_type": "markdown",
   "metadata": {},
   "source": [
    "АНАЛИЗ ДАННЫХ. ШАГ 3"
   ]
  },
  {
   "cell_type": "markdown",
   "metadata": {},
   "source": [
    "АНАЛИЗ ВРЕМЕННЫХ ПРОМЕЖУТКОВ"
   ]
  },
  {
   "cell_type": "markdown",
   "metadata": {},
   "source": [
    "Определяем время между registration и tutorial_start"
   ]
  },
  {
   "cell_type": "markdown",
   "metadata": {},
   "source": [
    "1. Первым делом выделим отдельный датафрейм registration_df, который будет содержать только события с event_type = registration."
   ]
  },
  {
   "cell_type": "code",
   "execution_count": 41,
   "metadata": {},
   "outputs": [
    {
     "data": {
      "text/plain": [
       "1.0"
      ]
     },
     "execution_count": 41,
     "metadata": {},
     "output_type": "execute_result"
    }
   ],
   "source": [
    "registration_df = total_events_df[total_events_df['event_type'] == 'registration']\n",
    "registration_df['user_id'].value_counts().mean()"
   ]
  },
  {
   "cell_type": "markdown",
   "metadata": {},
   "source": [
    "Оставим в датафрейме registration_df только те данные, которые нужны для наших вычислений"
   ]
  },
  {
   "cell_type": "code",
   "execution_count": 42,
   "metadata": {},
   "outputs": [],
   "source": [
    "registration_df = registration_df[[\"user_id\", \"start_time\"]].rename(\n",
    "    columns={\"start_time\": \"registration_time\"}\n",
    ")"
   ]
  },
  {
   "cell_type": "markdown",
   "metadata": {},
   "source": [
    "2. Выделим отдельный датафрейм tutorial_start_df, который будет содержать только события с event_type = tutorial_start (начало обучения)."
   ]
  },
  {
   "cell_type": "code",
   "execution_count": 43,
   "metadata": {},
   "outputs": [
    {
     "data": {
      "text/plain": [
       "1.522179119581717"
      ]
     },
     "execution_count": 43,
     "metadata": {},
     "output_type": "execute_result"
    }
   ],
   "source": [
    "tutorial_start_df = total_events_df[total_events_df['event_type'] == 'tutorial_start']\n",
    "tutorial_start_df['user_id'].value_counts().mean()"
   ]
  },
  {
   "cell_type": "markdown",
   "metadata": {},
   "source": [
    "Создадим датафрейм tutorial_start_df_wo_duplicates, где будет присутствовать только первое обучение. Для этого отсортируем датафрейм по start_time, чтобы сначала шли более ранние события начала обучения, а затем удалим дубликаты по столбцу user_id. Таким образом, для каждого user_id останется только первое событие типа tutorial_start."
   ]
  },
  {
   "cell_type": "code",
   "execution_count": 44,
   "metadata": {},
   "outputs": [
    {
     "data": {
      "text/plain": [
       "1.0"
      ]
     },
     "execution_count": 44,
     "metadata": {},
     "output_type": "execute_result"
    }
   ],
   "source": [
    "tutorial_start_df_wo_duplicates = tutorial_start_df.sort_values(\n",
    "    \"start_time\"\n",
    ").drop_duplicates(\"user_id\")\n",
    "tutorial_start_df_wo_duplicates['user_id'].value_counts().mean()"
   ]
  },
  {
   "cell_type": "markdown",
   "metadata": {},
   "source": [
    "оставим только такие столбцы, которые пригодятся нам в дальнейшем"
   ]
  },
  {
   "cell_type": "code",
   "execution_count": 45,
   "metadata": {},
   "outputs": [],
   "source": [
    "tutorial_start_df_wo_duplicates = tutorial_start_df_wo_duplicates[\n",
    "    [\"user_id\", \"tutorial_id\", \"start_time\"]\n",
    "].rename(columns={\"start_time\": \"tutorial_start_time\"})"
   ]
  },
  {
   "cell_type": "markdown",
   "metadata": {},
   "source": [
    "Объединяем датафреймы с первой регистрацией и первым обучением с помощью функции merge(), объединяя данные по параметру user_id.\n",
    "Нужно объединить данные с использованием параметра how='inner', это позволит в объединённом датафрейме оставить только такие идентификаторы пользователей, которые есть в обоих датафреймах."
   ]
  },
  {
   "cell_type": "code",
   "execution_count": 46,
   "metadata": {},
   "outputs": [
    {
     "data": {
      "text/html": [
       "<div>\n",
       "<style scoped>\n",
       "    .dataframe tbody tr th:only-of-type {\n",
       "        vertical-align: middle;\n",
       "    }\n",
       "\n",
       "    .dataframe tbody tr th {\n",
       "        vertical-align: top;\n",
       "    }\n",
       "\n",
       "    .dataframe thead th {\n",
       "        text-align: right;\n",
       "    }\n",
       "</style>\n",
       "<table border=\"1\" class=\"dataframe\">\n",
       "  <thead>\n",
       "    <tr style=\"text-align: right;\">\n",
       "      <th></th>\n",
       "      <th>user_id</th>\n",
       "      <th>registration_time</th>\n",
       "      <th>tutorial_id</th>\n",
       "      <th>tutorial_start_time</th>\n",
       "    </tr>\n",
       "  </thead>\n",
       "  <tbody>\n",
       "    <tr>\n",
       "      <th>0</th>\n",
       "      <td>27833</td>\n",
       "      <td>2018-01-01 04:07:25</td>\n",
       "      <td>31508.0</td>\n",
       "      <td>2018-01-01 17:47:40</td>\n",
       "    </tr>\n",
       "    <tr>\n",
       "      <th>1</th>\n",
       "      <td>27834</td>\n",
       "      <td>2018-01-01 08:35:10</td>\n",
       "      <td>31510.0</td>\n",
       "      <td>2018-01-01 19:46:11</td>\n",
       "    </tr>\n",
       "    <tr>\n",
       "      <th>2</th>\n",
       "      <td>27835</td>\n",
       "      <td>2018-01-01 11:54:47</td>\n",
       "      <td>31506.0</td>\n",
       "      <td>2018-01-01 15:00:51</td>\n",
       "    </tr>\n",
       "    <tr>\n",
       "      <th>3</th>\n",
       "      <td>27836</td>\n",
       "      <td>2018-01-01 13:28:07</td>\n",
       "      <td>31505.0</td>\n",
       "      <td>2018-01-01 14:54:40</td>\n",
       "    </tr>\n",
       "    <tr>\n",
       "      <th>4</th>\n",
       "      <td>27839</td>\n",
       "      <td>2018-01-01 18:24:01</td>\n",
       "      <td>31509.0</td>\n",
       "      <td>2018-01-01 19:11:36</td>\n",
       "    </tr>\n",
       "  </tbody>\n",
       "</table>\n",
       "</div>"
      ],
      "text/plain": [
       "   user_id   registration_time  tutorial_id tutorial_start_time\n",
       "0    27833 2018-01-01 04:07:25      31508.0 2018-01-01 17:47:40\n",
       "1    27834 2018-01-01 08:35:10      31510.0 2018-01-01 19:46:11\n",
       "2    27835 2018-01-01 11:54:47      31506.0 2018-01-01 15:00:51\n",
       "3    27836 2018-01-01 13:28:07      31505.0 2018-01-01 14:54:40\n",
       "4    27839 2018-01-01 18:24:01      31509.0 2018-01-01 19:11:36"
      ]
     },
     "execution_count": 46,
     "metadata": {},
     "output_type": "execute_result"
    }
   ],
   "source": [
    "merged_df = registration_df.merge(\n",
    "    tutorial_start_df_wo_duplicates, on=\"user_id\", how=\"inner\"\n",
    ")\n",
    "merged_df.head()"
   ]
  },
  {
   "cell_type": "markdown",
   "metadata": {},
   "source": [
    "Сделаем столбец timedelta, в котором посчитаем разницу между временем начала обучения (tutorial_start_time) и временем регистрации (registration_time):"
   ]
  },
  {
   "cell_type": "code",
   "execution_count": 47,
   "metadata": {},
   "outputs": [
    {
     "data": {
      "text/html": [
       "<div>\n",
       "<style scoped>\n",
       "    .dataframe tbody tr th:only-of-type {\n",
       "        vertical-align: middle;\n",
       "    }\n",
       "\n",
       "    .dataframe tbody tr th {\n",
       "        vertical-align: top;\n",
       "    }\n",
       "\n",
       "    .dataframe thead th {\n",
       "        text-align: right;\n",
       "    }\n",
       "</style>\n",
       "<table border=\"1\" class=\"dataframe\">\n",
       "  <thead>\n",
       "    <tr style=\"text-align: right;\">\n",
       "      <th></th>\n",
       "      <th>user_id</th>\n",
       "      <th>registration_time</th>\n",
       "      <th>tutorial_id</th>\n",
       "      <th>tutorial_start_time</th>\n",
       "      <th>timedelta</th>\n",
       "    </tr>\n",
       "  </thead>\n",
       "  <tbody>\n",
       "    <tr>\n",
       "      <th>0</th>\n",
       "      <td>27833</td>\n",
       "      <td>2018-01-01 04:07:25</td>\n",
       "      <td>31508.0</td>\n",
       "      <td>2018-01-01 17:47:40</td>\n",
       "      <td>0 days 13:40:15</td>\n",
       "    </tr>\n",
       "    <tr>\n",
       "      <th>1</th>\n",
       "      <td>27834</td>\n",
       "      <td>2018-01-01 08:35:10</td>\n",
       "      <td>31510.0</td>\n",
       "      <td>2018-01-01 19:46:11</td>\n",
       "      <td>0 days 11:11:01</td>\n",
       "    </tr>\n",
       "    <tr>\n",
       "      <th>2</th>\n",
       "      <td>27835</td>\n",
       "      <td>2018-01-01 11:54:47</td>\n",
       "      <td>31506.0</td>\n",
       "      <td>2018-01-01 15:00:51</td>\n",
       "      <td>0 days 03:06:04</td>\n",
       "    </tr>\n",
       "    <tr>\n",
       "      <th>3</th>\n",
       "      <td>27836</td>\n",
       "      <td>2018-01-01 13:28:07</td>\n",
       "      <td>31505.0</td>\n",
       "      <td>2018-01-01 14:54:40</td>\n",
       "      <td>0 days 01:26:33</td>\n",
       "    </tr>\n",
       "    <tr>\n",
       "      <th>4</th>\n",
       "      <td>27839</td>\n",
       "      <td>2018-01-01 18:24:01</td>\n",
       "      <td>31509.0</td>\n",
       "      <td>2018-01-01 19:11:36</td>\n",
       "      <td>0 days 00:47:35</td>\n",
       "    </tr>\n",
       "  </tbody>\n",
       "</table>\n",
       "</div>"
      ],
      "text/plain": [
       "   user_id   registration_time  tutorial_id tutorial_start_time  \\\n",
       "0    27833 2018-01-01 04:07:25      31508.0 2018-01-01 17:47:40   \n",
       "1    27834 2018-01-01 08:35:10      31510.0 2018-01-01 19:46:11   \n",
       "2    27835 2018-01-01 11:54:47      31506.0 2018-01-01 15:00:51   \n",
       "3    27836 2018-01-01 13:28:07      31505.0 2018-01-01 14:54:40   \n",
       "4    27839 2018-01-01 18:24:01      31509.0 2018-01-01 19:11:36   \n",
       "\n",
       "        timedelta  \n",
       "0 0 days 13:40:15  \n",
       "1 0 days 11:11:01  \n",
       "2 0 days 03:06:04  \n",
       "3 0 days 01:26:33  \n",
       "4 0 days 00:47:35  "
      ]
     },
     "execution_count": 47,
     "metadata": {},
     "output_type": "execute_result"
    }
   ],
   "source": [
    "merged_df[\"timedelta\"] = (\n",
    "    merged_df[\"tutorial_start_time\"] - merged_df[\"registration_time\"]\n",
    ")\n",
    "merged_df.head()"
   ]
  },
  {
   "cell_type": "code",
   "execution_count": 48,
   "metadata": {},
   "outputs": [
    {
     "data": {
      "text/plain": [
       "Timedelta('0 days 04:38:24.019817844')"
      ]
     },
     "execution_count": 48,
     "metadata": {},
     "output_type": "execute_result"
    }
   ],
   "source": [
    "merged_df[\"timedelta\"].mean()"
   ]
  },
  {
   "cell_type": "code",
   "execution_count": 49,
   "metadata": {},
   "outputs": [
    {
     "data": {
      "text/plain": [
       "count                        11858\n",
       "mean     0 days 04:38:24.019817844\n",
       "std      0 days 04:15:09.650705034\n",
       "min                0 days 00:00:34\n",
       "25%         0 days 01:21:37.500000\n",
       "50%         0 days 03:22:08.500000\n",
       "75%         0 days 06:47:42.750000\n",
       "max                1 days 16:03:46\n",
       "Name: timedelta, dtype: object"
      ]
     },
     "execution_count": 49,
     "metadata": {},
     "output_type": "execute_result"
    }
   ],
   "source": [
    "merged_df['timedelta'].describe()"
   ]
  },
  {
   "cell_type": "markdown",
   "metadata": {},
   "source": [
    "Измеряем время обучения"
   ]
  },
  {
   "cell_type": "code",
   "execution_count": 51,
   "metadata": {},
   "outputs": [],
   "source": [
    "# сформируем датафрейм tutorial_finish_df, который содержит события окончания обучения\n",
    "tutorial_finish_df = total_events_df[total_events_df[\"event_type\"] == \"tutorial_finish\"]"
   ]
  },
  {
   "cell_type": "code",
   "execution_count": 53,
   "metadata": {},
   "outputs": [],
   "source": [
    "# сформируем список с идентификаторами первых обучений\n",
    "first_tutorial_ids = tutorial_start_df_wo_duplicates[\"tutorial_id\"].unique()"
   ]
  },
  {
   "cell_type": "code",
   "execution_count": 54,
   "metadata": {},
   "outputs": [
    {
     "data": {
      "text/plain": [
       "1.0"
      ]
     },
     "execution_count": 54,
     "metadata": {},
     "output_type": "execute_result"
    }
   ],
   "source": [
    "# отфильтруем датафрейм tutorial_finish_df, оставив в нём только события для таких обучений, которые были первыми для пользователя\n",
    "tutorial_finish_df = tutorial_finish_df[\n",
    "    tutorial_finish_df[\"tutorial_id\"].isin(first_tutorial_ids)\n",
    "]\n",
    "# Проверим, что для каждого пользователя содержится по одному событию завершения обучения\n",
    "tutorial_finish_df['user_id'].value_counts().mean()"
   ]
  },
  {
   "cell_type": "code",
   "execution_count": 55,
   "metadata": {},
   "outputs": [
    {
     "name": "stdout",
     "output_type": "stream",
     "text": [
      "0 days 00:03:53.174160732\n",
      "count                         9830\n",
      "mean     0 days 00:03:53.174160732\n",
      "std      0 days 00:01:44.803217992\n",
      "min                0 days 00:00:16\n",
      "25%                0 days 00:02:28\n",
      "50%                0 days 00:03:42\n",
      "75%                0 days 00:05:08\n",
      "max                0 days 00:10:06\n",
      "Name: timedelta, dtype: object\n"
     ]
    }
   ],
   "source": [
    "tutorial_finish_df = tutorial_finish_df[[\"user_id\", \"start_time\"]].rename(\n",
    "    columns={\"start_time\": \"tutorial_finish_time\"}\n",
    ")\n",
    "merged_df_2 = tutorial_start_df_wo_duplicates.merge(\n",
    "    tutorial_finish_df, on=\"user_id\", how=\"inner\"\n",
    ")\n",
    "merged_df_2[\"timedelta\"] = (\n",
    "    merged_df_2[\"tutorial_finish_time\"] - merged_df_2[\"tutorial_start_time\"]\n",
    ")\n",
    "merged_df_2.head()\n",
    "print(merged_df_2[\"timedelta\"].mean())\n",
    "print(merged_df_2[\"timedelta\"].describe())"
   ]
  },
  {
   "cell_type": "markdown",
   "metadata": {},
   "source": [
    "Определяем время между registration и level_choice"
   ]
  },
  {
   "cell_type": "code",
   "execution_count": 56,
   "metadata": {},
   "outputs": [
    {
     "name": "stdout",
     "output_type": "stream",
     "text": [
      "1.0\n",
      "0 days 07:10:19.169863342\n",
      "count                         8342\n",
      "mean     0 days 07:10:19.169863342\n",
      "std      0 days 04:33:51.164488800\n",
      "min                0 days 00:08:15\n",
      "25%         0 days 03:53:16.500000\n",
      "50%                0 days 06:03:28\n",
      "75%         0 days 09:34:58.500000\n",
      "max                1 days 18:48:25\n",
      "Name: timedelta, dtype: object\n"
     ]
    }
   ],
   "source": [
    "level_choice_df = total_events_df[total_events_df[\"event_type\"] == \"level_choice\"]\n",
    "print(level_choice_df[\"user_id\"].value_counts().mean())\n",
    "level_choice_df = level_choice_df[[\"user_id\", \"start_time\"]].rename(\n",
    "    columns={\"start_time\": \"level_choice_time\"}\n",
    ")\n",
    "merged_df_3 = registration_df.merge(level_choice_df, on=\"user_id\", how=\"inner\")\n",
    "merged_df_3[\"timedelta\"] = (\n",
    "    merged_df_3[\"level_choice_time\"] - merged_df_3[\"registration_time\"]\n",
    ")\n",
    "print(merged_df_3[\"timedelta\"].mean())\n",
    "print(merged_df_3[\"timedelta\"].describe())"
   ]
  },
  {
   "cell_type": "markdown",
   "metadata": {},
   "source": [
    "ПРОВЕРКА АНАЛИТИЧЕСКОЙ ГИПОТЕЗЫ"
   ]
  },
  {
   "cell_type": "markdown",
   "metadata": {},
   "source": [
    "Определим, существует ли различие в частоте и средней величине оплат между тремя группами пользователей:\n",
    "1. пользователи, которые прошли обучение хотя бы раз;\n",
    "2. пользователи, которые начали обучение, но не прошли его ни разу;\n",
    "3. пользователи, которые не начинали обучение, а сразу же перешли к выбору уровня сложности."
   ]
  },
  {
   "cell_type": "code",
   "execution_count": 57,
   "metadata": {},
   "outputs": [
    {
     "name": "stdout",
     "output_type": "stream",
     "text": [
      "10250\n"
     ]
    }
   ],
   "source": [
    "# Ищем пользователей, прошедших обучение хотя бы раз\n",
    "users_with_finished_tutorial = total_events_df[\n",
    "    total_events_df[\"event_type\"] == \"tutorial_finish\"\n",
    "][\"user_id\"].unique()\n",
    "print(len(users_with_finished_tutorial))    "
   ]
  },
  {
   "cell_type": "code",
   "execution_count": 58,
   "metadata": {},
   "outputs": [
    {
     "name": "stdout",
     "output_type": "stream",
     "text": [
      "11858\n",
      "1608\n",
      "True\n"
     ]
    }
   ],
   "source": [
    "# Ищем пользователей, которые начали, но не закончили обучение\n",
    "\n",
    "# Проще всего сначала найти пользователей, у которых есть событие tutorial_start, \n",
    "# а после убрать из списка таких пользователей, у которых есть событие tutorial_finish.\n",
    "\n",
    "users_with_started_tutorial = total_events_df[\n",
    "    total_events_df[\"event_type\"] == \"tutorial_start\"\n",
    "][\"user_id\"].unique()\n",
    "set_users_with_started_tutorial = set(users_with_started_tutorial)\n",
    "set_users_not_finished_but_started_tutorial = (\n",
    "    set_users_with_started_tutorial.difference(set(users_with_finished_tutorial))\n",
    ")\n",
    "\n",
    "print(len(set_users_with_started_tutorial))\n",
    "print(len(set_users_not_finished_but_started_tutorial))\n",
    "print(\n",
    "    len(set_users_with_started_tutorial) - len(set(users_with_finished_tutorial))\n",
    "    == len(set_users_not_finished_but_started_tutorial)\n",
    ")"
   ]
  },
  {
   "cell_type": "code",
   "execution_count": 59,
   "metadata": {},
   "outputs": [
    {
     "name": "stdout",
     "output_type": "stream",
     "text": [
      "8068\n",
      "True\n"
     ]
    }
   ],
   "source": [
    "# Ищем пользователей, сразу выбравших уровень сложности\n",
    "\n",
    "# У таких пользователей отсутствует событие tutorial_start. Поэтому мы можем просто взять \n",
    "# и убрать из множества всех пользователей множество set_users_with_started_tutorial:\n",
    "\n",
    "all_users = total_events_df[\"user_id\"].unique()\n",
    "set_all_users = set(all_users)\n",
    "set_users_not_started_tutorial = set_all_users.difference(\n",
    "    set_users_with_started_tutorial\n",
    ")\n",
    "print(len(set_users_not_started_tutorial))\n",
    "print(\n",
    "    len(set_all_users) - len(set_users_with_started_tutorial)\n",
    "    == len(set_users_not_started_tutorial)\n",
    ")"
   ]
  },
  {
   "cell_type": "code",
   "execution_count": 60,
   "metadata": {},
   "outputs": [
    {
     "data": {
      "text/plain": [
       "True"
      ]
     },
     "execution_count": 60,
     "metadata": {},
     "output_type": "execute_result"
    }
   ],
   "source": [
    "# проверка\n",
    "\n",
    "len(set_users_not_finished_but_started_tutorial) + len(set_users_not_started_tutorial) + len(users_with_finished_tutorial) == len(set_all_users)"
   ]
  },
  {
   "cell_type": "code",
   "execution_count": 61,
   "metadata": {},
   "outputs": [
    {
     "data": {
      "text/plain": [
       "1447"
      ]
     },
     "execution_count": 61,
     "metadata": {},
     "output_type": "execute_result"
    }
   ],
   "source": [
    "# Считаем пользователей, которые завершили обучение и совершили оплату\n",
    "\n",
    "purchase_df_1 = purchase_df[purchase_df[\"user_id\"].isin(users_with_finished_tutorial)]\n",
    "purchase_df_1['user_id'].nunique()"
   ]
  },
  {
   "cell_type": "code",
   "execution_count": 62,
   "metadata": {},
   "outputs": [
    {
     "name": "stdout",
     "output_type": "stream",
     "text": [
      "Процент пользователей, которые оплатили тренировки (от числа пользователей, завершивших обучение): 14.12%\n"
     ]
    }
   ],
   "source": [
    "percent_of_purchase_1 = purchase_df_1[\"user_id\"].nunique() / len(\n",
    "    users_with_finished_tutorial\n",
    ")\n",
    "print(\n",
    "    \"Процент пользователей, которые оплатили тренировки (от числа пользователей, завершивших обучение): {:.2%}\".format(\n",
    "        percent_of_purchase_1\n",
    "    )\n",
    ")"
   ]
  },
  {
   "cell_type": "code",
   "execution_count": 63,
   "metadata": {},
   "outputs": [
    {
     "data": {
      "text/plain": [
       "110.98825155494126"
      ]
     },
     "execution_count": 63,
     "metadata": {},
     "output_type": "execute_result"
    }
   ],
   "source": [
    "# Считаем средний размер платежа разных групп\n",
    "purchase_df_1['amount'].mean()"
   ]
  },
  {
   "cell_type": "code",
   "execution_count": 64,
   "metadata": {},
   "outputs": [
    {
     "name": "stdout",
     "output_type": "stream",
     "text": [
      "131\n",
      "Процент пользователей, которые оплатили тренировки (от числа пользователей, начавших обучение, но не завершивших): 8.15%\n"
     ]
    }
   ],
   "source": [
    "purchase_df_2 = purchase_df[\n",
    "    purchase_df[\"user_id\"].isin(set_users_not_finished_but_started_tutorial)\n",
    "]\n",
    "print(purchase_df_2[\"user_id\"].nunique())\n",
    "percent_of_purchase_2 = purchase_df_2[\"user_id\"].nunique() / len(\n",
    "    set_users_not_finished_but_started_tutorial\n",
    ")\n",
    "print(\n",
    "    \"Процент пользователей, которые оплатили тренировки (от числа пользователей, начавших обучение, но не завершивших): {:.2%}\".format(\n",
    "        percent_of_purchase_2\n",
    "    )\n",
    ")"
   ]
  },
  {
   "cell_type": "code",
   "execution_count": 65,
   "metadata": {},
   "outputs": [
    {
     "data": {
      "text/plain": [
       "104.9618320610687"
      ]
     },
     "execution_count": 65,
     "metadata": {},
     "output_type": "execute_result"
    }
   ],
   "source": [
    "purchase_df_2['amount'].mean() # средний чек"
   ]
  },
  {
   "cell_type": "code",
   "execution_count": 71,
   "metadata": {},
   "outputs": [
    {
     "data": {
      "text/plain": [
       "22"
      ]
     },
     "execution_count": 71,
     "metadata": {},
     "output_type": "execute_result"
    }
   ],
   "source": [
    "purchase_df_3 = purchase_df[purchase_df[\"user_id\"].isin(set_users_not_started_tutorial)]\n",
    "purchase_df_3['user_id'].nunique()\n",
    "# количество пользователей, которые ни разу не проходили обучение"
   ]
  },
  {
   "cell_type": "code",
   "execution_count": 72,
   "metadata": {},
   "outputs": [
    {
     "name": "stdout",
     "output_type": "stream",
     "text": [
      "Процент пользователей, которые оплатили тренировки (от числа пользователей, которые ни разу не прошли обучение): 0.27%\n"
     ]
    }
   ],
   "source": [
    "percent_of_purchase_3 = purchase_df_3[\"user_id\"].nunique() / len(\n",
    "    set_users_not_started_tutorial\n",
    ")\n",
    "print(\n",
    "    \"Процент пользователей, которые оплатили тренировки (от числа пользователей, которые ни разу не прошли обучение): {:.2%}\".format(\n",
    "        percent_of_purchase_3\n",
    "    )\n",
    ")"
   ]
  },
  {
   "cell_type": "code",
   "execution_count": 74,
   "metadata": {},
   "outputs": [
    {
     "data": {
      "text/plain": [
       "128.4090909090909"
      ]
     },
     "execution_count": 74,
     "metadata": {},
     "output_type": "execute_result"
    }
   ],
   "source": [
    "purchase_df_3['amount'].mean() # средний чек у пользователей, ни разу не начавших обучение"
   ]
  }
 ],
 "metadata": {
  "interpreter": {
   "hash": "30230121b6a3f5ed41ffc3362f14e369bddfa6eb18b63a2f3e274c87a6c99772"
  },
  "kernelspec": {
   "display_name": "Python 3.9.7 64-bit",
   "name": "python3"
  },
  "language_info": {
   "codemirror_mode": {
    "name": "ipython",
    "version": 3
   },
   "file_extension": ".py",
   "mimetype": "text/x-python",
   "name": "python",
   "nbconvert_exporter": "python",
   "pygments_lexer": "ipython3",
   "version": "3.9.7"
  },
  "orig_nbformat": 4
 },
 "nbformat": 4,
 "nbformat_minor": 2
}
