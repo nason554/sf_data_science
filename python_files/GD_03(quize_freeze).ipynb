{
 "cells": [
  {
   "cell_type": "markdown",
   "metadata": {},
   "source": [
    "Подключаем библиотеки"
   ]
  },
  {
   "cell_type": "code",
   "execution_count": 1,
   "metadata": {},
   "outputs": [],
   "source": [
    "import pandas as pd"
   ]
  },
  {
   "cell_type": "markdown",
   "metadata": {},
   "source": [
    "Загружаем нужные файлов для работы"
   ]
  },
  {
   "cell_type": "code",
   "execution_count": 2,
   "metadata": {},
   "outputs": [],
   "source": [
    "events = pd.read_csv('gd3/events.csv', sep=',')\n",
    "events_df = events.copy()\n",
    "\n",
    "purchase = pd.read_csv('gd3/purchase.csv', sep=',')\n",
    "purchase_df = purchase.copy()"
   ]
  },
  {
   "cell_type": "markdown",
   "metadata": {},
   "source": [
    "Из всего массива данных для каждого файла отбираем данные за 2018 год и проводим преобразование типов, где это необходимо"
   ]
  },
  {
   "cell_type": "code",
   "execution_count": 3,
   "metadata": {},
   "outputs": [
    {
     "name": "stdout",
     "output_type": "stream",
     "text": [
      "<class 'pandas.core.frame.DataFrame'>\n",
      "Int64Index: 66959 entries, 51405 to 118364\n",
      "Data columns (total 6 columns):\n",
      " #   Column          Non-Null Count  Dtype         \n",
      "---  ------          --------------  -----         \n",
      " 0   id              66959 non-null  int64         \n",
      " 1   event_type      66959 non-null  object        \n",
      " 2   selected_level  8342 non-null   object        \n",
      " 3   start_time      66959 non-null  datetime64[ns]\n",
      " 4   tutorial_id     32954 non-null  float64       \n",
      " 5   user_id         66959 non-null  int64         \n",
      "dtypes: datetime64[ns](1), float64(1), int64(2), object(2)\n",
      "memory usage: 3.6+ MB\n"
     ]
    },
    {
     "name": "stderr",
     "output_type": "stream",
     "text": [
      "C:\\Users\\nason\\AppData\\Local\\Programs\\Python\\Python310\\lib\\site-packages\\pandas\\core\\generic.py:5516: SettingWithCopyWarning: \n",
      "A value is trying to be set on a copy of a slice from a DataFrame.\n",
      "Try using .loc[row_indexer,col_indexer] = value instead\n",
      "\n",
      "See the caveats in the documentation: https://pandas.pydata.org/pandas-docs/stable/user_guide/indexing.html#returning-a-view-versus-a-copy\n",
      "  self[name] = value\n"
     ]
    }
   ],
   "source": [
    "cond = (events_df.start_time>='2018-01-01') & (events_df.start_time<'2019-01-01') & (events_df.event_type=='registration')\n",
    "registered = events_df[cond]['user_id'].to_list()\n",
    "events_2018 = events_df[events_df.user_id.isin(registered)]\n",
    "events_2018.start_time = pd.to_datetime(events_2018.start_time, format='%Y-%m-%dT%H:%M:%S')\n",
    "events_2018.info()"
   ]
  },
  {
   "cell_type": "code",
   "execution_count": 4,
   "metadata": {},
   "outputs": [
    {
     "name": "stdout",
     "output_type": "stream",
     "text": [
      "<class 'pandas.core.frame.DataFrame'>\n",
      "Int64Index: 1600 entries, 1171 to 2778\n",
      "Data columns (total 4 columns):\n",
      " #   Column          Non-Null Count  Dtype         \n",
      "---  ------          --------------  -----         \n",
      " 0   id              1600 non-null   int64         \n",
      " 1   user_id         1600 non-null   int64         \n",
      " 2   event_datetime  1600 non-null   datetime64[ns]\n",
      " 3   amount          1600 non-null   int64         \n",
      "dtypes: datetime64[ns](1), int64(3)\n",
      "memory usage: 62.5 KB\n"
     ]
    }
   ],
   "source": [
    "cond2 = (purchase_df.event_datetime>='2018-01-01') & (purchase_df.event_datetime<'2019-01-01')\n",
    "registered2 = purchase_df[cond2]['user_id'].to_list()\n",
    "purchase_2018 = purchase_df[purchase_df.user_id.isin(registered)]\n",
    "purchase_2018.event_datetime = pd.to_datetime(purchase_2018.event_datetime, format='%Y-%m-%dT%H:%M:%S')\n",
    "purchase_2018.info()"
   ]
  },
  {
   "cell_type": "code",
   "execution_count": 5,
   "metadata": {},
   "outputs": [
    {
     "data": {
      "text/html": [
       "<div>\n",
       "<style scoped>\n",
       "    .dataframe tbody tr th:only-of-type {\n",
       "        vertical-align: middle;\n",
       "    }\n",
       "\n",
       "    .dataframe tbody tr th {\n",
       "        vertical-align: top;\n",
       "    }\n",
       "\n",
       "    .dataframe thead th {\n",
       "        text-align: right;\n",
       "    }\n",
       "</style>\n",
       "<table border=\"1\" class=\"dataframe\">\n",
       "  <thead>\n",
       "    <tr style=\"text-align: right;\">\n",
       "      <th></th>\n",
       "      <th>id</th>\n",
       "      <th>event_type</th>\n",
       "      <th>selected_level</th>\n",
       "      <th>start_time</th>\n",
       "      <th>tutorial_id</th>\n",
       "      <th>user_id</th>\n",
       "    </tr>\n",
       "  </thead>\n",
       "  <tbody>\n",
       "    <tr>\n",
       "      <th>51405</th>\n",
       "      <td>80308</td>\n",
       "      <td>registration</td>\n",
       "      <td>NaN</td>\n",
       "      <td>2018-01-01 03:48:40</td>\n",
       "      <td>NaN</td>\n",
       "      <td>27832</td>\n",
       "    </tr>\n",
       "    <tr>\n",
       "      <th>51406</th>\n",
       "      <td>80309</td>\n",
       "      <td>registration</td>\n",
       "      <td>NaN</td>\n",
       "      <td>2018-01-01 04:07:25</td>\n",
       "      <td>NaN</td>\n",
       "      <td>27833</td>\n",
       "    </tr>\n",
       "    <tr>\n",
       "      <th>51407</th>\n",
       "      <td>80310</td>\n",
       "      <td>registration</td>\n",
       "      <td>NaN</td>\n",
       "      <td>2018-01-01 08:35:10</td>\n",
       "      <td>NaN</td>\n",
       "      <td>27834</td>\n",
       "    </tr>\n",
       "    <tr>\n",
       "      <th>51408</th>\n",
       "      <td>80311</td>\n",
       "      <td>registration</td>\n",
       "      <td>NaN</td>\n",
       "      <td>2018-01-01 11:54:47</td>\n",
       "      <td>NaN</td>\n",
       "      <td>27835</td>\n",
       "    </tr>\n",
       "    <tr>\n",
       "      <th>51409</th>\n",
       "      <td>80312</td>\n",
       "      <td>registration</td>\n",
       "      <td>NaN</td>\n",
       "      <td>2018-01-01 13:28:07</td>\n",
       "      <td>NaN</td>\n",
       "      <td>27836</td>\n",
       "    </tr>\n",
       "  </tbody>\n",
       "</table>\n",
       "</div>"
      ],
      "text/plain": [
       "          id    event_type selected_level          start_time  tutorial_id  \\\n",
       "51405  80308  registration            NaN 2018-01-01 03:48:40          NaN   \n",
       "51406  80309  registration            NaN 2018-01-01 04:07:25          NaN   \n",
       "51407  80310  registration            NaN 2018-01-01 08:35:10          NaN   \n",
       "51408  80311  registration            NaN 2018-01-01 11:54:47          NaN   \n",
       "51409  80312  registration            NaN 2018-01-01 13:28:07          NaN   \n",
       "\n",
       "       user_id  \n",
       "51405    27832  \n",
       "51406    27833  \n",
       "51407    27834  \n",
       "51408    27835  \n",
       "51409    27836  "
      ]
     },
     "execution_count": 5,
     "metadata": {},
     "output_type": "execute_result"
    }
   ],
   "source": [
    "events_2018.head()"
   ]
  },
  {
   "cell_type": "code",
   "execution_count": 6,
   "metadata": {},
   "outputs": [
    {
     "data": {
      "text/html": [
       "<div>\n",
       "<style scoped>\n",
       "    .dataframe tbody tr th:only-of-type {\n",
       "        vertical-align: middle;\n",
       "    }\n",
       "\n",
       "    .dataframe tbody tr th {\n",
       "        vertical-align: top;\n",
       "    }\n",
       "\n",
       "    .dataframe thead th {\n",
       "        text-align: right;\n",
       "    }\n",
       "</style>\n",
       "<table border=\"1\" class=\"dataframe\">\n",
       "  <thead>\n",
       "    <tr style=\"text-align: right;\">\n",
       "      <th></th>\n",
       "      <th>id</th>\n",
       "      <th>user_id</th>\n",
       "      <th>event_datetime</th>\n",
       "      <th>amount</th>\n",
       "    </tr>\n",
       "  </thead>\n",
       "  <tbody>\n",
       "    <tr>\n",
       "      <th>1171</th>\n",
       "      <td>16845</td>\n",
       "      <td>27845</td>\n",
       "      <td>2018-01-03 18:53:43</td>\n",
       "      <td>100</td>\n",
       "    </tr>\n",
       "    <tr>\n",
       "      <th>1172</th>\n",
       "      <td>16846</td>\n",
       "      <td>27865</td>\n",
       "      <td>2018-01-04 14:46:10</td>\n",
       "      <td>250</td>\n",
       "    </tr>\n",
       "    <tr>\n",
       "      <th>1174</th>\n",
       "      <td>16848</td>\n",
       "      <td>27911</td>\n",
       "      <td>2018-01-07 08:19:12</td>\n",
       "      <td>50</td>\n",
       "    </tr>\n",
       "    <tr>\n",
       "      <th>1175</th>\n",
       "      <td>16849</td>\n",
       "      <td>27910</td>\n",
       "      <td>2018-01-07 12:11:34</td>\n",
       "      <td>100</td>\n",
       "    </tr>\n",
       "    <tr>\n",
       "      <th>1176</th>\n",
       "      <td>16850</td>\n",
       "      <td>27940</td>\n",
       "      <td>2018-01-07 13:16:41</td>\n",
       "      <td>200</td>\n",
       "    </tr>\n",
       "  </tbody>\n",
       "</table>\n",
       "</div>"
      ],
      "text/plain": [
       "         id  user_id      event_datetime  amount\n",
       "1171  16845    27845 2018-01-03 18:53:43     100\n",
       "1172  16846    27865 2018-01-04 14:46:10     250\n",
       "1174  16848    27911 2018-01-07 08:19:12      50\n",
       "1175  16849    27910 2018-01-07 12:11:34     100\n",
       "1176  16850    27940 2018-01-07 13:16:41     200"
      ]
     },
     "execution_count": 6,
     "metadata": {},
     "output_type": "execute_result"
    }
   ],
   "source": [
    "purchase_2018.head()"
   ]
  },
  {
   "cell_type": "markdown",
   "metadata": {},
   "source": [
    "Переименуем колонки с одинаковыми именами (id) и сделаем объединенный датафрейм"
   ]
  },
  {
   "cell_type": "code",
   "execution_count": 7,
   "metadata": {},
   "outputs": [
    {
     "data": {
      "text/html": [
       "<div>\n",
       "<style scoped>\n",
       "    .dataframe tbody tr th:only-of-type {\n",
       "        vertical-align: middle;\n",
       "    }\n",
       "\n",
       "    .dataframe tbody tr th {\n",
       "        vertical-align: top;\n",
       "    }\n",
       "\n",
       "    .dataframe thead th {\n",
       "        text-align: right;\n",
       "    }\n",
       "</style>\n",
       "<table border=\"1\" class=\"dataframe\">\n",
       "  <thead>\n",
       "    <tr style=\"text-align: right;\">\n",
       "      <th></th>\n",
       "      <th>event_id</th>\n",
       "      <th>event_type</th>\n",
       "      <th>selected_level</th>\n",
       "      <th>start_time</th>\n",
       "      <th>tutorial_id</th>\n",
       "      <th>user_id</th>\n",
       "      <th>purchase_id</th>\n",
       "      <th>event_datetime</th>\n",
       "      <th>amount</th>\n",
       "    </tr>\n",
       "  </thead>\n",
       "  <tbody>\n",
       "    <tr>\n",
       "      <th>51405</th>\n",
       "      <td>80308.0</td>\n",
       "      <td>registration</td>\n",
       "      <td>NaN</td>\n",
       "      <td>2018-01-01 03:48:40</td>\n",
       "      <td>NaN</td>\n",
       "      <td>27832</td>\n",
       "      <td>NaN</td>\n",
       "      <td>NaT</td>\n",
       "      <td>NaN</td>\n",
       "    </tr>\n",
       "    <tr>\n",
       "      <th>51406</th>\n",
       "      <td>80309.0</td>\n",
       "      <td>registration</td>\n",
       "      <td>NaN</td>\n",
       "      <td>2018-01-01 04:07:25</td>\n",
       "      <td>NaN</td>\n",
       "      <td>27833</td>\n",
       "      <td>NaN</td>\n",
       "      <td>NaT</td>\n",
       "      <td>NaN</td>\n",
       "    </tr>\n",
       "    <tr>\n",
       "      <th>51407</th>\n",
       "      <td>80310.0</td>\n",
       "      <td>registration</td>\n",
       "      <td>NaN</td>\n",
       "      <td>2018-01-01 08:35:10</td>\n",
       "      <td>NaN</td>\n",
       "      <td>27834</td>\n",
       "      <td>NaN</td>\n",
       "      <td>NaT</td>\n",
       "      <td>NaN</td>\n",
       "    </tr>\n",
       "    <tr>\n",
       "      <th>51408</th>\n",
       "      <td>80311.0</td>\n",
       "      <td>registration</td>\n",
       "      <td>NaN</td>\n",
       "      <td>2018-01-01 11:54:47</td>\n",
       "      <td>NaN</td>\n",
       "      <td>27835</td>\n",
       "      <td>NaN</td>\n",
       "      <td>NaT</td>\n",
       "      <td>NaN</td>\n",
       "    </tr>\n",
       "    <tr>\n",
       "      <th>51409</th>\n",
       "      <td>80312.0</td>\n",
       "      <td>registration</td>\n",
       "      <td>NaN</td>\n",
       "      <td>2018-01-01 13:28:07</td>\n",
       "      <td>NaN</td>\n",
       "      <td>27836</td>\n",
       "      <td>NaN</td>\n",
       "      <td>NaT</td>\n",
       "      <td>NaN</td>\n",
       "    </tr>\n",
       "  </tbody>\n",
       "</table>\n",
       "</div>"
      ],
      "text/plain": [
       "       event_id    event_type selected_level          start_time  tutorial_id  \\\n",
       "51405   80308.0  registration            NaN 2018-01-01 03:48:40          NaN   \n",
       "51406   80309.0  registration            NaN 2018-01-01 04:07:25          NaN   \n",
       "51407   80310.0  registration            NaN 2018-01-01 08:35:10          NaN   \n",
       "51408   80311.0  registration            NaN 2018-01-01 11:54:47          NaN   \n",
       "51409   80312.0  registration            NaN 2018-01-01 13:28:07          NaN   \n",
       "\n",
       "       user_id  purchase_id event_datetime  amount  \n",
       "51405    27832          NaN            NaT     NaN  \n",
       "51406    27833          NaN            NaT     NaN  \n",
       "51407    27834          NaN            NaT     NaN  \n",
       "51408    27835          NaN            NaT     NaN  \n",
       "51409    27836          NaN            NaT     NaN  "
      ]
     },
     "execution_count": 7,
     "metadata": {},
     "output_type": "execute_result"
    }
   ],
   "source": [
    "events_2018 = events_2018.rename(columns={\"id\": \"event_id\"})\n",
    "purchase_2018 = purchase_2018.rename(columns={\"id\": \"purchase_id\"})\n",
    "total_events_2018 = pd.concat([events_2018,purchase_2018],sort=False)\n",
    "total_events_2018.head()"
   ]
  },
  {
   "cell_type": "markdown",
   "metadata": {},
   "source": [
    "Определим существующие типы сложностей, которые можно выбрать"
   ]
  },
  {
   "cell_type": "code",
   "execution_count": 8,
   "metadata": {},
   "outputs": [
    {
     "data": {
      "text/plain": [
       "array([nan, 'medium', 'hard', 'easy'], dtype=object)"
      ]
     },
     "execution_count": 8,
     "metadata": {},
     "output_type": "execute_result"
    }
   ],
   "source": [
    "total_events_2018['selected_level'].unique()"
   ]
  },
  {
   "cell_type": "markdown",
   "metadata": {},
   "source": [
    "Теперь, видя какие существуют типы сложности, создадим группы группы пользователей в зависимости от выбранной сложности"
   ]
  },
  {
   "cell_type": "code",
   "execution_count": 9,
   "metadata": {},
   "outputs": [],
   "source": [
    "users_with_easy_level_2018 = total_events_2018[total_events_2018['selected_level'] == 'easy']['user_id'].unique()\n",
    "users_with_medium_level_2018 = total_events_2018[total_events_2018['selected_level'] == 'medium']['user_id'].unique()\n",
    "users_with_hard_level_2018 = total_events_2018[total_events_2018['selected_level'] == 'hard']['user_id'].unique()"
   ]
  },
  {
   "cell_type": "markdown",
   "metadata": {},
   "source": [
    "Определим для каждой группы процент пользователей, оплативших пакеты вопросов"
   ]
  },
  {
   "cell_type": "code",
   "execution_count": 11,
   "metadata": {},
   "outputs": [
    {
     "name": "stdout",
     "output_type": "stream",
     "text": [
      "Процент пользователей, оплативших пакеты вопросов и выбравших уровень сложности easy: 7.72%\n",
      "Процент пользователей, оплативших пакеты вопросов и выбравших уровень сложности medium: 20.86%\n",
      "Процент пользователей, оплативших пакеты вопросов и выбравших уровень сложности hard: 35.39%\n"
     ]
    }
   ],
   "source": [
    "user_groups_2018 = [\n",
    "    {'easy': users_with_easy_level_2018},\n",
    "    {'medium': users_with_medium_level_2018},\n",
    "    {'hard': users_with_hard_level_2018}\n",
    "]\n",
    "\n",
    "for group in user_groups_2018:\n",
    "    selected_level = list(group.keys())[0]\n",
    "    group_users = group[selected_level]\n",
    "    count_of_users_in_group = len(group_users)\n",
    "    purchase_2018_slice = purchase_2018[purchase_2018['user_id'].isin(group_users)]\n",
    "    percent_of_purchase = purchase_2018_slice['user_id'].nunique()/count_of_users_in_group\n",
    "    print ('Процент пользователей, оплативших пакеты вопросов и выбравших уровень сложности {}: {:.2%}'.format(selected_level,percent_of_purchase))"
   ]
  },
  {
   "cell_type": "markdown",
   "metadata": {},
   "source": [
    "Определим для каждой группы среднее время между событиями оплаты и выбором уровня сложности"
   ]
  },
  {
   "cell_type": "code",
   "execution_count": 12,
   "metadata": {},
   "outputs": [
    {
     "name": "stdout",
     "output_type": "stream",
     "text": [
      "Среднее время между выбором уровня сложности и оплатой для пользователей, выбравших уровень сложности easy: 3 days 14:58:52.941798941\n",
      "Среднее время между выбором уровня сложности и оплатой для пользователей, выбравших уровень сложности medium: 3 days 23:14:13.165118679\n",
      "Среднее время между выбором уровня сложности и оплатой для пользователей, выбравших уровень сложности hard: 3 days 07:20:41.420814479\n"
     ]
    }
   ],
   "source": [
    "user_groups_2018 = [\n",
    "    {'easy': users_with_easy_level_2018},\n",
    "    {'medium': users_with_medium_level_2018},\n",
    "    {'hard': users_with_hard_level_2018}\n",
    "]\n",
    "\n",
    "for group in user_groups_2018:\n",
    "    level = list(group.keys())[0]\n",
    "    group_users = group[level]\n",
    "    purchase_2018_slice = purchase_2018[purchase_2018['user_id'].isin(group_users)]\n",
    "    level_choice_2018 = total_events_2018[(total_events_2018['event_type'] == 'level_choice') & (total_events_2018['user_id'].isin(group_users))]\n",
    "    if (level_choice_2018['user_id'].value_counts().mean()) == 1:\n",
    "        level_choice_2018 = level_choice_2018[['user_id','start_time']].rename(columns={'start_time':'level_choice_time'})\n",
    "        purchase_2018_slice_2 = purchase_2018_slice[['user_id','event_datetime']].rename(columns={'event_datetime':'purchase_time'})\n",
    "        merged_2018 = purchase_2018_slice_2.merge(level_choice_2018,on='user_id',how='inner')\n",
    "        merged_2018['timedelta'] = merged_2018['purchase_time'] - merged_2018['level_choice_time']\n",
    "        mean_time = merged_2018['timedelta'].mean()\n",
    "        print ('Среднее время между выбором уровня сложности и оплатой для пользователей, выбравших уровень сложности {}: {}'.format(level,mean_time))"
   ]
  },
  {
   "cell_type": "markdown",
   "metadata": {},
   "source": [
    "Определим существует ли разница во времени между событиями регистрации и оплаты для групп пользователей с разным уровнем сложности"
   ]
  },
  {
   "cell_type": "code",
   "execution_count": 13,
   "metadata": {},
   "outputs": [
    {
     "name": "stdout",
     "output_type": "stream",
     "text": [
      "Среднее время между регистрацией и оплатой для пользователей, выбравших уровень сложности easy: 3 days 22:10:23.211640211\n",
      "Среднее время между регистрацией и оплатой для пользователей, выбравших уровень сложности medium: 4 days 06:12:06.576883384\n",
      "Среднее время между регистрацией и оплатой для пользователей, выбравших уровень сложности hard: 3 days 14:55:19.257918552\n"
     ]
    }
   ],
   "source": [
    "user_groups_2018 = [\n",
    "    {'easy': users_with_easy_level_2018},\n",
    "    {'medium': users_with_medium_level_2018},\n",
    "    {'hard': users_with_hard_level_2018}\n",
    "]\n",
    "\n",
    "for group in user_groups_2018:\n",
    "    level = list(group.keys())[0]\n",
    "    group_users = group[level]\n",
    "    purchase_2018_slice = purchase_2018[purchase_2018['user_id'].isin(group_users)]\n",
    "    registration_2018 = total_events_2018[(total_events_2018['event_type'] == 'registration') & (total_events_2018['user_id'].isin(group_users))]\n",
    "    if (registration_2018['user_id'].value_counts().mean()) == 1:\n",
    "        registration_2018 = registration_2018[['user_id','start_time']].rename(columns={'start_time':'registration_time'})\n",
    "        purchase_2018_slice_2 = purchase_2018_slice[['user_id','event_datetime']].rename(columns={'event_datetime':'purchase_time'})\n",
    "        merged_df = purchase_2018_slice_2.merge(registration_2018,on='user_id',how='inner')\n",
    "        merged_df['timedelta'] = merged_df['purchase_time'] - merged_df['registration_time']\n",
    "        mean_time = merged_df['timedelta'].mean()\n",
    "        print ('Среднее время между регистрацией и оплатой для пользователей, выбравших уровень сложности {}: {}'.format(level,mean_time))"
   ]
  },
  {
   "cell_type": "markdown",
   "metadata": {},
   "source": [
    "### Выводы\n",
    "\n",
    "Пользователей оплативших пакеты вопросов тем больше, чем сложнее уровень они выбрали.\n",
    "\n",
    "Процент пользователей, оплативших пакеты вопросов и выбравших уровень сложности easy: 7.72%. \n",
    "Процент пользователей, оплативших пакеты вопросов и выбравших уровень сложности medium: 20.86%. \n",
    "Процент пользователей, оплативших пакеты вопросов и выбравших уровень сложности hard: 35.39%. \n",
    "\n",
    "\n",
    "Степень вероятности оплаты от выбранного пользователем уровня сложности прослеживается такая.\n",
    "Пользователи, выбравшие уровень сложности hard потратили наименьшее среднее время на принятие решения о покупке. Оно составило 3 дня 7 часов 20 минут.\n",
    "Для пользователей, выбравших  уровень сложности easy на принятие решения о покупке потратили в среднем 3 дня 14 часов 58 минут.\n",
    "Медленнее всех определялись с покупкой пользователи, выбравшие уровень сложности medium. Их среднее время составило 3 дня 23 часа 14 минут.\n",
    "\n",
    "\n",
    "Похожая тенденция наблюдается и между временными событиями регистрации и оплаты для групп пользователей с разным уровнем сложности.\n",
    "Пользователи, выбравшие уровень сложности hard потратили наименьшее среднее время на принятие решения о покупке после регистрации. Оно составило 3 дня 14 часов 55 минут.\n",
    "Пользователи, выбравших  уровень сложности easy на принятие решения о покупке после регистрации потратили в среднем 3 дня 22 часа 10 минут.\n",
    "И пользователи, выбравших  уровень сложности medium на принятие решения о покупке после регистрации потратили в среднем 4 дня 6 часов 12 минут."
   ]
  }
 ],
 "metadata": {
  "interpreter": {
   "hash": "8e7edf456f0b883ca95ab649ed42ec16a61c58bc793f2790a40dcb308665ef39"
  },
  "kernelspec": {
   "display_name": "Python 3.10.0 64-bit",
   "language": "python",
   "name": "python3"
  },
  "language_info": {
   "codemirror_mode": {
    "name": "ipython",
    "version": 3
   },
   "file_extension": ".py",
   "mimetype": "text/x-python",
   "name": "python",
   "nbconvert_exporter": "python",
   "pygments_lexer": "ipython3",
   "version": "3.10.1"
  },
  "orig_nbformat": 4
 },
 "nbformat": 4,
 "nbformat_minor": 2
}
